{
 "cells": [
  {
   "cell_type": "markdown",
   "metadata": {},
   "source": [
    "\n",
    "**Comentario del Revisor**\n",
    "\n",
    "Hola!\n",
    "\n",
    "Soy Juan Manuel Romero, pero siéntete libre de llamarme Juanma. Soy code reviewer en Tripleten y hoy estaré revisando tu entrega.\n",
    "\n",
    "Para simular la dinámica de un ambiente de trabajo, si veo algún error, en primer instancia solo los señalaré, dándote la oportunidad de encontrarlos y corregirlos por tu cuenta. En un trabajo real, el líder de tu equipo hará una dinámica similar. En caso de que no puedas resolver la tarea, te daré una información más precisa en la próxima revisión. \n",
    "\n",
    "Solo un aviso rápido: cuando estés revisando el proyecto, por favor deja mis comentarios originales tal como están. De esta manera, podemos seguir fácilmente el progreso y asegurarnos de que no se nos pase nada por alto. Y, si realizas algún cambio basado en mis comentarios, sería genial si pudieras resaltar esas actualizaciones para que se destaquen.\n",
    "\n",
    "Puedes encontrar mis comentarios en cajas verdes, amarillas o rojas como estas:\n",
    "\n",
    "<div class=\"alert alert-block alert-success\"> \n",
    "<b>Comentario del Revisor</b> <a class=\"tocSkip\"></a>\n",
    "\n",
    "Éxito. Todo se ha hecho correctamente.\n",
    "\n",
    "</div>\n",
    "\n",
    "\n",
    "<div class=\"alert alert-block alert-warning\"> \n",
    "<b>Comentario del Revisor</b> <a class=\"tocSkip\"></a>\n",
    "\n",
    "Observaciones. Algunas recomendaciones.\n",
    "\n",
    "</div> \n",
    "\n",
    "\n",
    "<div class=\"alert alert-block alert-danger\">\n",
    "<b>Comentario del Revisor</b> <a class=\"tocSkip\"></a>\n",
    "\n",
    "Requiere corrección. El bloque requiere algunas correcciones. El trabajo no puede ser aceptado con los comentarios en rojo.\n",
    "\n",
    "</div>\n",
    "\n",
    "Puedes responderme usando esto:\n",
    "\n",
    "<div class=\"alert alert-block alert-info\"> <b>Respuesta del estudiante.</b> <a class=\"tocSkip\"></a> </div>"
   ]
  },
  {
   "cell_type": "markdown",
   "metadata": {},
   "source": [
    "Introducción:\n",
    "\n",
    "Beta Bank enfrenta un problema crítico: cada mes, una parte de sus clientes decide abandonar el banco. Tras un análisis financiero, los banqueros concluyeron que retener a los clientes actuales resulta significativamente más económico que adquirir nuevos. Por ello, surge la necesidad de identificar de manera temprana a los clientes con mayor riesgo de abandonar.\n",
    "\n",
    "El objetivo de este proyecto es desarrollar un modelo de clasificación que permita predecir si un cliente dejará el banco en el corto plazo. Utilizaremos datos históricos sobre el comportamiento de los clientes y la finalización de sus contratos. El éxito del modelo se evaluará en función del valor de la métrica F1, la cual debe ser igual o superior a 0.59 para aprobar la revisión. Adicionalmente, se calculará la métrica AUC-ROC para comparar su desempeño con el valor F1 obtenido."
   ]
  },
  {
   "cell_type": "markdown",
   "metadata": {},
   "source": [
    "1. Descarga y preparación de los datos"
   ]
  },
  {
   "cell_type": "markdown",
   "metadata": {},
   "source": [
    "<div class=\"alert alert-block alert-warning\"> \n",
    "<b>Comentario del Revisor #1</b> <a class=\"tocSkip\"></a>\n",
    "\n",
    "Cuidado con la presentación!\n",
    "\n",
    "- El formato no es el esperado. Recuerda poner correctamente la introducción, títulos, explicaciones, etc.\n",
    "- Las librerías se deben importar TODAS al comienzo, no entre medio del código. Salvo casos muy particulares. \n",
    "\n",
    "</div>"
   ]
  },
  {
   "cell_type": "code",
   "execution_count": 1,
   "metadata": {},
   "outputs": [
    {
     "name": "stdout",
     "output_type": "stream",
     "text": [
      "<class 'pandas.core.frame.DataFrame'>\n",
      "RangeIndex: 10000 entries, 0 to 9999\n",
      "Data columns (total 14 columns):\n",
      " #   Column           Non-Null Count  Dtype  \n",
      "---  ------           --------------  -----  \n",
      " 0   RowNumber        10000 non-null  int64  \n",
      " 1   CustomerId       10000 non-null  int64  \n",
      " 2   Surname          10000 non-null  object \n",
      " 3   CreditScore      10000 non-null  int64  \n",
      " 4   Geography        10000 non-null  object \n",
      " 5   Gender           10000 non-null  object \n",
      " 6   Age              10000 non-null  int64  \n",
      " 7   Tenure           9091 non-null   float64\n",
      " 8   Balance          10000 non-null  float64\n",
      " 9   NumOfProducts    10000 non-null  int64  \n",
      " 10  HasCrCard        10000 non-null  int64  \n",
      " 11  IsActiveMember   10000 non-null  int64  \n",
      " 12  EstimatedSalary  10000 non-null  float64\n",
      " 13  Exited           10000 non-null  int64  \n",
      "dtypes: float64(3), int64(8), object(3)\n",
      "memory usage: 1.1+ MB\n",
      "None\n",
      "   RowNumber  CustomerId   Surname  CreditScore Geography  Gender  Age  \\\n",
      "0          1    15634602  Hargrave          619    France  Female   42   \n",
      "1          2    15647311      Hill          608     Spain  Female   41   \n",
      "2          3    15619304      Onio          502    France  Female   42   \n",
      "3          4    15701354      Boni          699    France  Female   39   \n",
      "4          5    15737888  Mitchell          850     Spain  Female   43   \n",
      "\n",
      "   Tenure    Balance  NumOfProducts  HasCrCard  IsActiveMember  \\\n",
      "0     2.0       0.00              1          1               1   \n",
      "1     1.0   83807.86              1          0               1   \n",
      "2     8.0  159660.80              3          1               0   \n",
      "3     1.0       0.00              2          0               0   \n",
      "4     2.0  125510.82              1          1               1   \n",
      "\n",
      "   EstimatedSalary  Exited  \n",
      "0        101348.88       1  \n",
      "1        112542.58       0  \n",
      "2        113931.57       1  \n",
      "3         93826.63       0  \n",
      "4         79084.10       0  \n",
      "         RowNumber    CustomerId   CreditScore           Age       Tenure  \\\n",
      "count  10000.00000  1.000000e+04  10000.000000  10000.000000  9091.000000   \n",
      "mean    5000.50000  1.569094e+07    650.528800     38.921800     4.997690   \n",
      "std     2886.89568  7.193619e+04     96.653299     10.487806     2.894723   \n",
      "min        1.00000  1.556570e+07    350.000000     18.000000     0.000000   \n",
      "25%     2500.75000  1.562853e+07    584.000000     32.000000     2.000000   \n",
      "50%     5000.50000  1.569074e+07    652.000000     37.000000     5.000000   \n",
      "75%     7500.25000  1.575323e+07    718.000000     44.000000     7.000000   \n",
      "max    10000.00000  1.581569e+07    850.000000     92.000000    10.000000   \n",
      "\n",
      "             Balance  NumOfProducts    HasCrCard  IsActiveMember  \\\n",
      "count   10000.000000   10000.000000  10000.00000    10000.000000   \n",
      "mean    76485.889288       1.530200      0.70550        0.515100   \n",
      "std     62397.405202       0.581654      0.45584        0.499797   \n",
      "min         0.000000       1.000000      0.00000        0.000000   \n",
      "25%         0.000000       1.000000      0.00000        0.000000   \n",
      "50%     97198.540000       1.000000      1.00000        1.000000   \n",
      "75%    127644.240000       2.000000      1.00000        1.000000   \n",
      "max    250898.090000       4.000000      1.00000        1.000000   \n",
      "\n",
      "       EstimatedSalary        Exited  \n",
      "count     10000.000000  10000.000000  \n",
      "mean     100090.239881      0.203700  \n",
      "std       57510.492818      0.402769  \n",
      "min          11.580000      0.000000  \n",
      "25%       51002.110000      0.000000  \n",
      "50%      100193.915000      0.000000  \n",
      "75%      149388.247500      0.000000  \n",
      "max      199992.480000      1.000000  \n",
      "Valores nulos:\n",
      " RowNumber            0\n",
      "CustomerId           0\n",
      "Surname              0\n",
      "CreditScore          0\n",
      "Geography            0\n",
      "Gender               0\n",
      "Age                  0\n",
      "Tenure             909\n",
      "Balance              0\n",
      "NumOfProducts        0\n",
      "HasCrCard            0\n",
      "IsActiveMember       0\n",
      "EstimatedSalary      0\n",
      "Exited               0\n",
      "dtype: int64\n",
      "Duplicados:\n",
      " 0\n"
     ]
    }
   ],
   "source": [
    "import pandas as pd\n",
    "import matplotlib.pyplot as plt\n",
    "import seaborn as sns\n",
    "from sklearn.ensemble import RandomForestClassifier\n",
    "from sklearn.linear_model import LogisticRegression\n",
    "from sklearn.tree import DecisionTreeClassifier\n",
    "from sklearn.metrics import f1_score, roc_auc_score\n",
    "from sklearn.model_selection import train_test_split\n",
    "from sklearn.preprocessing import StandardScaler\n",
    "from sklearn.compose import ColumnTransformer\n",
    "from sklearn.preprocessing import OneHotEncoder\n",
    "from sklearn.metrics import classification_report, confusion_matrix\n",
    "from sklearn.utils import resample\n",
    "\n",
    "\n",
    "# Cargar datos\n",
    "file_path = '/datasets/Churn.csv'\n",
    "data = pd.read_csv(file_path)\n",
    "\n",
    "# Exploración inicial\n",
    "print(data.info())\n",
    "print(data.head())\n",
    "print(data.describe())\n",
    "\n",
    "# Revisar valores nulos y duplicados\n",
    "print(\"Valores nulos:\\n\", data.isnull().sum())\n",
    "print(\"Duplicados:\\n\", data.duplicated().sum())"
   ]
  },
  {
   "cell_type": "markdown",
   "metadata": {},
   "source": [
    "1.1 Explicación del procedimiento para cargar y explorar los datos"
   ]
  },
  {
   "cell_type": "markdown",
   "metadata": {},
   "source": [
    "Carga del archivo CSV en un DataFrame: Utilicé la función pd.read_csv() de la biblioteca pandas para cargar el archivo /datasets/Churn.csv en un DataFrame. Esto permite manejar los datos de forma tabular (filas y columnas) y facilita su análisis y manipulación."
   ]
  },
  {
   "cell_type": "markdown",
   "metadata": {},
   "source": [
    "Exploración inicial del conjunto de datos:\n",
    "\n",
    "info(): Proporciona una descripción general del DataFrame, incluyendo:\n",
    "\n",
    "Número total de filas y columnas.\n",
    "Nombres de las columnas.\n",
    "Tipos de datos en cada columna (int, float, object, etc.).\n",
    "Número de valores no nulos en cada columna.\n",
    "Esto ayuda a identificar si hay datos faltantes o si los tipos de datos necesitan ser ajustados para el análisis."
   ]
  },
  {
   "cell_type": "markdown",
   "metadata": {},
   "source": [
    "head(): Muestra las primeras 5 filas del DataFrame, lo que da una visión rápida de cómo lucen los datos y permite identificar posibles problemas como valores inesperados o errores en los encabezados."
   ]
  },
  {
   "cell_type": "markdown",
   "metadata": {},
   "source": [
    "Usé describe() para calcular estadísticas descriptivas básicas para las columnas numéricas:\n",
    "\n",
    "Media (mean), mediana (50%), desviación estándar (std), valores mínimos (min) y máximos (max), entre otros.\n",
    "Esto ayuda a entender la distribución de los datos y detectar valores atípicos."
   ]
  },
  {
   "cell_type": "markdown",
   "metadata": {},
   "source": [
    "Valores faltantes: Usé isnull().sum() para contar los valores nulos en cada columna. Esto identifica problemas de calidad de datos que requieren limpieza o imputación.\n",
    "\n",
    "Duplicados: Usé duplicated().sum() para verificar si hay filas duplicadas en el DataFrame. Los duplicados pueden afectar negativamente el análisis y los modelos."
   ]
  },
  {
   "cell_type": "markdown",
   "metadata": {},
   "source": [
    "La variable Exited es el objetivo del análisis. Usé value_counts() para contar cuántos clientes se quedaron (0) y cuántos se fueron (1). Esto también ayuda a identificar si hay un desequilibrio de clases, lo que puede requerir técnicas específicas en el modelado."
   ]
  },
  {
   "cell_type": "markdown",
   "metadata": {},
   "source": [
    "1.2 Análisis de la distribución de Tenure y decidir una estrategia adecuada para imputar los valores nulos."
   ]
  },
  {
   "cell_type": "markdown",
   "metadata": {},
   "source": [
    "<div class=\"alert alert-block alert-warning\"> \n",
    "<b>Comentario del Revisor #1</b> <a class=\"tocSkip\"></a>\n",
    "\n",
    "Recuerda importar las librerías al comienzo, y UNA vez.\n",
    "\n",
    "</div>"
   ]
  },
  {
   "cell_type": "code",
   "execution_count": 2,
   "metadata": {},
   "outputs": [
    {
     "data": {
      "image/png": "[encoded data removed]",
      "text/plain": [
       "<Figure size 640x480 with 1 Axes>"
      ]
     },
     "metadata": {},
     "output_type": "display_data"
    },
    {
     "name": "stdout",
     "output_type": "stream",
     "text": [
      "Media de Tenure: 4.997690023099769\n",
      "Mediana de Tenure: 5.0\n",
      "Moda de Tenure: 1.0\n",
      "Valores nulos restantes en 'Tenure': 0\n"
     ]
    }
   ],
   "source": [
    "# Distribución de la columna 'Tenure'\n",
    "data['Tenure'].hist(bins=10, edgecolor='black')\n",
    "plt.title('Distribución de Tenure')\n",
    "plt.xlabel('Tenure')\n",
    "plt.ylabel('Frecuencia')\n",
    "plt.show()\n",
    "\n",
    "# Estadísticas descriptivas\n",
    "mean_tenure = data['Tenure'].mean()\n",
    "median_tenure = data['Tenure'].median()\n",
    "mode_tenure = data['Tenure'].mode()[0]\n",
    "\n",
    "print(f\"Media de Tenure: {mean_tenure}\")\n",
    "print(f\"Mediana de Tenure: {median_tenure}\")\n",
    "print(f\"Moda de Tenure: {mode_tenure}\")\n",
    "\n",
    "# Decisión de imputación\n",
    "# Imputación con la mediana\n",
    "data['Tenure'].fillna(median_tenure, inplace=True)\n",
    "\n",
    "# Confirmación de que no hay valores nulos\n",
    "print(f\"Valores nulos restantes en 'Tenure': {data['Tenure'].isnull().sum()}\")"
   ]
  },
  {
   "cell_type": "markdown",
   "metadata": {},
   "source": [
    "<div class=\"alert alert-block alert-success\"> \n",
    "<b>Comentario del Revisor #1</b> <a class=\"tocSkip\"></a>\n",
    "\n",
    "Buen trabajo eliminando los datos faltantes en la columna Tenure! El manejo adecuado de los valores ausentes es crucial para evitar problemas en el entrenamiento del modelo.\n",
    "\n",
    "</div>"
   ]
  },
  {
   "cell_type": "markdown",
   "metadata": {},
   "source": [
    "El análisis de la columna Tenure ha arrojado los siguientes resultados:\n",
    "\n",
    "Media: 4.9977\n",
    "Mediana: 5.0\n",
    "Moda: 1.0\n",
    "Dado que la mediana (5.0) es una medida robusta frente a valores atípicos, y considerando que no se observa una gran diferencia entre la media y la mediana, se ha optado por imputar los valores nulos de Tenure con la mediana. Esto es apropiado porque la mediana refleja mejor la tendencia central de la distribución."
   ]
  },
  {
   "cell_type": "markdown",
   "metadata": {},
   "source": [
    "1.3 Codificar las variables categóricas en valores numéricos."
   ]
  },
  {
   "cell_type": "code",
   "execution_count": 3,
   "metadata": {},
   "outputs": [
    {
     "name": "stdout",
     "output_type": "stream",
     "text": [
      "   RowNumber  CustomerId   Surname  CreditScore  Age  Tenure    Balance  \\\n",
      "0          1    15634602  Hargrave          619   42     2.0       0.00   \n",
      "1          2    15647311      Hill          608   41     1.0   83807.86   \n",
      "2          3    15619304      Onio          502   42     8.0  159660.80   \n",
      "3          4    15701354      Boni          699   39     1.0       0.00   \n",
      "4          5    15737888  Mitchell          850   43     2.0  125510.82   \n",
      "\n",
      "   NumOfProducts  HasCrCard  IsActiveMember  EstimatedSalary  Exited  \\\n",
      "0              1          1               1        101348.88       1   \n",
      "1              1          0               1        112542.58       0   \n",
      "2              3          1               0        113931.57       1   \n",
      "3              2          0               0         93826.63       0   \n",
      "4              1          1               1         79084.10       0   \n",
      "\n",
      "   Geography_Germany  Geography_Spain  Gender_Male  \n",
      "0                  0                0            0  \n",
      "1                  0                1            0  \n",
      "2                  0                0            0  \n",
      "3                  0                0            0  \n",
      "4                  0                1            0  \n"
     ]
    }
   ],
   "source": [
    "# One-Hot Encoding a la columna 'Geography'\n",
    "data_encoded = pd.get_dummies(data, columns=['Geography', 'Gender'], drop_first=True)\n",
    "\n",
    "# Primeras filas para verificar\n",
    "print(data_encoded.head())"
   ]
  },
  {
   "cell_type": "markdown",
   "metadata": {},
   "source": [
    "<div class=\"alert alert-block alert-success\"> \n",
    "<b>Comentario del Revisor #1</b> <a class=\"tocSkip\"></a>\n",
    "\n",
    "Excelente trabajo utilizando One-Hot Encoding (OHE)! Esta técnica es ideal para convertir variables categóricas en un formato numérico, permitiendo que los modelos de aprendizaje automático puedan procesarlas. OHE asegura que los datos categóricos no introduzcan relaciones ficticias entre variables.\n",
    "\n",
    "Además, usaste correctamente `drop_first=True`, lo que evita la multicolinealidad al eliminar una categoría redundante. Esto ayuda a reducir la dimensionalidad de los datos sin perder información.\n",
    "    \n",
    "<div class=\"alert alert-block alert-warning\"> \n",
    "<b>Comentario del Revisor #1</b> <a class=\"tocSkip\"></a>\n",
    "\n",
    "Sin embargo, no vuelves a utilizar este dataset... Veo que luego vuelves a aplicar ohe a data al hacer la división. \n",
    "    \n",
    "Luego, aplicas transformaciones que no son necesarias. \n",
    "\n",
    "</div>\n",
    "\n",
    "</div>"
   ]
  },
  {
   "cell_type": "markdown",
   "metadata": {},
   "source": [
    "2. Examen del equilibrio de clases. Entrenamiento el modelo sin tener en cuenta el desequilibrio. Descripción breve de los hallazgos."
   ]
  },
  {
   "cell_type": "markdown",
   "metadata": {},
   "source": [
    "2.1 Análisis del equilibrio de clases. Revisión de la distribución de la variable Exited para ver si está desbalanceada."
   ]
  },
  {
   "cell_type": "code",
   "execution_count": 4,
   "metadata": {},
   "outputs": [
    {
     "name": "stdout",
     "output_type": "stream",
     "text": [
      "Distribución de clases:\n",
      "0    7963\n",
      "1    2037\n",
      "Name: Exited, dtype: int64\n"
     ]
    },
    {
     "data": {
      "image/png": "[encoded data removed]",
      "text/plain": [
       "<Figure size 800x500 with 1 Axes>"
      ]
     },
     "metadata": {},
     "output_type": "display_data"
    }
   ],
   "source": [
    "class_counts = data_encoded['Exited'].value_counts()\n",
    "print(\"Distribución de clases:\")\n",
    "print(class_counts)\n",
    "\n",
    "# Visualizar el equilibrio de clases\n",
    "plt.figure(figsize=(8, 5))\n",
    "sns.countplot(x='Exited', data=data)\n",
    "plt.title('Equilibrio de clases en Exited')\n",
    "plt.show()"
   ]
  },
  {
   "cell_type": "markdown",
   "metadata": {},
   "source": [
    "<div class=\"alert alert-block alert-success\"> \n",
    "<b>Comentario del Revisor #1</b> <a class=\"tocSkip\"></a>\n",
    "\n",
    "Excelente! Has estudiado el balance de clases. Este es un paso crucial cuando las clases están desbalanceadas, ya que puede afectar el rendimiento del modelo. Al comprender la distribución de las clases, puedes aplicar técnicas para corregir el desequilibrio.\n",
    "\n",
    "</div>"
   ]
  },
  {
   "cell_type": "markdown",
   "metadata": {},
   "source": [
    "2.2 Preparación de los datos para el modelo. Selección de las características relevantes y la variable objetivo (Exited). División de los datos en variables predictoras (X) y la variable objetivo (y)."
   ]
  },
  {
   "cell_type": "code",
   "execution_count": 5,
   "metadata": {},
   "outputs": [],
   "source": [
    "X = data_encoded.drop(columns=['Exited', 'RowNumber', 'Surname'])\n",
    "y = data_encoded['Exited']"
   ]
  },
  {
   "cell_type": "markdown",
   "metadata": {},
   "source": [
    "<div class=\"alert alert-block alert-success\"> \n",
    "<b>Comentario del Revisor #1</b> <a class=\"tocSkip\"></a>\n",
    "\n",
    "Buen ojo! Eliminaste las columnas innecesarias, lo que ayuda a reducir el ruido en los datos. Estas columnas, como RowNumber, CustomerId y Surname, no aportan información útil para el modelo, por lo que eliminarlas es una excelente decisión.\n",
    "\n",
    "</div>"
   ]
  },
  {
   "cell_type": "markdown",
   "metadata": {},
   "source": [
    "2.3 Dividir los datos en conjunto de entrenamiento, prueba y validación"
   ]
  },
  {
   "cell_type": "code",
   "execution_count": 6,
   "metadata": {},
   "outputs": [
    {
     "name": "stdout",
     "output_type": "stream",
     "text": [
      "Tamaño del conjunto de entrenamiento: 5600\n",
      "Tamaño del conjunto de validación: 1400\n",
      "Tamaño del conjunto de prueba: 3000\n"
     ]
    }
   ],
   "source": [
    "# División inicial (70% Train, 30% Test)\n",
    "X_train, X_test, y_train, y_test = train_test_split(X, y, test_size=0.3, random_state=42)\n",
    "\n",
    "# División del conjunto de entrenamiento (70% Train -> 50% Train, 20% Validación)\n",
    "X_train, X_val, y_train, y_val = train_test_split(X_train, y_train, test_size=0.2, random_state=42)\n",
    "\n",
    "# Verificar las proporciones\n",
    "print(f\"Tamaño del conjunto de entrenamiento: {X_train.shape[0]}\")\n",
    "print(f\"Tamaño del conjunto de validación: {X_val.shape[0]}\")\n",
    "print(f\"Tamaño del conjunto de prueba: {X_test.shape[0]}\")"
   ]
  },
  {
   "cell_type": "markdown",
   "metadata": {},
   "source": [
    "Revisión de la proporción de cada clase para entender la magnitud del desbalance:"
   ]
  },
  {
   "cell_type": "code",
   "execution_count": 7,
   "metadata": {},
   "outputs": [
    {
     "name": "stdout",
     "output_type": "stream",
     "text": [
      "Distribución de clases (proporciones):\n",
      "0    0.7963\n",
      "1    0.2037\n",
      "Name: Exited, dtype: float64\n"
     ]
    },
    {
     "data": {
      "image/png": "[encoded data removed]",
      "text/plain": [
       "<Figure size 800x500 with 1 Axes>"
      ]
     },
     "metadata": {},
     "output_type": "display_data"
    }
   ],
   "source": [
    "# Análisis de la distribución de clases\n",
    "class_counts = data['Exited'].value_counts(normalize=True)\n",
    "print(\"Distribución de clases (proporciones):\")\n",
    "print(class_counts)\n",
    "\n",
    "# Visualización del desbalance de clases\n",
    "plt.figure(figsize=(8, 5))\n",
    "sns.barplot(x=class_counts.index, y=class_counts.values, palette=\"viridis\")\n",
    "plt.title('Distribución de clases en Exited (Proporciones)')\n",
    "plt.xlabel('Clase')\n",
    "plt.ylabel('Proporción')\n",
    "plt.xticks(ticks=[0, 1], labels=['0 (No exit)', '1 (Exit)'])\n",
    "plt.show()"
   ]
  },
  {
   "cell_type": "markdown",
   "metadata": {},
   "source": [
    "Con base en los resultados, el 79.63% de los clientes pertenecen a la clase \"0 (No exit)\" y solo el 20.37% a la clase \"1 (Exit)\". Esto indica un desbalance significativo en las clases, ya que la clase mayoritaria domina ampliamente."
   ]
  },
  {
   "cell_type": "markdown",
   "metadata": {},
   "source": [
    "<div class=\"alert alert-block alert-danger\"> \n",
    "<b>Comentario del Revisor #1</b> <a class=\"tocSkip\"></a>\n",
    "\n",
    "Parece que no consideraste el análisis del balance de clases, un aspecto crucial para evaluar si alguna clase está sobrerrepresentada o subrepresentada. Este desequilibrio puede impactar negativamente las predicciones del modelo, por lo que es fundamental revisar cuidadosamente la distribución de las clases.\n",
    "\n",
    "Además, es importante determinar la magnitud de este desbalance para decidir con precisión qué técnicas aplicar, como _oversampling_ o _downsampling_, y con qué peso emplearlas.\n",
    "</div>"
   ]
  },
  {
   "cell_type": "markdown",
   "metadata": {},
   "source": [
    "<div class=\"alert alert-block alert-success\"> \n",
    "<b>Comentario del Revisor #2</b> <a class=\"tocSkip\"></a>\n",
    "\n",
    "Excelente! Has estudiado el balance de clases. Este es un paso crucial cuando las clases están desbalanceadas, ya que puede afectar el rendimiento del modelo. Al comprender la distribución de las clases, puedes aplicar técnicas para corregir el desequilibrio.\n",
    "\n",
    "</div>"
   ]
  },
  {
   "cell_type": "markdown",
   "metadata": {},
   "source": [
    "2.4 Entrenamiento del modelo sin ajustar por el desbalance"
   ]
  },
  {
   "cell_type": "code",
   "execution_count": 8,
   "metadata": {},
   "outputs": [
    {
     "name": "stdout",
     "output_type": "stream",
     "text": [
      "      CustomerId  CreditScore  Age  Tenure    Balance  NumOfProducts  \\\n",
      "84      15738751          493   46     4.0       0.00              2   \n",
      "7140    15716082          703   39     6.0  152685.40              1   \n",
      "9046    15648178          630   23     4.0  137964.51              1   \n",
      "9031    15742323          541   39     7.0       0.00              2   \n",
      "64      15592461          603   26     4.0  109166.37              1   \n",
      "\n",
      "      HasCrCard  IsActiveMember  EstimatedSalary  Geography_Germany  \\\n",
      "84            1               0          1907.66                  0   \n",
      "7140          0               0        183656.12                  0   \n",
      "9046          0               1        174570.55                  1   \n",
      "9031          1               0         19823.02                  0   \n",
      "64            1               1         92840.67                  1   \n",
      "\n",
      "      Geography_Spain  Gender_Male  \n",
      "84                  0            0  \n",
      "7140                1            1  \n",
      "9046                0            0  \n",
      "9031                0            1  \n",
      "64                  0            1  \n",
      "Reporte de clasificación:\n",
      "              precision    recall  f1-score   support\n",
      "\n",
      "           0       0.88      0.86      0.87      2416\n",
      "           1       0.46      0.51      0.49       584\n",
      "\n",
      "    accuracy                           0.79      3000\n",
      "   macro avg       0.67      0.68      0.68      3000\n",
      "weighted avg       0.80      0.79      0.79      3000\n",
      "\n",
      "Matriz de confusión:\n",
      "[[2070  346]\n",
      " [ 285  299]]\n"
     ]
    }
   ],
   "source": [
    "X_train = pd.get_dummies(X_train, drop_first=True)\n",
    "X_test = pd.get_dummies(X_test, drop_first=True)\n",
    "X_train_cleaned = X_train.drop(columns=['Gender', 'Surname'], errors='ignore')\n",
    "X_test_cleaned = X_test.drop(columns=['Gender', 'Surname'], errors='ignore')\n",
    "\n",
    "\n",
    "print(X_train_cleaned.head())\n",
    "\n",
    "# Crear el modelo\n",
    "model = DecisionTreeClassifier(random_state=42)\n",
    "\n",
    "# Entrenar el modelo\n",
    "model.fit(X_train_cleaned, y_train)\n",
    "\n",
    "# Hacer predicciones\n",
    "y_pred = model.predict(X_test_cleaned)\n",
    "\n",
    "# Evaluar el modelo\n",
    "print(\"Reporte de clasificación:\")\n",
    "print(classification_report(y_test, y_pred))\n",
    "print(\"Matriz de confusión:\")\n",
    "print(confusion_matrix(y_test, y_pred))"
   ]
  },
  {
   "cell_type": "markdown",
   "metadata": {},
   "source": [
    "2.5 Descripción breve de los hallazgos."
   ]
  },
  {
   "cell_type": "markdown",
   "metadata": {},
   "source": [
    "El modelo de árbol de decisión ha arrojado los siguientes resultados:\n",
    "\n",
    "Reporte de Clasificación:\n",
    "Precisión (precision):\n",
    "Para la clase 0 (clientes que no abandonaron): 0.89\n",
    "Para la clase 1 (clientes que abandonaron): 0.49\n",
    "Recuperación (recall):\n",
    "Para la clase 0: 0.86\n",
    "Para la clase 1: 0.56\n",
    "F1-score:\n",
    "Para la clase 0: 0.87\n",
    "Para la clase 1: 0.53\n",
    "Exactitud (accuracy): 0.80 (esto significa que el modelo predijo correctamente el 80% de las veces)\n",
    "Matriz de Confusión:\n",
    "La matriz de confusión es:\n",
    "\n",
    "[\n",
    "1378\n",
    "229\n",
    "171\n",
    "222\n",
    "]\n",
    "[ \n",
    "1378\n",
    "171\n",
    "​\n",
    "  \n",
    "229\n",
    "222\n",
    "​\n",
    " ]\n",
    "\n",
    "1378: Verdaderos negativos (clientes que no abandonaron y fueron clasificados correctamente).\n",
    "\n",
    "229: Falsos positivos (clientes que no abandonaron pero fueron clasificados como abandonados).\n",
    "\n",
    "171: Falsos negativos (clientes que abandonaron pero fueron clasificados como no abandonados).\n",
    "\n",
    "222: Verdaderos positivos (clientes que abandonaron y fueron clasificados correctamente).\n",
    "\n",
    "Análisis:\n",
    "\n",
    "Desbalance de clases: La clase 0 (clientes que no abandonaron) tiene una mayor representación en el modelo. Esto se refleja en la mayor precisión y recall para esta clase, mientras que la clase 1 (clientes que abandonaron) tiene un rendimiento inferior, con una precisión de 0.49 y recall de 0.56.\n",
    "\n",
    "El F1-score para la clase 0 es bastante bueno (0.87), pero para la clase 1 es relativamente bajo (0.53). Esto sugiere que el modelo tiene dificultades para predecir correctamente a los clientes que abandonan, lo cual es común en problemas con clases desbalanceadas."
   ]
  },
  {
   "cell_type": "markdown",
   "metadata": {},
   "source": [
    "3. Mejora de la calidad del modelo. Utilización de al menos dos enfoques para corregir el desequilibrio de clases. Utilización de conjuntos de entrenamiento y validación para encontrar el mejor modelo y el mejor conjunto de parámetros. Entrenamiento de diferentes modelos en los conjuntos de entrenamiento y validación. Hallazgo del mejor. Descripción breve de los hallazgos."
   ]
  },
  {
   "cell_type": "markdown",
   "metadata": {},
   "source": [
    "<div class=\"alert alert-block alert-info\"> <b>Corregí la aplicación de técnicas de balanceo a continuación.</b> <a class=\"tocSkip\"></a> </div>"
   ]
  },
  {
   "cell_type": "markdown",
   "metadata": {},
   "source": [
    "Aplicación de técnicas de balanceo:"
   ]
  },
  {
   "cell_type": "markdown",
   "metadata": {},
   "source": [
    "Primera técnica de balanceo, submuestreo:"
   ]
  },
  {
   "cell_type": "code",
   "execution_count": 9,
   "metadata": {},
   "outputs": [
    {
     "name": "stdout",
     "output_type": "stream",
     "text": [
      "Distribución después de Downsampling:\n",
      "0    1174\n",
      "1    1174\n",
      "Name: Exited, dtype: int64\n"
     ]
    }
   ],
   "source": [
    "# Combinar X_train e y_train para manipularlos juntos\n",
    "train_data = pd.concat([X_train, y_train], axis=1)\n",
    "\n",
    "# Separar las clases\n",
    "majority_class = train_data[train_data['Exited'] == 0]\n",
    "minority_class = train_data[train_data['Exited'] == 1]\n",
    "\n",
    "# Downsampling de la clase mayoritaria\n",
    "majority_downsampled = resample(majority_class,\n",
    "                                 replace=False,\n",
    "                                 n_samples=len(minority_class),\n",
    "                                 random_state=42)\n",
    "\n",
    "# Combinar clases equilibradas\n",
    "balanced_data = pd.concat([majority_downsampled, minority_class])\n",
    "\n",
    "# Separar X e y nuevamente\n",
    "X_train_balanced = balanced_data.drop(columns='Exited')\n",
    "y_train_balanced = balanced_data['Exited']\n",
    "\n",
    "# Verificar la nueva distribución de clases\n",
    "print(\"Distribución después de Downsampling:\")\n",
    "print(y_train_balanced.value_counts())"
   ]
  },
  {
   "cell_type": "markdown",
   "metadata": {},
   "source": [
    "El resultado muestra que el downsampling de la clase mayoritaria se realizó correctamente. Ahora, ambas clases (Exited = 0 y Exited = 1) tienen el mismo número de instancias: 1174, lo cual asegura un balance en el conjunto de entrenamiento."
   ]
  },
  {
   "cell_type": "markdown",
   "metadata": {},
   "source": [
    "Segunda técnica de balanceo, ajuste de pesos en el modelo:"
   ]
  },
  {
   "cell_type": "code",
   "execution_count": 10,
   "metadata": {},
   "outputs": [
    {
     "data": {
      "text/plain": [
       "RandomForestClassifier(class_weight='balanced', random_state=42)"
      ]
     },
     "execution_count": 10,
     "metadata": {},
     "output_type": "execute_result"
    }
   ],
   "source": [
    "model = RandomForestClassifier(class_weight='balanced', random_state=42)\n",
    "model.fit(X_train_balanced, y_train_balanced)"
   ]
  },
  {
   "cell_type": "markdown",
   "metadata": {},
   "source": [
    "<div class=\"alert alert-block alert-warning\"> \n",
    "<b>Comentario del Revisor #2</b> <a class=\"tocSkip\"></a>\n",
    "\n",
    "Aunque aplicas correctamente la técnica, realmente nunca validas este modelo\n",
    "\n",
    "</div>"
   ]
  },
  {
   "cell_type": "markdown",
   "metadata": {},
   "source": [
    "El resultado obtenido indica que el modelo RandomForestClassifier se creó y ajustó correctamente al conjunto de entrenamiento (X_train y y_train). Ahora el modelo está listo para realizar predicciones y evaluaciones."
   ]
  },
  {
   "cell_type": "markdown",
   "metadata": {},
   "source": [
    "4. Entrenamiento y selección del modelo final"
   ]
  },
  {
   "cell_type": "markdown",
   "metadata": {},
   "source": [
    "Definición de los modelos a evaluar:\n",
    "\n",
    "Árbol de decisión (DecisionTreeClassifier)\n",
    "Bosque aleatorio (RandomForestClassifier)\n",
    "Regresión logística (LogisticRegression)"
   ]
  },
  {
   "cell_type": "code",
   "execution_count": 11,
   "metadata": {},
   "outputs": [],
   "source": [
    "# Lista de modelos a evaluar\n",
    "models = {\n",
    "    'Decision Tree': DecisionTreeClassifier(random_state=42),\n",
    "    'Random Forest': RandomForestClassifier(random_state=42),\n",
    "    'Logistic Regression': LogisticRegression(random_state=42, max_iter=1000)\n",
    "}\n",
    "\n",
    "# Variables para almacenar los resultados\n",
    "results = {}"
   ]
  },
  {
   "cell_type": "markdown",
   "metadata": {},
   "source": [
    "Entrenamiento y validación de los modelos:\n",
    "- Entrenamiento de cada modelo con el conjunto balanceado (X_train_balanced y y_train_balanced).\n",
    "- Evaluación del desempeño en el conjunto de validación (X_val y y_val) utilizando:\n",
    "F1-Score como métrica principal.\n",
    "AUC-ROC como métrica secundaria."
   ]
  },
  {
   "cell_type": "code",
   "execution_count": 12,
   "metadata": {},
   "outputs": [
    {
     "name": "stdout",
     "output_type": "stream",
     "text": [
      "Decision Tree: F1-Score = 0.4741, AUC-ROC = 0.6915\n",
      "Random Forest: F1-Score = 0.5566, AUC-ROC = 0.8290\n",
      "Logistic Regression: F1-Score = 0.3324, AUC-ROC = 0.5530\n"
     ]
    }
   ],
   "source": [
    "# Evaluar cada modelo\n",
    "for model_name, model in models.items():\n",
    "    model.fit(X_train_balanced, y_train_balanced)  # Entrenamiento\n",
    "    y_val_pred = model.predict(X_val)             # Predicciones en validación\n",
    "    \n",
    "    # Métricas\n",
    "    f1 = f1_score(y_val, y_val_pred)\n",
    "    roc_auc = roc_auc_score(y_val, model.predict_proba(X_val)[:, 1])\n",
    "    \n",
    "    # Guardar resultados\n",
    "    results[model_name] = {'F1-Score': f1, 'AUC-ROC': roc_auc}\n",
    "    \n",
    "# Mostrar los resultados\n",
    "for model_name, metrics in results.items():\n",
    "    print(f\"{model_name}: F1-Score = {metrics['F1-Score']:.4f}, AUC-ROC = {metrics['AUC-ROC']:.4f}\")"
   ]
  },
  {
   "cell_type": "markdown",
   "metadata": {},
   "source": [
    "Selección del mejor modelo:\n",
    "- El modelo con el F1-Score más alto en validación será seleccionado como el mejor modelo."
   ]
  },
  {
   "cell_type": "code",
   "execution_count": 13,
   "metadata": {},
   "outputs": [
    {
     "name": "stdout",
     "output_type": "stream",
     "text": [
      "\n",
      "El mejor modelo es: Random Forest\n"
     ]
    }
   ],
   "source": [
    "# Seleccionar el mejor modelo basado en F1-Score\n",
    "best_model_name = max(results, key=lambda x: results[x]['F1-Score'])\n",
    "print(f\"\\nEl mejor modelo es: {best_model_name}\")"
   ]
  },
  {
   "cell_type": "markdown",
   "metadata": {},
   "source": [
    "Entrenamiento del modelo final:\n",
    "- Entrenamiento del modelo seleccionado usando los datos completos (X_train_balanced + X_val y y_train_balanced + y_val).\n",
    "Evaluación de su desempeño en el conjunto de prueba (X_test y y_test)."
   ]
  },
  {
   "cell_type": "code",
   "execution_count": 14,
   "metadata": {},
   "outputs": [
    {
     "name": "stdout",
     "output_type": "stream",
     "text": [
      "\n",
      "Desempeño en el conjunto de prueba del modelo final:\n",
      "F1-Score: 0.6088\n",
      "AUC-ROC: 0.8596\n"
     ]
    }
   ],
   "source": [
    "# Entrenar el modelo final con el conjunto completo de entrenamiento (train + val)\n",
    "X_train_full = pd.concat([X_train_balanced, X_val], axis=0)\n",
    "y_train_full = pd.concat([y_train_balanced, y_val], axis=0)\n",
    "\n",
    "final_model = models[best_model_name]\n",
    "final_model.fit(X_train_full, y_train_full)\n",
    "\n",
    "# Evaluar en el conjunto de prueba\n",
    "y_test_pred = final_model.predict(X_test)\n",
    "y_test_proba = final_model.predict_proba(X_test)[:, 1]\n",
    "\n",
    "f1_test = f1_score(y_test, y_test_pred)\n",
    "roc_auc_test = roc_auc_score(y_test, y_test_proba)\n",
    "\n",
    "print(f\"\\nDesempeño en el conjunto de prueba del modelo final:\")\n",
    "print(f\"F1-Score: {f1_test:.4f}\")\n",
    "print(f\"AUC-ROC: {roc_auc_test:.4f}\")"
   ]
  },
  {
   "cell_type": "markdown",
   "metadata": {},
   "source": [
    "<div class=\"alert alert-block alert-success\"> \n",
    "<b>Comentario del Revisor #2</b> <a class=\"tocSkip\"></a>\n",
    "\n",
    "Genial! Has alcanzado una métrica F1 superior al 0.59. Esta métrica es muy útil en situaciones con clases desbalanceadas, ya que considera tanto la precisión como la exhaustividad (recall) del modelo.\n",
    "\n",
    "</div>"
   ]
  },
  {
   "cell_type": "markdown",
   "metadata": {},
   "source": [
    "Análisis:\n",
    "Los resultados muestran que el modelo ajustado de Random Forest supera el umbral requerido de F1 ≥ 0.59, con un F1-Score de 0.6088 y un AUC-ROC de 0.8596 en el conjunto de prueba. Esto indica que el modelo no solo cumple con las expectativas, sino que también tiene un desempeño sólido en términos de discriminación de clases.\n",
    "\n",
    "F1-Score:\n",
    "\n",
    "Refleja un buen equilibrio entre precisión y sensibilidad, especialmente considerando que los datos estaban desbalanceados originalmente.\n",
    "Este valor demuestra que el modelo es capaz de identificar correctamente a los clientes propensos a abandonar el banco sin generar una cantidad excesiva de falsos positivos.\n",
    "AUC-ROC:\n",
    "\n",
    "Un valor de 0.8596 indica que el modelo tiene una excelente capacidad para distinguir entre las clases (clientes que permanecen vs. clientes que abandonan).\n",
    "Esto es un gran indicador de la eficacia del modelo en contextos donde ambas clases son importantes."
   ]
  },
  {
   "cell_type": "markdown",
   "metadata": {},
   "source": [
    "<div class=\"alert alert-block alert-success\"> \n",
    "<b>Comentario del Revisor #2</b> <a class=\"tocSkip\"></a>\n",
    "\n",
    "Excelente! Estudiaste la métrica AUC-ROC, que es una de las mejores métricas para evaluar modelos de clasificación binaria. Un buen AUC-ROC indica que el modelo es capaz de distinguir correctamente entre las clases.\n",
    "\n",
    "</div>"
   ]
  },
  {
   "cell_type": "markdown",
   "metadata": {},
   "source": [
    "\n",
    "<div class=\"alert alert-block alert-success\"> \n",
    "<b>Comentario del Revisor #1</b> <a class=\"tocSkip\"></a>\n",
    "\n",
    "Hola Emilio! \n",
    "\n",
    "Primero que nada, decirte que lamento el error al corregir tu trabajo en la primer iteración. Surgió un problema técnico en la plataforma y no guardó todas mis respuestas. Por esto, vuelvo a poner alguna de ellas y tomo esto como la primer iteración. \n",
    "    \n",
    "Luego de esta explicación, he de decir que tienes un muy buen trabajo. Aunque aún quedan elementos por revisar. \n",
    "\n",
    "<div class=\"alert alert-block alert-danger\">\n",
    "<b>Comentario del Revisor #1</b> <a class=\"tocSkip\"></a>\n",
    "\n",
    "Te he dejado algunos comentarios, pero para poder darlo por aprobado debes completar los pasos de la siguiente lista que no estan marcados como completos:\n",
    "\n",
    "</div>\n",
    "\n",
    "- [ ]  Evita realizar las mismas transformaciones mas veces de las necesarias.\n",
    "- [ ]  Análisis de las clases.\n",
    "    - [x]  Se ha estudiado el balance de clases.\n",
    "    - [ ]  Se han utilizado al menos 2 técnicas para combatir el desequilibrio de las clases (por ejemplo: weight adjustment, upsampling, downsampling).\n",
    "    - [ ]  Los resultados del estudio han sido documentados.\n",
    "- [ ]  Se ha estudiado la métrica *F1* con **al menos 0.59**.\n",
    "- [ ]  Se ha estudiado la métrica *AUC-ROC*.\n",
    "    \n",
    "    \n",
    "Toma lo siguiente como un esquema del proceso a realizar:\n",
    "    \n",
    "<div class=\"alert alert-block alert-warning\"> \n",
    "<b>Comentario del Revisor #1</b> <a class=\"tocSkip\"></a>\n",
    "\n",
    "- **Preparación de los Datos**: En este paso, se realiza la recolección y limpieza de los datos, que puede incluir tareas como eliminar valores atípicos, manejar valores nulos y escalar variables según sea necesario. El objetivo es tener un conjunto de datos de calidad y bien formateado para alimentar el modelo.\n",
    "    \n",
    "- **División de los Conjuntos de Datos**: Una vez preparados los datos, se procede a dividirlos en tres conjuntos principales:\n",
    "    \n",
    "    - **Conjunto de Entrenamiento (Train)**: Se usa para entrenar el modelo y ajustar sus parámetros.\n",
    "    - **Conjunto de Validación**: Este se emplea para comparar y ajustar diferentes modelos y realizar el _tuning_ de hiperparámetros. Ayuda a identificar el modelo con mejor rendimiento.\n",
    "    - **Conjunto de Prueba (Test)**: Se reserva exclusivamente para evaluar el modelo final al término del proceso, validando así los resultados obtenidos y verificando que el modelo cumple con las métricas esperadas, como el valor de F1.\n",
    "\n",
    "- **Análisis de Balance de Clases**: Es importante revisar si las clases están balanceadas, en particular la clase de interés ('exited' en este caso). Si una clase es significativamente mayor en número que la otra, el modelo podría sesgarse hacia la clase mayoritaria, lo que dificulta su capacidad de predecir la clase minoritaria.\n",
    "    \n",
    "- **Aplicación de Técnicas de Balanceo (si es necesario)**: Si se detecta un desbalance, es recomendable aplicar y probar al menos dos técnicas de balanceo, como:\n",
    "    \n",
    "    - **Sobremuestreo**: Aumenta la cantidad de datos de la clase minoritaria.\n",
    "    - **Submuestreo**: Reduce la cantidad de datos de la clase mayoritaria.\n",
    "    - **Métodos de balanceo integrados en el modelo**: Algunos algoritmos permiten ajustar el peso de las clases directamente.\n",
    "    \n",
    "    IMPORTANTE: El balanceo debe aplicarse solo en el conjunto de entrenamiento y nunca en los conjuntos de validación o prueba, para mantener la evaluación final lo más imparcial posible.\n",
    "    \n",
    "- **Entrenamiento y Selección del Modelo Final**: Con el conjunto de entrenamiento balanceado, se sigue el flujo estándar: se selecciona el mejor modelo basado en los resultados de validación, se entrena usando el conjunto de entrenamiento completo y, finalmente, se evalúa el rendimiento del modelo usando el conjunto de prueba.\n",
    "\n",
    "</div>\n",
    "\n",
    "</div>"
   ]
  },
  {
   "cell_type": "markdown",
   "metadata": {},
   "source": [
    "\n",
    "<div class=\"alert alert-block alert-success\"> \n",
    "<b>Comentario del Revisor #2</b> <a class=\"tocSkip\"></a>\n",
    "\n",
    "Felicidades Emilio! Tu trabajo es excelente \n",
    "\n",
    "<div class=\"alert alert-block alert-warning\"> \n",
    "<b>Comentario del Revisor #1</b> <a class=\"tocSkip\"></a>\n",
    "\n",
    "Aunque realmente has validado una sola técnica, ya que el modelo en el que usas class_weights nunca lo validas.\n",
    "\n",
    "</div>\n",
    "\n",
    "Pero tu trabajo general es muy correcto.\n",
    "    \n",
    "Has completado todos los items necesarios para aprobar la entrega.\n",
    "\n",
    "</div>"
   ]
  }
 ],
 "metadata": {
  "ExecuteTimeLog": [
   {
    "duration": 51,
    "start_time": "2024-12-10T18:12:02.939Z"
   },
   {
    "duration": 5,
    "start_time": "2024-12-10T18:12:19.860Z"
   },
   {
    "duration": 5,
    "start_time": "2024-12-10T18:12:36.404Z"
   },
   {
    "duration": 4,
    "start_time": "2024-12-10T18:13:12.585Z"
   },
   {
    "duration": 4,
    "start_time": "2024-12-10T18:13:31.281Z"
   },
   {
    "duration": 2135,
    "start_time": "2024-12-10T18:32:49.215Z"
   },
   {
    "duration": 146,
    "start_time": "2024-12-10T18:33:09.620Z"
   },
   {
    "duration": 124,
    "start_time": "2024-12-10T18:33:17.900Z"
   },
   {
    "duration": 113,
    "start_time": "2024-12-10T18:33:40.163Z"
   },
   {
    "duration": 5,
    "start_time": "2024-12-10T18:34:13.575Z"
   },
   {
    "duration": 4,
    "start_time": "2024-12-10T18:49:51.051Z"
   },
   {
    "duration": 18,
    "start_time": "2024-12-10T18:50:08.903Z"
   },
   {
    "duration": 511,
    "start_time": "2024-12-10T18:50:32.428Z"
   },
   {
    "duration": 4,
    "start_time": "2024-12-10T18:53:04.346Z"
   },
   {
    "duration": 3,
    "start_time": "2024-12-10T18:53:11.142Z"
   },
   {
    "duration": 137,
    "start_time": "2024-12-10T18:53:44.919Z"
   },
   {
    "duration": 103,
    "start_time": "2024-12-10T18:54:14.467Z"
   },
   {
    "duration": 15,
    "start_time": "2024-12-10T18:57:21.506Z"
   },
   {
    "duration": 41,
    "start_time": "2024-12-10T18:58:02.277Z"
   },
   {
    "duration": 327,
    "start_time": "2024-12-10T18:58:14.974Z"
   },
   {
    "duration": 286,
    "start_time": "2024-12-10T18:58:15.304Z"
   },
   {
    "duration": 22,
    "start_time": "2024-12-10T18:58:15.592Z"
   },
   {
    "duration": 472,
    "start_time": "2024-12-10T18:58:15.616Z"
   },
   {
    "duration": 4,
    "start_time": "2024-12-10T18:58:16.090Z"
   },
   {
    "duration": 182,
    "start_time": "2024-12-10T18:58:16.096Z"
   },
   {
    "duration": 188,
    "start_time": "2024-12-10T18:58:16.280Z"
   },
   {
    "duration": 36,
    "start_time": "2024-12-10T18:58:56.131Z"
   },
   {
    "duration": 4,
    "start_time": "2024-12-10T18:59:52.661Z"
   },
   {
    "duration": 33,
    "start_time": "2024-12-10T19:00:49.081Z"
   },
   {
    "duration": 468,
    "start_time": "2024-12-10T19:02:00.895Z"
   },
   {
    "duration": 69,
    "start_time": "2024-12-10T19:02:52.768Z"
   },
   {
    "duration": 4,
    "start_time": "2024-12-10T19:04:01.538Z"
   },
   {
    "duration": 940,
    "start_time": "2024-12-11T23:40:15.127Z"
   },
   {
    "duration": 55,
    "start_time": "2024-12-12T17:01:29.948Z"
   },
   {
    "duration": 24,
    "start_time": "2024-12-12T17:48:23.012Z"
   },
   {
    "duration": 2423,
    "start_time": "2024-12-12T17:49:21.307Z"
   },
   {
    "duration": 766,
    "start_time": "2024-12-12T17:49:32.559Z"
   },
   {
    "duration": 217,
    "start_time": "2024-12-12T17:49:49.659Z"
   },
   {
    "duration": 57,
    "start_time": "2024-12-12T17:49:53.460Z"
   },
   {
    "duration": 1676,
    "start_time": "2024-12-12T17:50:08.034Z"
   },
   {
    "duration": 3654,
    "start_time": "2024-12-12T17:54:45.554Z"
   },
   {
    "duration": 2764,
    "start_time": "2024-12-12T17:56:55.270Z"
   },
   {
    "duration": 155,
    "start_time": "2024-12-16T17:24:13.472Z"
   },
   {
    "duration": 333,
    "start_time": "2024-12-16T17:25:01.889Z"
   },
   {
    "duration": 2035,
    "start_time": "2024-12-16T17:25:02.225Z"
   },
   {
    "duration": 11,
    "start_time": "2024-12-16T17:25:04.262Z"
   },
   {
    "duration": 495,
    "start_time": "2024-12-16T17:25:04.274Z"
   },
   {
    "duration": 4,
    "start_time": "2024-12-16T17:25:04.771Z"
   },
   {
    "duration": 141,
    "start_time": "2024-12-16T17:25:04.777Z"
   },
   {
    "duration": 303,
    "start_time": "2024-12-16T17:25:04.919Z"
   },
   {
    "duration": 0,
    "start_time": "2024-12-16T17:25:05.225Z"
   },
   {
    "duration": 0,
    "start_time": "2024-12-16T17:25:05.226Z"
   },
   {
    "duration": 0,
    "start_time": "2024-12-16T17:25:05.228Z"
   },
   {
    "duration": 14,
    "start_time": "2024-12-16T17:25:54.615Z"
   },
   {
    "duration": 13,
    "start_time": "2024-12-16T17:26:06.652Z"
   },
   {
    "duration": 76,
    "start_time": "2024-12-16T17:26:11.655Z"
   },
   {
    "duration": 27,
    "start_time": "2024-12-16T17:26:23.094Z"
   },
   {
    "duration": 13,
    "start_time": "2024-12-16T17:26:27.943Z"
   },
   {
    "duration": 33,
    "start_time": "2024-12-16T17:28:02.289Z"
   },
   {
    "duration": 33,
    "start_time": "2024-12-16T17:28:06.367Z"
   },
   {
    "duration": 75,
    "start_time": "2024-12-16T17:29:22.708Z"
   },
   {
    "duration": 59,
    "start_time": "2024-12-16T17:29:51.418Z"
   },
   {
    "duration": 24,
    "start_time": "2024-12-16T17:30:06.063Z"
   },
   {
    "duration": 31,
    "start_time": "2024-12-16T17:31:43.280Z"
   },
   {
    "duration": 27,
    "start_time": "2024-12-16T17:34:07.456Z"
   },
   {
    "duration": 25,
    "start_time": "2024-12-16T17:34:32.731Z"
   },
   {
    "duration": 23,
    "start_time": "2024-12-16T17:35:16.100Z"
   },
   {
    "duration": 842,
    "start_time": "2024-12-16T17:36:22.504Z"
   },
   {
    "duration": 27,
    "start_time": "2024-12-16T17:37:47.549Z"
   },
   {
    "duration": 724,
    "start_time": "2024-12-16T17:45:23.286Z"
   },
   {
    "duration": 28,
    "start_time": "2024-12-16T17:46:31.174Z"
   },
   {
    "duration": 24,
    "start_time": "2024-12-16T17:54:17.455Z"
   },
   {
    "duration": 10,
    "start_time": "2024-12-16T17:55:08.610Z"
   },
   {
    "duration": 336,
    "start_time": "2024-12-16T17:55:13.593Z"
   },
   {
    "duration": 4,
    "start_time": "2024-12-16T17:55:48.638Z"
   },
   {
    "duration": 18,
    "start_time": "2024-12-16T17:56:48.484Z"
   },
   {
    "duration": 31,
    "start_time": "2024-12-16T17:57:01.373Z"
   },
   {
    "duration": 31,
    "start_time": "2024-12-16T17:57:49.993Z"
   },
   {
    "duration": 508,
    "start_time": "2024-12-16T17:58:31.849Z"
   },
   {
    "duration": 3,
    "start_time": "2024-12-16T17:58:54.851Z"
   },
   {
    "duration": 22,
    "start_time": "2024-12-16T17:59:43.419Z"
   },
   {
    "duration": 24,
    "start_time": "2024-12-16T18:00:14.855Z"
   },
   {
    "duration": 26,
    "start_time": "2024-12-16T18:00:42.900Z"
   },
   {
    "duration": 23,
    "start_time": "2024-12-16T18:00:48.341Z"
   },
   {
    "duration": 27,
    "start_time": "2024-12-16T18:01:00.291Z"
   },
   {
    "duration": 40,
    "start_time": "2024-12-16T18:01:22.188Z"
   },
   {
    "duration": 3,
    "start_time": "2024-12-16T18:01:50.548Z"
   },
   {
    "duration": 19,
    "start_time": "2024-12-16T18:02:43.576Z"
   },
   {
    "duration": 731,
    "start_time": "2024-12-16T18:02:54.929Z"
   },
   {
    "duration": 7,
    "start_time": "2024-12-17T08:27:26.826Z"
   },
   {
    "duration": 164,
    "start_time": "2024-12-18T19:05:25.792Z"
   },
   {
    "duration": 2804,
    "start_time": "2024-12-18T19:05:59.416Z"
   },
   {
    "duration": 124,
    "start_time": "2024-12-18T19:06:02.222Z"
   },
   {
    "duration": 10,
    "start_time": "2024-12-18T19:06:02.348Z"
   },
   {
    "duration": 116,
    "start_time": "2024-12-18T19:06:02.360Z"
   },
   {
    "duration": 3,
    "start_time": "2024-12-18T19:06:02.479Z"
   },
   {
    "duration": 5,
    "start_time": "2024-12-18T19:06:02.484Z"
   },
   {
    "duration": 117,
    "start_time": "2024-12-18T19:06:02.492Z"
   },
   {
    "duration": 74,
    "start_time": "2024-12-18T19:06:02.610Z"
   },
   {
    "duration": 863,
    "start_time": "2024-12-18T19:06:02.686Z"
   },
   {
    "duration": 809,
    "start_time": "2024-12-18T19:06:03.551Z"
   },
   {
    "duration": 165,
    "start_time": "2024-12-18T19:06:04.362Z"
   },
   {
    "duration": 8,
    "start_time": "2024-12-18T19:14:11.995Z"
   },
   {
    "duration": 161,
    "start_time": "2024-12-18T19:16:51.532Z"
   },
   {
    "duration": 1089,
    "start_time": "2024-12-18T19:17:23.955Z"
   },
   {
    "duration": 131,
    "start_time": "2024-12-18T19:17:25.046Z"
   },
   {
    "duration": 15,
    "start_time": "2024-12-18T19:17:25.179Z"
   },
   {
    "duration": 122,
    "start_time": "2024-12-18T19:17:25.196Z"
   },
   {
    "duration": 6,
    "start_time": "2024-12-18T19:17:25.321Z"
   },
   {
    "duration": 18,
    "start_time": "2024-12-18T19:17:25.328Z"
   },
   {
    "duration": 118,
    "start_time": "2024-12-18T19:17:25.348Z"
   },
   {
    "duration": 244,
    "start_time": "2024-12-18T19:17:25.468Z"
   },
   {
    "duration": 0,
    "start_time": "2024-12-18T19:17:25.714Z"
   },
   {
    "duration": 0,
    "start_time": "2024-12-18T19:17:25.714Z"
   },
   {
    "duration": 0,
    "start_time": "2024-12-18T19:17:25.715Z"
   },
   {
    "duration": 0,
    "start_time": "2024-12-18T19:17:25.716Z"
   },
   {
    "duration": 51,
    "start_time": "2024-12-18T19:19:04.638Z"
   },
   {
    "duration": 12,
    "start_time": "2024-12-18T19:19:37.426Z"
   },
   {
    "duration": 6,
    "start_time": "2024-12-18T19:21:00.510Z"
   },
   {
    "duration": 30,
    "start_time": "2024-12-18T19:21:23.435Z"
   },
   {
    "duration": 6,
    "start_time": "2024-12-18T19:26:01.692Z"
   },
   {
    "duration": 28,
    "start_time": "2024-12-18T19:26:09.215Z"
   },
   {
    "duration": 9,
    "start_time": "2024-12-18T19:26:42.139Z"
   },
   {
    "duration": 1030,
    "start_time": "2024-12-18T19:34:47.426Z"
   },
   {
    "duration": 139,
    "start_time": "2024-12-18T19:34:48.458Z"
   },
   {
    "duration": 12,
    "start_time": "2024-12-18T19:34:48.599Z"
   },
   {
    "duration": 118,
    "start_time": "2024-12-18T19:34:48.613Z"
   },
   {
    "duration": 10,
    "start_time": "2024-12-18T19:34:48.734Z"
   },
   {
    "duration": 8,
    "start_time": "2024-12-18T19:34:48.747Z"
   },
   {
    "duration": 125,
    "start_time": "2024-12-18T19:34:48.756Z"
   },
   {
    "duration": 12,
    "start_time": "2024-12-18T19:34:48.882Z"
   },
   {
    "duration": 10,
    "start_time": "2024-12-18T19:34:48.896Z"
   },
   {
    "duration": 182,
    "start_time": "2024-12-18T19:34:48.907Z"
   },
   {
    "duration": 0,
    "start_time": "2024-12-18T19:34:49.091Z"
   },
   {
    "duration": 0,
    "start_time": "2024-12-18T19:34:49.092Z"
   },
   {
    "duration": 0,
    "start_time": "2024-12-18T19:34:49.093Z"
   },
   {
    "duration": 0,
    "start_time": "2024-12-18T19:34:49.095Z"
   },
   {
    "duration": 11,
    "start_time": "2024-12-18T19:36:50.345Z"
   },
   {
    "duration": 1033,
    "start_time": "2024-12-18T19:36:55.533Z"
   },
   {
    "duration": 126,
    "start_time": "2024-12-18T19:36:56.568Z"
   },
   {
    "duration": 12,
    "start_time": "2024-12-18T19:36:56.696Z"
   },
   {
    "duration": 116,
    "start_time": "2024-12-18T19:36:56.709Z"
   },
   {
    "duration": 14,
    "start_time": "2024-12-18T19:36:56.828Z"
   },
   {
    "duration": 9,
    "start_time": "2024-12-18T19:36:56.844Z"
   },
   {
    "duration": 116,
    "start_time": "2024-12-18T19:36:56.854Z"
   },
   {
    "duration": 12,
    "start_time": "2024-12-18T19:36:56.971Z"
   },
   {
    "duration": 8,
    "start_time": "2024-12-18T19:36:56.984Z"
   },
   {
    "duration": 591,
    "start_time": "2024-12-18T19:36:56.994Z"
   },
   {
    "duration": 56,
    "start_time": "2024-12-18T19:36:57.587Z"
   },
   {
    "duration": 830,
    "start_time": "2024-12-18T19:36:57.645Z"
   },
   {
    "duration": 879,
    "start_time": "2024-12-18T19:36:58.477Z"
   },
   {
    "duration": 165,
    "start_time": "2024-12-18T19:36:59.359Z"
   },
   {
    "duration": 27,
    "start_time": "2024-12-18T19:37:30.215Z"
   },
   {
    "duration": 3,
    "start_time": "2024-12-18T19:39:28.737Z"
   },
   {
    "duration": 13,
    "start_time": "2024-12-18T19:41:47.161Z"
   },
   {
    "duration": 93,
    "start_time": "2024-12-18T19:43:54.769Z"
   },
   {
    "duration": 4,
    "start_time": "2024-12-18T19:44:05.555Z"
   },
   {
    "duration": 7,
    "start_time": "2024-12-18T19:44:20.323Z"
   },
   {
    "duration": 103,
    "start_time": "2024-12-18T19:44:32.894Z"
   },
   {
    "duration": 11,
    "start_time": "2024-12-18T19:44:41.421Z"
   },
   {
    "duration": 551,
    "start_time": "2024-12-18T19:44:46.000Z"
   },
   {
    "duration": 260,
    "start_time": "2024-12-18T19:57:41.723Z"
   },
   {
    "duration": 273,
    "start_time": "2024-12-18T19:58:01.320Z"
   },
   {
    "duration": 14,
    "start_time": "2024-12-18T20:14:08.690Z"
   },
   {
    "duration": 265,
    "start_time": "2024-12-18T20:15:35.252Z"
   },
   {
    "duration": 269,
    "start_time": "2024-12-18T20:16:02.765Z"
   },
   {
    "duration": 3,
    "start_time": "2024-12-18T20:18:52.545Z"
   },
   {
    "duration": 2708,
    "start_time": "2024-12-19T16:21:07.046Z"
   },
   {
    "duration": 122,
    "start_time": "2024-12-19T16:21:09.757Z"
   },
   {
    "duration": 10,
    "start_time": "2024-12-19T16:21:09.880Z"
   },
   {
    "duration": 112,
    "start_time": "2024-12-19T16:21:09.892Z"
   },
   {
    "duration": 4,
    "start_time": "2024-12-19T16:21:10.013Z"
   },
   {
    "duration": 8,
    "start_time": "2024-12-19T16:21:10.018Z"
   },
   {
    "duration": 167,
    "start_time": "2024-12-19T16:21:10.028Z"
   },
   {
    "duration": 57,
    "start_time": "2024-12-19T16:21:10.197Z"
   },
   {
    "duration": 9,
    "start_time": "2024-12-19T16:21:10.256Z"
   },
   {
    "duration": 280,
    "start_time": "2024-12-19T16:21:10.267Z"
   },
   {
    "duration": 865,
    "start_time": "2024-12-19T16:21:10.549Z"
   },
   {
    "duration": 806,
    "start_time": "2024-12-19T16:21:11.419Z"
   },
   {
    "duration": 174,
    "start_time": "2024-12-19T16:21:12.227Z"
   },
   {
    "duration": 3,
    "start_time": "2024-12-19T16:34:26.857Z"
   },
   {
    "duration": 36,
    "start_time": "2024-12-19T16:35:16.930Z"
   },
   {
    "duration": 1028,
    "start_time": "2024-12-19T16:37:49.255Z"
   },
   {
    "duration": 127,
    "start_time": "2024-12-19T16:37:50.285Z"
   },
   {
    "duration": 11,
    "start_time": "2024-12-19T16:37:50.414Z"
   },
   {
    "duration": 113,
    "start_time": "2024-12-19T16:37:50.427Z"
   },
   {
    "duration": 4,
    "start_time": "2024-12-19T16:37:50.541Z"
   },
   {
    "duration": 7,
    "start_time": "2024-12-19T16:37:50.547Z"
   },
   {
    "duration": 117,
    "start_time": "2024-12-19T16:37:50.556Z"
   },
   {
    "duration": 57,
    "start_time": "2024-12-19T16:37:50.675Z"
   },
   {
    "duration": 10,
    "start_time": "2024-12-19T16:37:50.734Z"
   },
   {
    "duration": 285,
    "start_time": "2024-12-19T16:37:50.746Z"
   },
   {
    "duration": 3,
    "start_time": "2024-12-19T16:37:51.033Z"
   },
   {
    "duration": 377,
    "start_time": "2024-12-19T16:37:51.038Z"
   },
   {
    "duration": 3,
    "start_time": "2024-12-19T16:39:17.246Z"
   },
   {
    "duration": 484,
    "start_time": "2024-12-19T16:39:47.645Z"
   }
  ],
  "kernelspec": {
   "display_name": "Python 3 (ipykernel)",
   "language": "python",
   "name": "python3"
  },
  "language_info": {
   "codemirror_mode": {
    "name": "ipython",
    "version": 3
   },
   "file_extension": ".py",
   "mimetype": "text/x-python",
   "name": "python",
   "nbconvert_exporter": "python",
   "pygments_lexer": "ipython3",
   "version": "3.9.19"
  },
  "toc": {
   "base_numbering": 1,
   "nav_menu": {},
   "number_sections": true,
   "sideBar": true,
   "skip_h1_title": true,
   "title_cell": "Table of Contents",
   "title_sidebar": "Contents",
   "toc_cell": false,
   "toc_position": {},
   "toc_section_display": true,
   "toc_window_display": false
  }
 },
 "nbformat": 4,
 "nbformat_minor": 2
}
