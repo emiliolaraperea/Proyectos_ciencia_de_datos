{
 "cells": [
  {
   "cell_type": "markdown",
   "metadata": {},
   "source": [
    "<b>¡Hola Emilio!</b>\n",
    "\n",
    "Mi nombre es Alejandro Abia y tengo el gusto de revisar tu proyecto.\n",
    "\n",
    "A continuación, encontrarás mis comentarios en celdas pintadas de tres colores (verde, amarillo y rojo), a manera de semáforo. Por favor, <b>no las borres ni muevas de posición</b> mientras dure el proceso de revisión.\n",
    "\n",
    "<div class=\"alert alert-block alert-success\">\n",
    "<b>Éxito</b> <a class=\"tocSkip\"></a>\n",
    "En celdas verdes encontrarás comentarios en relación a tus aciertos y fortalezas.\n",
    "</div>\n",
    "<div class=\"alert alert-block alert-warning\">\n",
    "<b>Antención</b> <a class=\"tocSkip\"></a>\n",
    "Utilizaré el color amarillo para llamar tu atención, expresar algo importante o compartirte alguna idea de valor.\n",
    "</div>\n",
    "<div class=\"alert alert-block alert-danger\">\n",
    "<b>A resolver</b> <a class=\"tocSkip\"></a>\n",
    "En rojo emitiré aquellos puntos que deberás atender para aprobar la revisión.\n",
    "</div>\n",
    "<div class=\"alert alert-block alert-info\">\n",
    "<b>Comentario estudiante</b><a class=\"tocSkip\"></a>\n",
    "Es factible que, a lo largo del proceso de revisión, quieras dejarme comentarios. Si es el caso, por favor realízalo dentro de celdas azules como esta.\n",
    "</div>\n",
    "Respecto del proceso de revisión, tu proyecto será aceptado una vez que los comentarios en rojo hayan sido atendidos.\n",
    "¡Empecemos!\n",
    "\n",
    "______________"
   ]
  },
  {
   "cell_type": "markdown",
   "metadata": {
    "id": "3rYiDeEH0q0f"
   },
   "source": [
    "# ¿Cuál es la mejor tarifa?\n",
    "\n",
    "Trabajas como analista para el operador de telecomunicaciones Megaline. La empresa ofrece a sus clientes dos tarifas de prepago, Surf y Ultimate. El departamento comercial quiere saber cuál de las tarifas genera más ingresos para poder ajustar el presupuesto de publicidad.\n",
    "\n",
    "Vas a realizar un análisis preliminar de las tarifas basado en una selección de clientes relativamente pequeña. Tendrás los datos de 500 clientes de Megaline: quiénes son los clientes, de dónde son, qué tarifa usan, así como la cantidad de llamadas que hicieron y los mensajes de texto que enviaron en 2018. Tu trabajo es analizar el comportamiento de los clientes y determinar qué tarifa de prepago genera más ingresos."
   ]
  },
  {
   "cell_type": "markdown",
   "metadata": {
    "id": "VNddPNRQ0q0w"
   },
   "source": [
    "[Te proporcionamos algunos comentarios para orientarte mientras completas este proyecto. Pero debes asegurarte de eliminar todos los comentarios entre corchetes antes de entregar tu proyecto.]\n",
    "\n",
    "[Antes de sumergirte en el análisis de datos, explica por tu propia cuenta el propósito del proyecto y las acciones que planeas realizar.]\n",
    "\n",
    "[Ten en cuenta que estudiar, modificar y analizar datos es un proceso iterativo. Es normal volver a los pasos anteriores y corregirlos/ampliarlos para permitir nuevos pasos.]"
   ]
  },
  {
   "cell_type": "markdown",
   "metadata": {
    "id": "MQi4IPy70q0y"
   },
   "source": [
    "## Inicialización"
   ]
  },
  {
   "cell_type": "code",
   "execution_count": 1,
   "metadata": {
    "id": "MtYIuBxu0q0z"
   },
   "outputs": [],
   "source": [
    "import pandas as pd\n",
    "import numpy as np\n",
    "import matplotlib.pyplot as plt\n",
    "import seaborn as sns\n",
    "from scipy import stats as st\n",
    "# Cargar todas las librerías"
   ]
  },
  {
   "cell_type": "markdown",
   "metadata": {},
   "source": [
    "<div class=\"alert alert-block alert-success\">\n",
    "<b>Éxito</b> <a class=\"tocSkip\"></a>\n",
    "Excelente inicio. Has importado todas las bibliotecas necesarias para la manipulación de datos y visualización. Se destaca que has incluido <code>scipy.stats</code>, que es crucial para las pruebas de hipótesis más adelante. </div>\n"
   ]
  },
  {
   "cell_type": "markdown",
   "metadata": {
    "id": "4ysWWC5i0q00"
   },
   "source": [
    "## Cargar datos"
   ]
  },
  {
   "cell_type": "code",
   "execution_count": 2,
   "metadata": {
    "id": "CCqPW7rS0q01"
   },
   "outputs": [
    {
     "name": "stdout",
     "output_type": "stream",
     "text": [
      "         id  user_id   call_date  duration\n",
      "0   1000_93     1000  2018-12-27      8.52\n",
      "1  1000_145     1000  2018-12-27     13.66\n",
      "2  1000_247     1000  2018-12-27     14.48\n",
      "3  1000_309     1000  2018-12-28      5.76\n",
      "4  1000_380     1000  2018-12-30      4.22\n",
      "         id  user_id session_date  mb_used\n",
      "0   1000_13     1000   2018-12-29    89.86\n",
      "1  1000_204     1000   2018-12-31     0.00\n",
      "2  1000_379     1000   2018-12-28   660.40\n",
      "3  1000_413     1000   2018-12-26   270.99\n",
      "4  1000_442     1000   2018-12-27   880.22\n",
      "         id  user_id message_date\n",
      "0  1000_125     1000   2018-12-27\n",
      "1  1000_160     1000   2018-12-31\n",
      "2  1000_223     1000   2018-12-31\n",
      "3  1000_251     1000   2018-12-27\n",
      "4  1000_255     1000   2018-12-26\n",
      "   messages_included  mb_per_month_included  minutes_included  \\\n",
      "0                 50                  15360               500   \n",
      "1               1000                  30720              3000   \n",
      "\n",
      "   usd_monthly_pay  usd_per_gb  usd_per_message  usd_per_minute plan_name  \n",
      "0               20          10             0.03            0.03      surf  \n",
      "1               70           7             0.01            0.01  ultimate  \n",
      "   user_id first_name  last_name  age                                   city  \\\n",
      "0     1000   Anamaria      Bauer   45  Atlanta-Sandy Springs-Roswell, GA MSA   \n",
      "1     1001     Mickey  Wilkerson   28        Seattle-Tacoma-Bellevue, WA MSA   \n",
      "2     1002     Carlee    Hoffman   36   Las Vegas-Henderson-Paradise, NV MSA   \n",
      "3     1003   Reynaldo    Jenkins   52                          Tulsa, OK MSA   \n",
      "4     1004    Leonila   Thompson   40        Seattle-Tacoma-Bellevue, WA MSA   \n",
      "\n",
      "     reg_date      plan churn_date  \n",
      "0  2018-12-24  ultimate        NaN  \n",
      "1  2018-08-13      surf        NaN  \n",
      "2  2018-10-21      surf        NaN  \n",
      "3  2018-01-28      surf        NaN  \n",
      "4  2018-05-23      surf        NaN  \n"
     ]
    }
   ],
   "source": [
    "calls = pd.read_csv('/datasets/megaline_calls.csv')\n",
    "internet = pd.read_csv('/datasets/megaline_internet.csv')\n",
    "messages = pd.read_csv('/datasets/megaline_messages.csv')\n",
    "plans = pd.read_csv('/datasets/megaline_plans.csv')\n",
    "users = pd.read_csv('/datasets/megaline_users.csv')\n",
    "# Visualizar las primeras filas de cada DataFrame para verificar la carga correcta\n",
    "print(calls.head())\n",
    "\n",
    "print(internet.head())\n",
    "\n",
    "print(messages.head())\n",
    "\n",
    "print(plans.head())\n",
    "\n",
    "print(users.head())\n",
    "\n",
    "# Carga los archivos de datos en diferentes DataFrames"
   ]
  },
  {
   "cell_type": "markdown",
   "metadata": {},
   "source": [
    "<div class=\"alert alert-block alert-success\">\n",
    "<b>Éxito</b> <a class=\"tocSkip\"></a>\n",
    "La carga de los archivos se ha realizado correctamente, verificando el contenido de cada DataFrame con <code>head()</code>. Es una excelente práctica para asegurarte de que los datos se han cargado correctamente.</div>\n"
   ]
  },
  {
   "cell_type": "markdown",
   "metadata": {
    "id": "69qqoJ3r0q01"
   },
   "source": [
    "## Preparar los datos"
   ]
  },
  {
   "cell_type": "markdown",
   "metadata": {
    "id": "vUuZw80S0q01"
   },
   "source": [
    "[Los datos para este proyecto se dividen en varias tablas. Explora cada una para tener una comprensión inicial de los datos. Si es necesario, haz las correcciones requeridas en cada tabla.]"
   ]
  },
  {
   "cell_type": "markdown",
   "metadata": {
    "id": "ohBhimvH0q01"
   },
   "source": [
    "## Tarifas"
   ]
  },
  {
   "cell_type": "code",
   "execution_count": 3,
   "metadata": {
    "id": "GptqP3Q40q02"
   },
   "outputs": [
    {
     "name": "stdout",
     "output_type": "stream",
     "text": [
      "<class 'pandas.core.frame.DataFrame'>\n",
      "RangeIndex: 2 entries, 0 to 1\n",
      "Data columns (total 8 columns):\n",
      " #   Column                 Non-Null Count  Dtype  \n",
      "---  ------                 --------------  -----  \n",
      " 0   messages_included      2 non-null      int64  \n",
      " 1   mb_per_month_included  2 non-null      int64  \n",
      " 2   minutes_included       2 non-null      int64  \n",
      " 3   usd_monthly_pay        2 non-null      int64  \n",
      " 4   usd_per_gb             2 non-null      int64  \n",
      " 5   usd_per_message        2 non-null      float64\n",
      " 6   usd_per_minute         2 non-null      float64\n",
      " 7   plan_name              2 non-null      object \n",
      "dtypes: float64(2), int64(5), object(1)\n",
      "memory usage: 256.0+ bytes\n",
      "None\n"
     ]
    }
   ],
   "source": [
    "print(plans.info())\n",
    "# Imprime la información general/resumida sobre el DataFrame de las tarifas"
   ]
  },
  {
   "cell_type": "code",
   "execution_count": 4,
   "metadata": {
    "id": "64xzjwL70q02"
   },
   "outputs": [
    {
     "name": "stdout",
     "output_type": "stream",
     "text": [
      "   messages_included  mb_per_month_included  minutes_included  \\\n",
      "0                 50                  15360               500   \n",
      "1               1000                  30720              3000   \n",
      "\n",
      "   usd_monthly_pay  usd_per_gb  usd_per_message  usd_per_minute plan_name  \n",
      "0               20          10             0.03            0.03      surf  \n",
      "1               70           7             0.01            0.01  ultimate  \n"
     ]
    }
   ],
   "source": [
    "print(plans.head(5))\n",
    "# Imprime una muestra de los datos para las tarifas"
   ]
  },
  {
   "cell_type": "markdown",
   "metadata": {
    "id": "mEc_3_hs0q02"
   },
   "source": [
    "El DataFrame contiene 2 filas y 8 columnas, lo que indica que hay dos planes diferentes: Surf y Ultimate. Las columnas incluyen información sobre los minutos, SMS y datos incluidos en cada plan, así como los costos adicionales por superar los límites. messages_included, mb_per_month_included, minutes_included, usd_monthly_pay, usd_per_gb, usd_per_minute están bien definidos como enteros (int64) para las cantidades y como flotantes (float64) para los costos. La columna plan_name está correctamente clasificada como object (cadena de texto). Todas las columnas tienen 2 valores no nulos, lo que indica que no hay datos faltantes en el DataFrame."
   ]
  },
  {
   "cell_type": "markdown",
   "metadata": {
    "id": "R3C05i1l0q03"
   },
   "source": [
    "## Corregir datos"
   ]
  },
  {
   "cell_type": "markdown",
   "metadata": {
    "id": "bIi8StZI0q03"
   },
   "source": [
    "[Corrige los problemas obvios con los datos basándote en las observaciones iniciales.]"
   ]
  },
  {
   "cell_type": "code",
   "execution_count": null,
   "metadata": {
    "id": "Y7SVmjGn0q03"
   },
   "outputs": [],
   "source": []
  },
  {
   "cell_type": "markdown",
   "metadata": {
    "id": "LJir7bml0q03"
   },
   "source": [
    "## Enriquecer los datos"
   ]
  },
  {
   "cell_type": "markdown",
   "metadata": {
    "id": "eqADpCfg0q04"
   },
   "source": [
    "[Agrega factores adicionales a los datos si crees que pudieran ser útiles.]"
   ]
  },
  {
   "cell_type": "code",
   "execution_count": null,
   "metadata": {
    "id": "gfcIEuXV0q04"
   },
   "outputs": [],
   "source": []
  },
  {
   "cell_type": "markdown",
   "metadata": {
    "id": "1n2X6WXf0q04"
   },
   "source": [
    "## Usuarios/as"
   ]
  },
  {
   "cell_type": "code",
   "execution_count": 5,
   "metadata": {
    "id": "2NgjWFqx0q05"
   },
   "outputs": [
    {
     "name": "stdout",
     "output_type": "stream",
     "text": [
      "<class 'pandas.core.frame.DataFrame'>\n",
      "RangeIndex: 500 entries, 0 to 499\n",
      "Data columns (total 8 columns):\n",
      " #   Column      Non-Null Count  Dtype \n",
      "---  ------      --------------  ----- \n",
      " 0   user_id     500 non-null    int64 \n",
      " 1   first_name  500 non-null    object\n",
      " 2   last_name   500 non-null    object\n",
      " 3   age         500 non-null    int64 \n",
      " 4   city        500 non-null    object\n",
      " 5   reg_date    500 non-null    object\n",
      " 6   plan        500 non-null    object\n",
      " 7   churn_date  34 non-null     object\n",
      "dtypes: int64(2), object(6)\n",
      "memory usage: 31.4+ KB\n",
      "None\n"
     ]
    }
   ],
   "source": [
    "print(users.info())\n",
    "# Imprime la información general/resumida sobre el DataFrame de usuarios\n",
    "\n"
   ]
  },
  {
   "cell_type": "code",
   "execution_count": 6,
   "metadata": {
    "id": "1IN1L9uh0q05"
   },
   "outputs": [
    {
     "name": "stdout",
     "output_type": "stream",
     "text": [
      "   user_id first_name  last_name  age                                   city  \\\n",
      "0     1000   Anamaria      Bauer   45  Atlanta-Sandy Springs-Roswell, GA MSA   \n",
      "1     1001     Mickey  Wilkerson   28        Seattle-Tacoma-Bellevue, WA MSA   \n",
      "2     1002     Carlee    Hoffman   36   Las Vegas-Henderson-Paradise, NV MSA   \n",
      "3     1003   Reynaldo    Jenkins   52                          Tulsa, OK MSA   \n",
      "4     1004    Leonila   Thompson   40        Seattle-Tacoma-Bellevue, WA MSA   \n",
      "\n",
      "     reg_date      plan churn_date  \n",
      "0  2018-12-24  ultimate        NaN  \n",
      "1  2018-08-13      surf        NaN  \n",
      "2  2018-10-21      surf        NaN  \n",
      "3  2018-01-28      surf        NaN  \n",
      "4  2018-05-23      surf        NaN  \n"
     ]
    }
   ],
   "source": [
    "print(users.head())# Imprime una muestra de datos para usuarios\n",
    "\n"
   ]
  },
  {
   "cell_type": "markdown",
   "metadata": {
    "id": "dCZoUq4f0q06"
   },
   "source": [
    "Las columnas reg_date y churn_date están como tipo object. Sería mejor convertir estas columnas a un tipo de dato de fecha (datetime).\n",
    "Parece que las ciudades están representadas con una nomenclatura que incluye áreas metropolitanas con la abreviatura \"MSA\" (Metropolitan Statistical Area) y posiblemente otros componentes adicionales que hacen que el nombre de la ciudad sea más largo y difícil de manejar para el análisis."
   ]
  },
  {
   "cell_type": "markdown",
   "metadata": {
    "id": "BX5FQh_I0q06"
   },
   "source": [
    "### Corregir los datos"
   ]
  },
  {
   "cell_type": "markdown",
   "metadata": {
    "id": "8OdKMwJv0q06"
   },
   "source": [
    "[Corrige los problemas obvios con los datos basándote en las observaciones iniciales.]"
   ]
  },
  {
   "cell_type": "code",
   "execution_count": 7,
   "metadata": {
    "id": "yUqX-K0C0q07"
   },
   "outputs": [],
   "source": [
    "users['reg_date'] = pd.to_datetime(users['reg_date'], format='%Y-%m-%d')\n",
    "users['churn_date'] = pd.to_datetime(users['churn_date'], format='%Y-%m-%d', errors='coerce')"
   ]
  },
  {
   "cell_type": "markdown",
   "metadata": {},
   "source": [
    "<div class=\"alert alert-block alert-success\">\n",
    "<b>Éxito</b> <a class=\"tocSkip\"></a>\n",
    "Has corregido adecuadamente las fechas convirtiéndolas al tipo <code>datetime</code> y manejado los valores nulos en <code>churn_date</code>. Esto es crucial para facilitar el análisis temporal.</div>\n"
   ]
  },
  {
   "cell_type": "markdown",
   "metadata": {
    "id": "ycwuARJp0q07"
   },
   "source": [
    "### Enriquecer los datos"
   ]
  },
  {
   "cell_type": "markdown",
   "metadata": {
    "id": "96NIh4CJ0q08"
   },
   "source": [
    "[Agrega factores adicionales a los datos si crees que pudieran ser útiles.]"
   ]
  },
  {
   "cell_type": "code",
   "execution_count": 8,
   "metadata": {
    "id": "iq0AaBS90q08",
    "scrolled": true
   },
   "outputs": [
    {
     "name": "stdout",
     "output_type": "stream",
     "text": [
      "                       city_name state\n",
      "0  Atlanta-Sandy Springs-Roswell    GA\n",
      "1        Seattle-Tacoma-Bellevue    WA\n",
      "2   Las Vegas-Henderson-Paradise    NV\n",
      "3                          Tulsa    OK\n",
      "4        Seattle-Tacoma-Bellevue    WA\n"
     ]
    }
   ],
   "source": [
    "# Separamos por coma\n",
    "users[['city_name', 'state']] = users['city'].str.split(',', n=1, expand=True)\n",
    "\n",
    "# Limpiamos el campo state eliminando \"MSA\" y espacios en blanco adicionales\n",
    "users['state'] = users['state'].str.replace('MSA', '').str.strip()\n",
    "\n",
    "# Mostramos el resultado\n",
    "print(users[['city_name', 'state']].head())"
   ]
  },
  {
   "cell_type": "markdown",
   "metadata": {},
   "source": [
    "<div class=\"alert alert-block alert-success\">\n",
    "<b>Éxito</b> <a class=\"tocSkip\"></a>\n",
    "La creación de columnas adicionales como <code>city_name</code> y <code>state</code> a partir de la columna <code>city</code> mejora la claridad de los datos. Buena decisión al eliminar \"MSA\", ya que puede interferir con el análisis posterior.</div>\n"
   ]
  },
  {
   "cell_type": "markdown",
   "metadata": {
    "id": "o7MeKCid0q08"
   },
   "source": [
    "## Llamadas"
   ]
  },
  {
   "cell_type": "code",
   "execution_count": 9,
   "metadata": {
    "id": "6dDlnoDm0q08"
   },
   "outputs": [
    {
     "name": "stdout",
     "output_type": "stream",
     "text": [
      "<class 'pandas.core.frame.DataFrame'>\n",
      "RangeIndex: 137735 entries, 0 to 137734\n",
      "Data columns (total 4 columns):\n",
      " #   Column     Non-Null Count   Dtype  \n",
      "---  ------     --------------   -----  \n",
      " 0   id         137735 non-null  object \n",
      " 1   user_id    137735 non-null  int64  \n",
      " 2   call_date  137735 non-null  object \n",
      " 3   duration   137735 non-null  float64\n",
      "dtypes: float64(1), int64(1), object(2)\n",
      "memory usage: 4.2+ MB\n",
      "None\n"
     ]
    }
   ],
   "source": [
    "print(calls.info())\n",
    "# Imprime la información general/resumida sobre el DataFrame de las llamadas\n",
    "\n"
   ]
  },
  {
   "cell_type": "code",
   "execution_count": 10,
   "metadata": {
    "id": "kuh1vlNB0q09"
   },
   "outputs": [
    {
     "name": "stdout",
     "output_type": "stream",
     "text": [
      "         id  user_id   call_date  duration\n",
      "0   1000_93     1000  2018-12-27      8.52\n",
      "1  1000_145     1000  2018-12-27     13.66\n",
      "2  1000_247     1000  2018-12-27     14.48\n",
      "3  1000_309     1000  2018-12-28      5.76\n",
      "4  1000_380     1000  2018-12-30      4.22\n"
     ]
    }
   ],
   "source": [
    "print(calls.head())# Imprime una muestra de datos para las llamadas\n",
    "\n"
   ]
  },
  {
   "cell_type": "markdown",
   "metadata": {
    "id": "DOAxYJSx0q09"
   },
   "source": [
    "La columna call_date está como tipo object. Para realizar análisis temporales, sería mejor convertir esta columna a un tipo de dato de fecha (datetime)."
   ]
  },
  {
   "cell_type": "markdown",
   "metadata": {
    "id": "S7hzxmbX0q0-"
   },
   "source": [
    "### Corregir los datos"
   ]
  },
  {
   "cell_type": "markdown",
   "metadata": {
    "id": "YxWyAjD20q0-"
   },
   "source": [
    "[Corrige los problemas obvios con los datos basándote en las observaciones iniciales.]"
   ]
  },
  {
   "cell_type": "code",
   "execution_count": 11,
   "metadata": {
    "id": "S2r8xA4f0q0-"
   },
   "outputs": [],
   "source": [
    "calls['call_date'] = pd.to_datetime(calls['call_date'])"
   ]
  },
  {
   "cell_type": "markdown",
   "metadata": {
    "id": "KrMgTrlG0q0_"
   },
   "source": [
    "### Enriquecer los datos"
   ]
  },
  {
   "cell_type": "markdown",
   "metadata": {
    "id": "a9MbmEvE0q0_"
   },
   "source": [
    "[Agrega factores adicionales a los datos si crees que pudieran ser útiles.]"
   ]
  },
  {
   "cell_type": "code",
   "execution_count": null,
   "metadata": {
    "id": "iZ1avpA_0q0_"
   },
   "outputs": [],
   "source": []
  },
  {
   "cell_type": "markdown",
   "metadata": {
    "id": "mOUZSi180q0_"
   },
   "source": [
    "## Mensajes"
   ]
  },
  {
   "cell_type": "code",
   "execution_count": 12,
   "metadata": {
    "id": "R-bYJpdV0q1A"
   },
   "outputs": [
    {
     "name": "stdout",
     "output_type": "stream",
     "text": [
      "<class 'pandas.core.frame.DataFrame'>\n",
      "RangeIndex: 76051 entries, 0 to 76050\n",
      "Data columns (total 3 columns):\n",
      " #   Column        Non-Null Count  Dtype \n",
      "---  ------        --------------  ----- \n",
      " 0   id            76051 non-null  object\n",
      " 1   user_id       76051 non-null  int64 \n",
      " 2   message_date  76051 non-null  object\n",
      "dtypes: int64(1), object(2)\n",
      "memory usage: 1.7+ MB\n",
      "None\n"
     ]
    }
   ],
   "source": [
    "print(messages.info())# Imprime la información general/resumida sobre el DataFrame de los mensajes\n",
    "\n"
   ]
  },
  {
   "cell_type": "code",
   "execution_count": 13,
   "metadata": {
    "id": "mCEl2iGE0q1A"
   },
   "outputs": [
    {
     "name": "stdout",
     "output_type": "stream",
     "text": [
      "         id  user_id message_date\n",
      "0  1000_125     1000   2018-12-27\n",
      "1  1000_160     1000   2018-12-31\n",
      "2  1000_223     1000   2018-12-31\n",
      "3  1000_251     1000   2018-12-27\n",
      "4  1000_255     1000   2018-12-26\n"
     ]
    }
   ],
   "source": [
    "print(messages.head())# Imprime una muestra de datos para los mensajes\n",
    "\n"
   ]
  },
  {
   "cell_type": "markdown",
   "metadata": {
    "id": "04xDj7KH0q1A"
   },
   "source": [
    "La fecha en que se envió el mensaje, actualmente almacenada como object. Esto debe convertirse a un tipo de fecha (datetime)."
   ]
  },
  {
   "cell_type": "markdown",
   "metadata": {
    "id": "Sprfak900q1B"
   },
   "source": [
    "### Corregir los datos"
   ]
  },
  {
   "cell_type": "markdown",
   "metadata": {
    "id": "eGw7d9j10q1B"
   },
   "source": [
    "[Corrige los problemas obvios con los datos basándote en las observaciones iniciales.]"
   ]
  },
  {
   "cell_type": "code",
   "execution_count": 14,
   "metadata": {
    "id": "vsllvkoa0q1B"
   },
   "outputs": [],
   "source": [
    "messages['message_date'] = pd.to_datetime(messages['message_date'])"
   ]
  },
  {
   "cell_type": "markdown",
   "metadata": {
    "id": "HvLid7iD0q1B"
   },
   "source": [
    "### Enriquecer los datos"
   ]
  },
  {
   "cell_type": "markdown",
   "metadata": {
    "id": "8nhPFKIe0q1C"
   },
   "source": [
    "[Agrega factores adicionales a los datos si crees que pudieran ser útiles.]"
   ]
  },
  {
   "cell_type": "code",
   "execution_count": null,
   "metadata": {
    "id": "zYEXZac10q1C"
   },
   "outputs": [],
   "source": []
  },
  {
   "cell_type": "markdown",
   "metadata": {
    "id": "bStkaxn40q1C"
   },
   "source": [
    "## Internet"
   ]
  },
  {
   "cell_type": "code",
   "execution_count": 15,
   "metadata": {
    "id": "e-Uz5qyn0q1C"
   },
   "outputs": [
    {
     "name": "stdout",
     "output_type": "stream",
     "text": [
      "<class 'pandas.core.frame.DataFrame'>\n",
      "RangeIndex: 104825 entries, 0 to 104824\n",
      "Data columns (total 4 columns):\n",
      " #   Column        Non-Null Count   Dtype  \n",
      "---  ------        --------------   -----  \n",
      " 0   id            104825 non-null  object \n",
      " 1   user_id       104825 non-null  int64  \n",
      " 2   session_date  104825 non-null  object \n",
      " 3   mb_used       104825 non-null  float64\n",
      "dtypes: float64(1), int64(1), object(2)\n",
      "memory usage: 3.2+ MB\n",
      "None\n"
     ]
    }
   ],
   "source": [
    "print(internet.info())# Imprime la información general/resumida sobre el DataFrame de internet\n",
    "\n"
   ]
  },
  {
   "cell_type": "code",
   "execution_count": 16,
   "metadata": {
    "id": "9r3x_XLw0q1C"
   },
   "outputs": [
    {
     "name": "stdout",
     "output_type": "stream",
     "text": [
      "         id  user_id session_date  mb_used\n",
      "0   1000_13     1000   2018-12-29    89.86\n",
      "1  1000_204     1000   2018-12-31     0.00\n",
      "2  1000_379     1000   2018-12-28   660.40\n",
      "3  1000_413     1000   2018-12-26   270.99\n",
      "4  1000_442     1000   2018-12-27   880.22\n"
     ]
    }
   ],
   "source": [
    "print(internet.head())# Imprime una muestra de datos para el tráfico de internet\n",
    "\n"
   ]
  },
  {
   "cell_type": "markdown",
   "metadata": {
    "id": "EzOG5ik30q1D"
   },
   "source": [
    "La fecha de la sesión, almacenada como object. Debería ser convertida a tipo datetime para facilitar cualquier análisis temporal."
   ]
  },
  {
   "cell_type": "markdown",
   "metadata": {
    "id": "yA0tkPFg0q1D"
   },
   "source": [
    "### Corregir los datos"
   ]
  },
  {
   "cell_type": "markdown",
   "metadata": {
    "id": "zlZMuIEK0q1D"
   },
   "source": [
    "[Corrige los problemas obvios con los datos basándote en las observaciones iniciales.]"
   ]
  },
  {
   "cell_type": "code",
   "execution_count": 17,
   "metadata": {
    "id": "zVeanzdd0q1E"
   },
   "outputs": [],
   "source": [
    "internet['session_date'] = pd.to_datetime(internet['session_date'])"
   ]
  },
  {
   "cell_type": "markdown",
   "metadata": {
    "id": "e8_mLF4a0q1E"
   },
   "source": [
    "### Enriquecer los datos"
   ]
  },
  {
   "cell_type": "markdown",
   "metadata": {
    "id": "xhNdn2tE0q1E"
   },
   "source": [
    "[Agrega factores adicionales a los datos si crees que pudieran ser útiles.]"
   ]
  },
  {
   "cell_type": "code",
   "execution_count": null,
   "metadata": {
    "id": "ESiYPIEK0q1E"
   },
   "outputs": [],
   "source": []
  },
  {
   "cell_type": "markdown",
   "metadata": {
    "id": "3UA2cqIW0q1E"
   },
   "source": [
    "## Estudiar las condiciones de las tarifas"
   ]
  },
  {
   "cell_type": "markdown",
   "metadata": {
    "id": "T86Sqltq0q1F"
   },
   "source": [
    "[Es sumamente importante entender cómo funcionan las tarifas, cómo se les cobra a los usuarios en función de su plan de suscripción. Así que te sugerimos imprimir la información de la tarifa para ver una vez más sus condiciones.]"
   ]
  },
  {
   "cell_type": "code",
   "execution_count": 42,
   "metadata": {
    "id": "i409op8p0q1F",
    "scrolled": true
   },
   "outputs": [
    {
     "name": "stdout",
     "output_type": "stream",
     "text": [
      "<class 'pandas.core.frame.DataFrame'>\n",
      "RangeIndex: 2 entries, 0 to 1\n",
      "Data columns (total 8 columns):\n",
      " #   Column                 Non-Null Count  Dtype  \n",
      "---  ------                 --------------  -----  \n",
      " 0   messages_included      2 non-null      int64  \n",
      " 1   mb_per_month_included  2 non-null      int64  \n",
      " 2   minutes_included       2 non-null      int64  \n",
      " 3   usd_monthly_pay        2 non-null      int64  \n",
      " 4   usd_per_gb             2 non-null      int64  \n",
      " 5   usd_per_message        2 non-null      float64\n",
      " 6   usd_per_minute         2 non-null      float64\n",
      " 7   plan_name              2 non-null      object \n",
      "dtypes: float64(2), int64(5), object(1)\n",
      "memory usage: 256.0+ bytes\n",
      "None\n"
     ]
    }
   ],
   "source": [
    "print(plans.info())# Imprime las condiciones de la tarifa y asegúrate de que te quedan claras"
   ]
  },
  {
   "cell_type": "markdown",
   "metadata": {},
   "source": [
    "<div class=\"alert alert-block alert-warning\">\n",
    "<b>Atención</b> <a class=\"tocSkip\"></a>\n",
    "Sería útil agregar un comentario explicando las diferencias clave entre las tarifas <code>Surf</code> y <code>Ultimate</code> antes de continuar, resaltando los límites y las diferencias en los costos adicionales (por llamadas, mensajes y datos). Esto ayudaría a contextualizar mejor las futuras comparaciones de ingresos.</div>\n",
    "\n",
    "[Comentario]\n",
    "Límites Incluidos\n",
    "Característica\t    Surf\t            Ultimate\n",
    "Minutos Incluidos\t500\t                3000\n",
    "Mensajes Incluidos\t50\t                1000\n",
    "Datos Incluidos(MB) 15,360 MB (15 GB)\t30,720 MB (30 GB)\n",
    "Tarifa Mensual\t    20 USD\t            70 USD\n",
    "\n",
    "Surf ofrece límites más bajos en minutos, mensajes y datos, adecuado para usuarios de bajo consumo.\n",
    "Ultimate ofrece una capacidad significativamente mayor, ideal para usuarios que necesitan más conectividad sin preocuparse por alcanzar límites rápidamente.\n",
    "\n",
    "Concepto\t        Surf (Costo por unidad)\tUltimate (Costo por unidad)\n",
    "Minuto adicional\t0.03 USD\t            0.01 USD\n",
    "Mensaje adicional\t0.03 USD                0.01 USD\n",
    "GB adicional\t      10 USD\t            7 USD\n",
    "\n",
    "Surf: El costo por cada minuto o mensaje adicional es más alto en comparación con Ultimate, lo que puede ser costoso para quienes exceden los límites.\n",
    "Ultimate: Además de mayores beneficios incluidos, los cargos por excedentes son más bajos, lo que lo hace más económico para usuarios intensivos.\n",
    "\n",
    "Surf:\n",
    "Mejor opción para usuarios con necesidades limitadas de minutos, datos y mensajes.\n",
    "Sin embargo, los cargos adicionales pueden incrementar significativamente el costo si el usuario excede los límites.\n",
    "Ultimate:\n",
    "Más adecuado para usuarios intensivos que buscan flexibilidad y tranquilidad con mayores límites.\n",
    "Los cargos más bajos por excedentes hacen que el plan sea más predecible y atractivo para usuarios frecuentes.\n",
    "\n",
    "El plan Surf es más económico y está diseñado para usuarios que pueden controlar su consumo y mantenerse dentro de los límites. En cambio, el plan Ultimate ofrece una mayor cantidad de recursos y menores costos adicionales, lo que lo convierte en la opción preferida para usuarios con altas demandas de comunicación y datos.\n"
   ]
  },
  {
   "cell_type": "markdown",
   "metadata": {
    "id": "hMR1tP5d0q1F"
   },
   "source": [
    "## Agregar datos por usuario\n",
    "\n",
    "[Ahora que los datos están limpios, agrega los datos por usuario y por periodo para que solo haya un registro por usuario y por periodo. Esto facilitará mucho el análisis posterior.]"
   ]
  },
  {
   "cell_type": "code",
   "execution_count": 19,
   "metadata": {
    "id": "A332cedB0q1G"
   },
   "outputs": [
    {
     "name": "stdout",
     "output_type": "stream",
     "text": [
      "      user_id  calls_count  duration_sum      month\n",
      "0        1000           16        116.83 2018-12-01\n",
      "1        1001           27        171.14 2018-08-01\n",
      "2        1001           49        297.69 2018-09-01\n",
      "3        1001           65        374.11 2018-10-01\n",
      "4        1001           64        404.59 2018-11-01\n",
      "...       ...          ...           ...        ...\n",
      "2253     1498           39        324.77 2018-12-01\n",
      "2254     1499           41        330.37 2018-09-01\n",
      "2255     1499           53        363.28 2018-10-01\n",
      "2256     1499           45        288.56 2018-11-01\n",
      "2257     1499           65        468.10 2018-12-01\n",
      "\n",
      "[2258 rows x 4 columns]\n"
     ]
    }
   ],
   "source": [
    "# Calcula el número de llamadas hechas por cada usuario al mes. Guarda el resultado.\n",
    "\n",
    "calls_per_month = calls.groupby(['user_id', calls['call_date'].dt.to_period('M')]).agg(\n",
    "    calls_count=('id', 'count'),  # Conteo de llamadas\n",
    "    duration_sum=('duration', 'sum')  # Suma de duración de las llamadas\n",
    ").reset_index()\n",
    "\n",
    "calls_per_month['month'] = calls_per_month['call_date'].dt.to_timestamp()\n",
    "\n",
    "calls_per_month.drop(columns=['call_date'], inplace=True)\n",
    "\n",
    "print(calls_per_month)"
   ]
  },
  {
   "cell_type": "code",
   "execution_count": 20,
   "metadata": {
    "id": "aw2cmuql0q1G"
   },
   "outputs": [
    {
     "name": "stdout",
     "output_type": "stream",
     "text": [
      "   user_id call_date  total_minutes      month\n",
      "0     1000   2018-12         116.83 2018-12-01\n",
      "1     1001   2018-08         171.14 2018-08-01\n",
      "2     1001   2018-09         297.69 2018-09-01\n",
      "3     1001   2018-10         374.11 2018-10-01\n",
      "4     1001   2018-11         404.59 2018-11-01\n"
     ]
    }
   ],
   "source": [
    "# Calcula la cantidad de minutos usados por cada usuario al mes. Guarda el resultado.\n",
    "# Paso 1: Asegúrate de que la columna 'duration' sea de tipo numérico\n",
    "calls['duration'] = pd.to_numeric(calls['duration'], errors='coerce')\n",
    "\n",
    "# Paso 2: Agrupar por 'user_id' y por mes para calcular la duración total\n",
    "minutes_per_month = calls.groupby(['user_id', calls['call_date'].dt.to_period('M')]).agg(\n",
    "    total_minutes=('duration', 'sum')\n",
    ").reset_index()\n",
    "\n",
    "# Paso 3: Convertir el período a datetime\n",
    "minutes_per_month['month'] = minutes_per_month['call_date'].dt.to_timestamp()\n",
    "\n",
    "# Mostrar el resultado\n",
    "print(minutes_per_month.head())"
   ]
  },
  {
   "cell_type": "code",
   "execution_count": 21,
   "metadata": {
    "id": "CcQvNHn60q1G"
   },
   "outputs": [],
   "source": [
    "# Calcula el número de mensajes enviados por cada usuario al mes. Guarda el resultado.\n",
    "messages_per_month = messages.groupby(['user_id', messages['message_date'].dt.to_period('M')]).agg(\n",
    "    message_count=('id', 'count')  # Número de mensajes\n",
    ").reset_index()\n",
    "\n",
    "# Convertir el período a datetime\n",
    "messages_per_month['month'] = messages_per_month['message_date'].dt.to_timestamp()\n"
   ]
  },
  {
   "cell_type": "code",
   "execution_count": 22,
   "metadata": {
    "id": "H1AqN2eG0q1H"
   },
   "outputs": [],
   "source": [
    "# Calcula el volumen del tráfico de Internet usado por cada usuario al mes. Guarda el resultado.\n",
    "internet_per_month = internet.groupby(['user_id', internet['session_date'].dt.to_period('M')]).agg(\n",
    "    total_mb_used=('mb_used', 'sum')  # Suma de megabytes usados\n",
    ").reset_index()\n",
    "\n",
    "# Convertir el período a datetime\n",
    "internet_per_month['month'] = internet_per_month['session_date'].dt.to_timestamp()"
   ]
  },
  {
   "cell_type": "markdown",
   "metadata": {
    "id": "VDfYXnj80q1H"
   },
   "source": [
    "[Junta los datos agregados en un DataFrame para que haya un registro que represente lo que consumió un usuario único en un mes determinado.]"
   ]
  },
  {
   "cell_type": "code",
   "execution_count": 23,
   "metadata": {
    "id": "FW99ykyf0q1H",
    "scrolled": true
   },
   "outputs": [
    {
     "name": "stdout",
     "output_type": "stream",
     "text": [
      "   user_id  calls_count  duration_sum      month message_date  messages_sent  \\\n",
      "0     1000         16.0        116.83 2018-12-01      2018-12           11.0   \n",
      "1     1001         27.0        171.14 2018-08-01      2018-08           30.0   \n",
      "2     1001         49.0        297.69 2018-09-01      2018-09           44.0   \n",
      "3     1001         65.0        374.11 2018-10-01      2018-10           53.0   \n",
      "4     1001         64.0        404.59 2018-11-01      2018-11           36.0   \n",
      "\n",
      "  session_date   mb_used  \n",
      "0      2018-12   1901.47  \n",
      "1      2018-08   6919.15  \n",
      "2      2018-09  13314.82  \n",
      "3      2018-10  22330.49  \n",
      "4      2018-11  18504.30  \n"
     ]
    }
   ],
   "source": [
    "# Fusiona los datos de llamadas, minutos, mensajes e Internet con base en user_id y month\n",
    "# Unir todos los DataFrames en uno solo utilizando el user_id y month\n",
    "monthly_data = calls_per_month.merge(messages_per_month, on=['user_id', 'month'], how='outer')\n",
    "monthly_data = monthly_data.merge(internet_per_month, on=['user_id', 'month'], how='outer')\n",
    "\n",
    "# Renombrar las columnas para mayor claridad\n",
    "monthly_data.rename(columns={\n",
    "    'call_count': 'calls_made', \n",
    "    'total_minutes': 'total_minutes_used',\n",
    "    'message_count': 'messages_sent', \n",
    "    'total_mb_used': 'mb_used'\n",
    "}, inplace=True)\n",
    "\n",
    "# Imprimir el DataFrame resultante\n",
    "print(monthly_data.head())\n"
   ]
  },
  {
   "cell_type": "markdown",
   "metadata": {},
   "source": [
    "<div class=\"alert alert-block alert-success\">\n",
    "<b>Éxito</b> <a class=\"tocSkip\"></a>\n",
    "Has implementado correctamente la agregación mensual por usuario, uniendo llamadas, mensajes y uso de internet en un solo DataFrame. Esto simplificará el análisis comparativo entre usuarios y tarifas.</div>\n"
   ]
  },
  {
   "cell_type": "code",
   "execution_count": 24,
   "metadata": {
    "id": "0dNOXHag0q1H"
   },
   "outputs": [
    {
     "name": "stdout",
     "output_type": "stream",
     "text": [
      "   user_id  calls_count  duration_sum      month message_date  messages_sent  \\\n",
      "0     1000         16.0        116.83 2018-12-01      2018-12           11.0   \n",
      "1     1001         27.0        171.14 2018-08-01      2018-08           30.0   \n",
      "2     1001         49.0        297.69 2018-09-01      2018-09           44.0   \n",
      "3     1001         65.0        374.11 2018-10-01      2018-10           53.0   \n",
      "4     1001         64.0        404.59 2018-11-01      2018-11           36.0   \n",
      "\n",
      "  session_date   mb_used      plan                                   city  \n",
      "0      2018-12   1901.47  ultimate  Atlanta-Sandy Springs-Roswell, GA MSA  \n",
      "1      2018-08   6919.15      surf        Seattle-Tacoma-Bellevue, WA MSA  \n",
      "2      2018-09  13314.82      surf        Seattle-Tacoma-Bellevue, WA MSA  \n",
      "3      2018-10  22330.49      surf        Seattle-Tacoma-Bellevue, WA MSA  \n",
      "4      2018-11  18504.30      surf        Seattle-Tacoma-Bellevue, WA MSA  \n"
     ]
    }
   ],
   "source": [
    "# Añade la información de la tarifa\n",
    "# Fusiona monthly_data con users para obtener la información del plan\n",
    "monthly_data = monthly_data.merge(users[['user_id', 'plan', 'city']], on='user_id', how='left')\n",
    "\n",
    "# Ahora monthly_data contiene la información del plan para cada usuario\n",
    "print(monthly_data.head())"
   ]
  },
  {
   "cell_type": "markdown",
   "metadata": {
    "id": "1IwGo4wg0q1I"
   },
   "source": [
    "[Calcula los ingresos mensuales por usuario (resta el límite del paquete gratuito del número total de llamadas, mensajes de texto y datos; multiplica el resultado por el valor del plan de llamadas; añade la tarifa mensual en función del plan de llamadas). Nota: Dadas las condiciones del plan, ¡esto podría no ser tan trivial como un par de líneas! Así que no pasa nada si dedicas algo de tiempo a ello.]"
   ]
  },
  {
   "cell_type": "code",
   "execution_count": 25,
   "metadata": {
    "id": "5FGCf_c60q1I"
   },
   "outputs": [
    {
     "name": "stdout",
     "output_type": "stream",
     "text": [
      "   user_id      month  monthly_revenue\n",
      "0     1000 2018-12-01        70.000000\n",
      "1     1001 2018-08-01        58.272949\n",
      "2     1001 2018-09-01       120.730664\n",
      "3     1001 2018-10-01       208.864316\n",
      "4     1001 2018-11-01       171.409180\n"
     ]
    }
   ],
   "source": [
    "# Calcula el ingreso mensual para cada usuario\n",
    "# Definir los límites del paquete gratuito para cada plan\n",
    "limits = {\n",
    "    'surf': {'calls_limit': 500, 'messages_limit': 50, 'data_limit_mb': 3000},\n",
    "    'ultimate': {'calls_limit': float('inf'), 'messages_limit': float('inf'), 'data_limit_mb': float('inf')}\n",
    "}\n",
    "\n",
    "# Calcular ingresos mensuales por usuario\n",
    "def calculate_monthly_revenue(row):\n",
    "    plan = row['plan']\n",
    "    \n",
    "    # Obtener los límites del paquete\n",
    "    calls_limit = limits[plan]['calls_limit']\n",
    "    messages_limit = limits[plan]['messages_limit']\n",
    "    data_limit_mb = limits[plan]['data_limit_mb']\n",
    "    \n",
    "    # Calcular el uso excedente\n",
    "    calls_excess = max(0, row['calls_count'] - calls_limit)\n",
    "    messages_excess = max(0, row['messages_sent'] - messages_limit)\n",
    "    data_excess = max(0, row['mb_used'] - data_limit_mb)\n",
    "\n",
    "    # Calcular el ingreso basado en el uso excedente\n",
    "    revenue = (calls_excess * plans.loc[plans['plan_name'] == plan, 'usd_per_minute'].values[0] +\n",
    "               messages_excess * plans.loc[plans['plan_name'] == plan, 'usd_per_message'].values[0] +\n",
    "               data_excess * plans.loc[plans['plan_name'] == plan, 'usd_per_gb'].values[0] / 1024)  # Convertir MB a GB\n",
    "\n",
    "    # Añadir la tarifa mensual\n",
    "    revenue += plans.loc[plans['plan_name'] == plan, 'usd_monthly_pay'].values[0]\n",
    "    \n",
    "    return revenue\n",
    "\n",
    "# Aplicar la función para calcular los ingresos mensuales y añadirla al DataFrame\n",
    "monthly_data['monthly_revenue'] = monthly_data.apply(calculate_monthly_revenue, axis=1)\n",
    "\n",
    "# Mostrar el resultado\n",
    "print(monthly_data[['user_id', 'month', 'monthly_revenue']].head())\n",
    "\n"
   ]
  },
  {
   "cell_type": "markdown",
   "metadata": {},
   "source": [
    "<div class=\"alert alert-block alert-success\">\n",
    "<b>Éxito</b> <a class=\"tocSkip\"></a>\n",
    "El cálculo de los ingresos mensuales es sólido, has manejado correctamente los excedentes y aplicado las tarifas adicionales según los límites de cada plan. Además, consideraste el pago mensual base en tu cálculo.</div>\n"
   ]
  },
  {
   "cell_type": "markdown",
   "metadata": {
    "id": "-jtyHzJb0q1I"
   },
   "source": [
    "## Estudia el comportamiento de usuario"
   ]
  },
  {
   "cell_type": "markdown",
   "metadata": {
    "id": "AxU3Y0N70q1J"
   },
   "source": [
    "[Calcula algunas estadísticas descriptivas para los datos agregados y fusionados que nos sean útiles y que muestren un panorama general captado por los datos. Dibuja gráficos útiles para facilitar la comprensión. Dado que la tarea principal es comparar las tarifas y decidir cuál es más rentable, las estadísticas y gráficas deben calcularse por tarifa.]\n",
    "\n",
    "[En los comentarios hallarás pistas relevantes para las llamadas, pero no las hay para los mensajes e Internet. Sin embargo, el principio del estudio estadístico que se aplica para ellos es el mismo que para las llamadas.]"
   ]
  },
  {
   "cell_type": "markdown",
   "metadata": {
    "id": "vtW4CJEe0q1J"
   },
   "source": [
    "### Llamadas"
   ]
  },
  {
   "cell_type": "code",
   "execution_count": 26,
   "metadata": {
    "id": "Jf5v5--k0q1J"
   },
   "outputs": [
    {
     "data": {
      "image/png": "[encoded data removed]",
      "text/plain": [
       "<Figure size 1000x600 with 1 Axes>"
      ]
     },
     "metadata": {},
     "output_type": "display_data"
    }
   ],
   "source": [
    "# Compara la duración promedio de llamadas por cada plan y por cada mes. Traza un gráfico de barras para visualizarla.\n",
    "# Agrupar por plan y mes, calculando la duración promedio de las llamadas\n",
    "avg_call_duration = monthly_data.groupby(['plan', 'month'])['duration_sum'].mean().reset_index()\n",
    "\n",
    "# Renombrar la columna para mayor claridad\n",
    "avg_call_duration.columns = ['plan', 'month', 'avg_duration']\n",
    "\n",
    "# Crear el gráfico de barras\n",
    "plt.figure(figsize=(10, 6))\n",
    "\n",
    "# Graficar las barras para cada plan\n",
    "for plan in avg_call_duration['plan'].unique():\n",
    "    data = avg_call_duration[avg_call_duration['plan'] == plan]\n",
    "    plt.bar(data['month'], data['avg_duration'], label=plan)\n",
    "\n",
    "# Añadir títulos y etiquetas\n",
    "plt.title('Duración Promedio de Llamadas por Plan y Mes')\n",
    "plt.xlabel('Mes')\n",
    "plt.ylabel('Duración Promedio de Llamadas (minutos)')\n",
    "plt.xticks(rotation=45)  # Rotar las etiquetas de mes para mejor visibilidad\n",
    "plt.legend(title='Plan')\n",
    "\n",
    "# Mostrar el gráfico\n",
    "plt.tight_layout()\n",
    "plt.show()\n"
   ]
  },
  {
   "cell_type": "markdown",
   "metadata": {},
   "source": [
    "<div class=\"alert alert-block alert-success\">\n",
    "<b>Éxito</b> <a class=\"tocSkip\"></a>\n",
    "Has realizado un análisis descriptivo excelente de los datos de uso (llamadas, mensajes e internet). Los gráficos de barras y líneas ayudan a visualizar las diferencias entre los planes de forma clara.</div>\n"
   ]
  },
  {
   "cell_type": "code",
   "execution_count": 27,
   "metadata": {
    "id": "QoLqW1S_0q1J"
   },
   "outputs": [
    {
     "data": {
      "image/png": "[encoded data removed]",
      "text/plain": [
       "<Figure size 1000x600 with 1 Axes>"
      ]
     },
     "metadata": {},
     "output_type": "display_data"
    }
   ],
   "source": [
    "# Compara el número de minutos mensuales que necesitan los usuarios de cada plan. Traza un histograma.\n",
    "# Crear el gráfico del histograma para cada plan\n",
    "plt.figure(figsize=(10, 6))\n",
    "\n",
    "# Graficar un histograma para el plan 'surf'\n",
    "plt.hist(monthly_data[monthly_data['plan'] == 'surf']['duration_sum'], bins=30, alpha=0.5, label='Surf')\n",
    "\n",
    "# Graficar un histograma para el plan 'ultimate'\n",
    "plt.hist(monthly_data[monthly_data['plan'] == 'ultimate']['duration_sum'], bins=30, alpha=0.5, label='Ultimate')\n",
    "\n",
    "# Añadir títulos y etiquetas\n",
    "plt.title('Distribución de Minutos Usados Mensualmente por Plan')\n",
    "plt.xlabel('Minutos usados (mensuales)')\n",
    "plt.ylabel('Número de usuarios')\n",
    "plt.legend(title='Plan')\n",
    "\n",
    "# Mostrar el gráfico\n",
    "plt.tight_layout()\n",
    "plt.show()\n"
   ]
  },
  {
   "cell_type": "markdown",
   "metadata": {
    "id": "bLS9T8OH0q1K"
   },
   "source": [
    "[Calcula la media y la variable de la duración de las llamadas para averiguar si los usuarios de los distintos planes se comportan de forma diferente al realizar sus llamadas.]"
   ]
  },
  {
   "cell_type": "code",
   "execution_count": 28,
   "metadata": {
    "id": "oSndbAnt0q1K"
   },
   "outputs": [
    {
     "name": "stdout",
     "output_type": "stream",
     "text": [
      "Media de la duración mensual de llamadas: 411.49258635961024\n",
      "Varianza de la duración mensual de llamadas: 48088.30262015758\n",
      "Media de la duración mensual de llamadas por plan:\n",
      "plan\n",
      "surf        412.097890\n",
      "ultimate    410.180954\n",
      "Name: duration_sum, dtype: float64\n",
      "\n",
      "Varianza de la duración mensual de llamadas por plan:\n",
      "plan\n",
      "surf        47001.254231\n",
      "ultimate    50510.631705\n",
      "Name: duration_sum, dtype: float64\n"
     ]
    }
   ],
   "source": [
    "# Calcula la media y la varianza de la duración mensual de llamadas.\n",
    "# Calcular la media y la varianza de la duración mensual de llamadas para todos los usuarios\n",
    "mean_duration = monthly_data['duration_sum'].mean()\n",
    "variance_duration = monthly_data['duration_sum'].var()\n",
    "\n",
    "print(f\"Media de la duración mensual de llamadas: {mean_duration}\")\n",
    "print(f\"Varianza de la duración mensual de llamadas: {variance_duration}\")\n",
    "\n",
    "# Calcular la media y la varianza de la duración mensual de llamadas por plan\n",
    "mean_duration_plan = monthly_data.groupby('plan')['duration_sum'].mean()\n",
    "variance_duration_plan = monthly_data.groupby('plan')['duration_sum'].var()\n",
    "\n",
    "print(\"Media de la duración mensual de llamadas por plan:\")\n",
    "print(mean_duration_plan)\n",
    "\n",
    "print(\"\\nVarianza de la duración mensual de llamadas por plan:\")\n",
    "print(variance_duration_plan)\n"
   ]
  },
  {
   "cell_type": "code",
   "execution_count": 29,
   "metadata": {
    "id": "nZzoRUKc0q1K"
   },
   "outputs": [
    {
     "data": {
      "image/png": "[encoded data removed]",
      "text/plain": [
       "<Figure size 1000x600 with 1 Axes>"
      ]
     },
     "metadata": {},
     "output_type": "display_data"
    }
   ],
   "source": [
    "# Traza un diagrama de caja para visualizar la distribución de la duración mensual de llamadas\n",
    "# Establecer el estilo de los gráficos\n",
    "sns.set(style=\"whitegrid\")\n",
    "\n",
    "# Crear un gráfico de caja para visualizar la distribución de la duración mensual de llamadas\n",
    "plt.figure(figsize=(10, 6))\n",
    "sns.boxplot(x='plan', y='duration_sum', data=monthly_data)\n",
    "\n",
    "# Añadir título y etiquetas a los ejes\n",
    "plt.title('Distribución de la duración mensual de llamadas por plan')\n",
    "plt.xlabel('Plan')\n",
    "plt.ylabel('Duración mensual de llamadas (minutos)')\n",
    "\n",
    "# Mostrar el gráfico\n",
    "plt.show()\n"
   ]
  },
  {
   "cell_type": "markdown",
   "metadata": {
    "id": "r627zBO50q1K"
   },
   "source": [
    "La media general de la duración mensual de llamadas es de 411.49 minutos. Esto indica que, en promedio, los usuarios de Megaline utilizan alrededor de 411 minutos mensuales en llamadas, sin importar el plan que utilicen.\n",
    "\n",
    "La media de la duración mensual de llamadas es muy similar entre los planes.\n",
    "\n",
    "La diferencia en la duración media es mínima, apenas unos 2 minutos, lo que sugiere que el comportamiento en términos de la cantidad de minutos usados en llamadas es casi idéntico entre los usuarios de ambos planes. No parece que el plan afecte significativamente la cantidad de tiempo que los usuarios pasan haciendo llamadas.\n",
    "\n",
    "La varianza general es de 48,088.30. Esta alta varianza indica que hay una gran dispersión en los datos, es decir, algunos usuarios hacen muchas más o muchas menos llamadas que el promedio.\n",
    "\n",
    "Aunque la diferencia no es enorme, el plan \"Ultimate\" tiene una varianza un poco más alta. Esto sugiere que los usuarios de este plan tienen una mayor variabilidad en su comportamiento con respecto a las llamadas, posiblemente porque algunos usuarios aprovechan más los beneficios del plan (más minutos incluidos o tarifas más bajas por minutos adicionales), mientras que otros no hacen tantas llamadas."
   ]
  },
  {
   "cell_type": "markdown",
   "metadata": {
    "id": "8idKy8Wh0q1L"
   },
   "source": [
    "### Mensajes"
   ]
  },
  {
   "cell_type": "code",
   "execution_count": 30,
   "metadata": {
    "id": "NXLxiTit0q1L"
   },
   "outputs": [
    {
     "name": "stdout",
     "output_type": "stream",
     "text": [
      "Media de mensajes enviados por plan:\n",
      "plan\n",
      "surf        40.109656\n",
      "ultimate    46.296233\n",
      "Name: messages_sent, dtype: float64\n",
      "\n",
      "Varianza de mensajes enviados por plan:\n",
      "plan\n",
      "surf        1091.344231\n",
      "ultimate    1085.183108\n",
      "Name: messages_sent, dtype: float64\n"
     ]
    },
    {
     "data": {
      "image/png": "[encoded data removed]",
      "text/plain": [
       "<Figure size 1000x600 with 1 Axes>"
      ]
     },
     "metadata": {},
     "output_type": "display_data"
    }
   ],
   "source": [
    "# Comprara el número de mensajes que tienden a enviar cada mes los usuarios de cada plan\n",
    "\n",
    "# Agrupa por plan y mes, luego calcula la media del número de mensajes por mes para cada plan\n",
    "monthly_messages = monthly_data.groupby(['plan', 'month'])['messages_sent'].mean().reset_index()\n",
    "\n",
    "# Calcula la media y varianza del número de mensajes por plan\n",
    "mean_messages_per_plan = monthly_data.groupby('plan')['messages_sent'].mean()\n",
    "var_messages_per_plan = monthly_data.groupby('plan')['messages_sent'].var()\n",
    "\n",
    "print(\"Media de mensajes enviados por plan:\")\n",
    "print(mean_messages_per_plan)\n",
    "print(\"\\nVarianza de mensajes enviados por plan:\")\n",
    "print(var_messages_per_plan)\n",
    "\n",
    "# Grafica la comparación del número de mensajes por mes y plan\n",
    "plt.figure(figsize=(10, 6))\n",
    "for plan in monthly_messages['plan'].unique():\n",
    "    plt.plot(monthly_messages[monthly_messages['plan'] == plan]['month'],\n",
    "             monthly_messages[monthly_messages['plan'] == plan]['messages_sent'],\n",
    "             label=plan)\n",
    "\n",
    "plt.title('Número promedio de mensajes enviados por mes para cada plan')\n",
    "plt.xlabel('Mes')\n",
    "plt.ylabel('Número promedio de mensajes enviados')\n",
    "plt.xticks(rotation=45)\n",
    "plt.legend(title='Plan')\n",
    "plt.grid(True)\n",
    "plt.tight_layout()\n",
    "plt.show()"
   ]
  },
  {
   "cell_type": "code",
   "execution_count": 31,
   "metadata": {
    "id": "GRI_R7xF0q1L"
   },
   "outputs": [
    {
     "name": "stdout",
     "output_type": "stream",
     "text": [
      "Media de MB usados por plan:\n",
      "plan\n",
      "surf        16717.702137\n",
      "ultimate    17238.642253\n",
      "Name: mb_used, dtype: float64\n",
      "\n",
      "Varianza de MB usados por plan:\n",
      "plan\n",
      "surf        6.216823e+07\n",
      "ultimate    6.132485e+07\n",
      "Name: mb_used, dtype: float64\n"
     ]
    }
   ],
   "source": [
    "# Compara la cantidad de tráfico de Internet consumido por usuarios por plan\n",
    "# Agrupar por plan y mes, luego calcular la media del tráfico de Internet por mes para cada plan\n",
    "internet_usage = monthly_data.groupby(['plan', 'month'])['mb_used'].mean().reset_index()\n",
    "\n",
    "# Calcular la media y varianza del tráfico de Internet por plan\n",
    "mean_internet_per_plan = monthly_data.groupby('plan')['mb_used'].mean()\n",
    "var_internet_per_plan = monthly_data.groupby('plan')['mb_used'].var()\n",
    "\n",
    "print(\"Media de MB usados por plan:\")\n",
    "print(mean_internet_per_plan)\n",
    "print(\"\\nVarianza de MB usados por plan:\")\n",
    "print(var_internet_per_plan)\n"
   ]
  },
  {
   "cell_type": "code",
   "execution_count": 32,
   "metadata": {
    "id": "dtFwCGAp0q1M"
   },
   "outputs": [
    {
     "data": {
      "image/png": "[encoded data removed]",
      "text/plain": [
       "<Figure size 1000x600 with 1 Axes>"
      ]
     },
     "metadata": {},
     "output_type": "display_data"
    }
   ],
   "source": [
    "# Graficar la comparación del consumo de Internet por mes y plan\n",
    "plt.figure(figsize=(10, 6))\n",
    "for plan in internet_usage['plan'].unique():\n",
    "    plt.plot(internet_usage[internet_usage['plan'] == plan]['month'],\n",
    "             internet_usage[internet_usage['plan'] == plan]['mb_used'],\n",
    "             label=plan)\n",
    "\n",
    "plt.title('Tráfico de Internet promedio por mes para cada plan')\n",
    "plt.xlabel('Mes')\n",
    "plt.ylabel('MB de Internet usados (promedio)')\n",
    "plt.xticks(rotation=45)\n",
    "plt.legend(title='Plan')\n",
    "plt.grid(True)\n",
    "plt.tight_layout()\n",
    "plt.show()"
   ]
  },
  {
   "cell_type": "markdown",
   "metadata": {
    "id": "390SSL480q1M"
   },
   "source": [
    "Los usuarios del plan \"ultimate\" envían en promedio aproximadamente 6.2 mensajes más que los usuarios del plan \"surf\". Esto sugiere que los usuarios del plan \"ultimate\" tienden a enviar más mensajes que los del plan \"surf\", aunque la diferencia no es muy pronunciada.\n",
    "\n",
    "La varianza en el número de mensajes enviados es prácticamente la misma para ambos planes. Esto indica que la dispersión o variabilidad en la cantidad de mensajes enviados por los usuarios es similar en los dos planes. Hay usuarios que envían pocos mensajes y otros que envían muchos, pero en general, la distribución del número de mensajes enviados es comparable para ambos planes.\n",
    "\n",
    "La varianza en el consumo de datos es muy similar entre ambos planes. Esto indica que la dispersión o variabilidad en el uso de Internet es comparable para los usuarios de los dos planes. Ambos grupos tienen usuarios que pueden consumir tanto niveles bajos como altos de datos, pero no hay una diferencia significativa en la distribución del consumo entre los planes."
   ]
  },
  {
   "cell_type": "markdown",
   "metadata": {
    "id": "42YSypXz0q1M"
   },
   "source": [
    "### Internet"
   ]
  },
  {
   "cell_type": "code",
   "execution_count": 33,
   "metadata": {
    "id": "lSuKPtjh0q1M"
   },
   "outputs": [
    {
     "name": "stdout",
     "output_type": "stream",
     "text": [
      "plan\n",
      "surf        16717.702137\n",
      "ultimate    17238.642253\n",
      "Name: mb_used, dtype: float64\n"
     ]
    },
    {
     "data": {
      "image/png": "[encoded data removed]",
      "text/plain": [
       "<Figure size 800x600 with 1 Axes>"
      ]
     },
     "metadata": {},
     "output_type": "display_data"
    }
   ],
   "source": [
    "# Calcular la media de MB usados por plan\n",
    "mean_mb_per_plan = monthly_data.groupby('plan')['mb_used'].mean()\n",
    "\n",
    "# Mostrar la media de MB usados por plan\n",
    "print(mean_mb_per_plan)\n",
    "\n",
    "# Crear una gráfica para visualizarlo\n",
    "plt.figure(figsize=(8, 6))\n",
    "mean_mb_per_plan.plot(kind='bar', color=['#1f77b4', '#ff7f0e'])\n",
    "plt.title('Promedio de Tráfico de Internet Usado por Plan')\n",
    "plt.xlabel('Plan')\n",
    "plt.ylabel('Promedio de MB Usados')\n",
    "plt.xticks(rotation=0)\n",
    "plt.tight_layout()\n",
    "plt.show()"
   ]
  },
  {
   "cell_type": "code",
   "execution_count": 34,
   "metadata": {
    "id": "wnh8jYXi0q1N"
   },
   "outputs": [
    {
     "name": "stdout",
     "output_type": "stream",
     "text": [
      "Varianza de MB usados por plan:\n",
      "plan\n",
      "surf        6.216823e+07\n",
      "ultimate    6.132485e+07\n",
      "Name: mb_used, dtype: float64\n",
      "\n",
      "Desviación estándar de MB usados por plan:\n",
      "plan\n",
      "surf        7884.682983\n",
      "ultimate    7831.018323\n",
      "Name: mb_used, dtype: float64\n"
     ]
    },
    {
     "data": {
      "image/png": "[encoded data removed]",
      "text/plain": [
       "<Figure size 800x600 with 1 Axes>"
      ]
     },
     "metadata": {},
     "output_type": "display_data"
    }
   ],
   "source": [
    "# Calcular la varianza de MB usados por plan\n",
    "variance_mb_per_plan = monthly_data.groupby('plan')['mb_used'].var()\n",
    "\n",
    "# Calcular la desviación estándar de MB usados por plan\n",
    "std_mb_per_plan = monthly_data.groupby('plan')['mb_used'].std()\n",
    "\n",
    "# Mostrar la varianza y la desviación estándar de MB usados por plan\n",
    "print(\"Varianza de MB usados por plan:\")\n",
    "print(variance_mb_per_plan)\n",
    "print(\"\\nDesviación estándar de MB usados por plan:\")\n",
    "print(std_mb_per_plan)\n",
    "\n",
    "# Crear una gráfica para visualizar la desviación estándar\n",
    "plt.figure(figsize=(8, 6))\n",
    "std_mb_per_plan.plot(kind='bar', color=['#1f77b4', '#ff7f0e'])\n",
    "plt.title('Desviación Estándar del Tráfico de Internet Usado por Plan')\n",
    "plt.xlabel('Plan')\n",
    "plt.ylabel('Desviación Estándar de MB Usados')\n",
    "plt.xticks(rotation=0)\n",
    "plt.tight_layout()\n",
    "plt.show()"
   ]
  },
  {
   "cell_type": "code",
   "execution_count": 35,
   "metadata": {
    "id": "5VlyJ9ry0q1N"
   },
   "outputs": [
    {
     "name": "stdout",
     "output_type": "stream",
     "text": [
      "Media de MB usados por plan:\n",
      "plan\n",
      "surf        16717.702137\n",
      "ultimate    17238.642253\n",
      "Name: mb_used, dtype: float64\n",
      "\n",
      "Varianza de MB usados por plan:\n",
      "plan\n",
      "surf        6.216823e+07\n",
      "ultimate    6.132485e+07\n",
      "Name: mb_used, dtype: float64\n",
      "\n",
      "Desviación estándar de MB usados por plan:\n",
      "plan\n",
      "surf        7884.682983\n",
      "ultimate    7831.018323\n",
      "Name: mb_used, dtype: float64\n"
     ]
    },
    {
     "data": {
      "image/png": "[encoded data removed]",
      "text/plain": [
       "<Figure size 1000x600 with 2 Axes>"
      ]
     },
     "metadata": {},
     "output_type": "display_data"
    }
   ],
   "source": [
    "mean_mb_per_plan = monthly_data.groupby('plan')['mb_used'].mean()\n",
    "print(\"Media de MB usados por plan:\")\n",
    "print(mean_mb_per_plan)\n",
    "\n",
    "# Calcular la varianza de MB usados por plan\n",
    "variance_mb_per_plan = monthly_data.groupby('plan')['mb_used'].var()\n",
    "print(\"\\nVarianza de MB usados por plan:\")\n",
    "print(variance_mb_per_plan)\n",
    "\n",
    "# Calcular la desviación estándar de MB usados por plan\n",
    "std_mb_per_plan = monthly_data.groupby('plan')['mb_used'].std()\n",
    "print(\"\\nDesviación estándar de MB usados por plan:\")\n",
    "print(std_mb_per_plan)\n",
    "\n",
    "# Graficar las medias y desviaciones estándar\n",
    "plt.figure(figsize=(10, 6))\n",
    "\n",
    "# Graficar medias\n",
    "plt.subplot(1, 2, 1)\n",
    "mean_mb_per_plan.plot(kind='bar', yerr=std_mb_per_plan, capsize=5, color=['#1f77b4', '#ff7f0e'])\n",
    "plt.title('Media de Tráfico de Internet Usado por Plan')\n",
    "plt.xlabel('Plan')\n",
    "plt.ylabel('Media de MB Usados')\n",
    "plt.xticks(rotation=0)\n",
    "plt.grid(axis='y')\n",
    "\n",
    "# Graficar varianzas\n",
    "plt.subplot(1, 2, 2)\n",
    "variance_mb_per_plan.plot(kind='bar', color=['#1f77b4', '#ff7f0e'])\n",
    "plt.title('Varianza de Tráfico de Internet Usado por Plan')\n",
    "plt.xlabel('Plan')\n",
    "plt.ylabel('Varianza de MB Usados')\n",
    "plt.xticks(rotation=0)\n",
    "plt.grid(axis='y')\n",
    "\n",
    "plt.tight_layout()\n",
    "plt.show()"
   ]
  },
  {
   "cell_type": "markdown",
   "metadata": {
    "id": "UN9zwuMP0q1N"
   },
   "source": [
    "El plan Ultimate tiene un promedio de 17,238.64 MB utilizados, mientras que el plan Surf tiene un promedio de 16,717.70 MB. Esto indica que, en promedio, los usuarios del plan Ultimate consumen más tráfico de Internet que los del plan Surf.\n",
    "\n",
    "Ambas varianzas son bastante altas, lo que sugiere que hay una considerable dispersión en el uso del Internet dentro de cada plan. Sin embargo, el plan Surf tiene una varianza ligeramente mayor, indicando que los hábitos de uso de Internet son un poco más inconsistentes entre los usuarios de este plan en comparación con el Ultimate.\n",
    "\n",
    "La similitud en las desviaciones estándar indica que, aunque hay diferencias en las medias, la variabilidad en el uso de Internet no es drásticamente diferente entre los dos planes.\n",
    "\n",
    "A pesar de que los usuarios del plan Ultimate utilizan más datos en promedio, la variabilidad en el uso de Internet entre los dos planes es comparable, sugiriendo que las diferencias en el consumo no son necesariamente atribuibles a un plan en particular, sino que podrían reflejar las diferencias de uso entre los propios usuarios."
   ]
  },
  {
   "cell_type": "markdown",
   "metadata": {
    "id": "tCijq3260q1N"
   },
   "source": [
    "## Ingreso"
   ]
  },
  {
   "cell_type": "markdown",
   "metadata": {
    "id": "9nq5IAcy0q1O"
   },
   "source": [
    "[Del mismo modo que has estudiado el comportamiento de los usuarios, describe estadísticamente los ingresos de los planes.]"
   ]
  },
  {
   "cell_type": "code",
   "execution_count": 36,
   "metadata": {
    "id": "tz-dq_V00q1O"
   },
   "outputs": [
    {
     "name": "stdout",
     "output_type": "stream",
     "text": [
      "Descripción estadística de los precios mensuales de los planes:\n",
      "          usd_monthly_pay                                        \n",
      "                    count  mean std   min   25%   50%   75%   max\n",
      "plan_name                                                        \n",
      "surf                  1.0  20.0 NaN  20.0  20.0  20.0  20.0  20.0\n",
      "ultimate              1.0  70.0 NaN  70.0  70.0  70.0  70.0  70.0\n"
     ]
    },
    {
     "data": {
      "image/png": "[encoded data removed]",
      "text/plain": [
       "<Figure size 800x500 with 1 Axes>"
      ]
     },
     "metadata": {},
     "output_type": "display_data"
    }
   ],
   "source": [
    "# Descripción estadística de los precios de los planes\n",
    "print(\"Descripción estadística de los precios mensuales de los planes:\")\n",
    "print(plans[['plan_name', 'usd_monthly_pay']].groupby('plan_name').describe())\n",
    "\n",
    "# Visualización: Distribución de los precios de los planes\n",
    "plt.figure(figsize=(8, 5))\n",
    "sns.boxplot(x='plan_name', y='usd_monthly_pay', data=plans)\n",
    "plt.title('Distribución de Precios de los Planes')\n",
    "plt.ylabel('Precio Mensual (USD)')\n",
    "plt.xlabel('Nombre del Plan')\n",
    "plt.show()"
   ]
  },
  {
   "cell_type": "code",
   "execution_count": 37,
   "metadata": {
    "id": "0Y1v8ZUz0q1P"
   },
   "outputs": [
    {
     "name": "stdout",
     "output_type": "stream",
     "text": [
      "\n",
      "Ingresos proyectados por plan:\n",
      "  plan_name  users_count  monthly_fee  total_income_projected\n",
      "0      surf         1573           20                   31460\n",
      "1  ultimate          720           70                   50400\n"
     ]
    }
   ],
   "source": [
    "# Fusionar los datos de usuarios con planes para incluir 'plan_name'\n",
    "merged_data = users.merge(plans, left_on='plan', right_on='plan_name', how='left')\n",
    "\n",
    "# Combinar con datos mensuales (llamadas, mensajes, internet)\n",
    "monthly_data = monthly_data.merge(merged_data[['user_id', 'plan_name', 'usd_monthly_pay']], \n",
    "                                  on='user_id', how='left')\n",
    "\n",
    "# Cálculo de ingresos por plan\n",
    "income_per_plan = monthly_data.groupby('plan_name').agg(\n",
    "    users_count=('user_id', 'count'),\n",
    "    monthly_fee=('usd_monthly_pay', 'first')  # Tomar la tarifa fija del plan\n",
    ").reset_index()\n",
    "\n",
    "# Calcular los ingresos proyectados\n",
    "income_per_plan['total_income_projected'] = (\n",
    "    income_per_plan['users_count'] * income_per_plan['monthly_fee']\n",
    ")\n",
    "\n",
    "# Mostrar los ingresos proyectados\n",
    "print(\"\\nIngresos proyectados por plan:\")\n",
    "print(income_per_plan)"
   ]
  },
  {
   "cell_type": "code",
   "execution_count": 38,
   "metadata": {
    "id": "bYmwxyVh0q1P"
   },
   "outputs": [
    {
     "data": {
      "image/png": "[encoded data removed]",
      "text/plain": [
       "<Figure size 800x500 with 1 Axes>"
      ]
     },
     "metadata": {},
     "output_type": "display_data"
    }
   ],
   "source": [
    "# Visualización de los ingresos proyectados por plan\n",
    "plt.figure(figsize=(8, 5))\n",
    "sns.barplot(x='plan_name', y='total_income_projected', data=income_per_plan)\n",
    "plt.title('Ingresos Proyectados por Plan')\n",
    "plt.ylabel('Ingresos Proyectados (USD)')\n",
    "plt.xlabel('Nombre del Plan')\n",
    "plt.show()"
   ]
  },
  {
   "cell_type": "markdown",
   "metadata": {
    "id": "KAFidcXZ0q1P"
   },
   "source": [
    "El plan \"surf\" tiene una tarifa mensual de 20 USD.\n",
    "El plan \"ultimate\" tiene una tarifa mensual significativamente más alta de 70 USD.\n",
    "\n",
    "El plan \"surf\" tiene 339 usuarios, lo que lo convierte en el plan más popular.\n",
    "El plan \"ultimate\" tiene 161 usuarios, menos de la mitad de los usuarios del plan \"surf\".\n",
    "\n",
    "El ingreso proyectado del plan \"surf\" es de 6,780 USD (339 usuarios * 20 USD).\n",
    "El ingreso proyectado del plan \"ultimate\" es de 11,270 USD (161 usuarios * 70 USD).\n",
    "\n",
    "El plan \"ultimate\" genera mayores ingresos totales, a pesar de tener menos usuarios que el plan \"surf\". Esto se debe a su tarifa mensual más alta.\n",
    "El plan \"surf\" es más popular pero genera menos ingresos en total debido a su precio más bajo."
   ]
  },
  {
   "cell_type": "markdown",
   "metadata": {
    "id": "ajJ7VKeI0q1Q"
   },
   "source": [
    "## Prueba las hipótesis estadísticas"
   ]
  },
  {
   "cell_type": "markdown",
   "metadata": {
    "id": "AdXAZ-yL0q1Q"
   },
   "source": [
    "[Prueba la hipótesis de que son diferentes los ingresos promedio procedentes de los usuarios de los planes de llamada Ultimate y Surf.]"
   ]
  },
  {
   "cell_type": "markdown",
   "metadata": {
    "id": "IQwa_hsh0q1Q"
   },
   "source": [
    "[Elabora las hipótesis nula y alternativa, escoge la prueba estadística, determina el valor alfa.]"
   ]
  },
  {
   "cell_type": "code",
   "execution_count": 39,
   "metadata": {
    "id": "nFoPNlPq0q1R"
   },
   "outputs": [
    {
     "name": "stdout",
     "output_type": "stream",
     "text": [
      "\n",
      "Uso promedio por plan:\n",
      "  plan_name  avg_minutes  avg_messages      avg_data\n",
      "0      surf   412.097890     40.109656  16717.702137\n",
      "1  ultimate   410.180954     46.296233  17238.642253\n",
      "Estadístico t: inf\n",
      "Valor p: 0.0000\n",
      "Rechazamos la hipótesis nula. Hay una diferencia significativa en los ingresos promedio.\n"
     ]
    },
    {
     "name": "stderr",
     "output_type": "stream",
     "text": [
      "/tmp/ipykernel_50/2151536354.py:16: RuntimeWarning: Precision loss occurred in moment calculation due to catastrophic cancellation. This occurs when the data are nearly identical. Results may be unreliable.\n",
      "  t_stat, p_value = st.ttest_ind(ultimate_income, surf_income, equal_var=False)\n"
     ]
    }
   ],
   "source": [
    "# Cálculo del uso promedio por usuario para las variables relevantes\n",
    "average_usage = monthly_data.groupby('plan_name').agg(\n",
    "    avg_minutes=('duration_sum', 'mean'),\n",
    "    avg_messages=('messages_sent', 'mean'),\n",
    "    avg_data=('mb_used', 'mean')\n",
    ").reset_index()\n",
    "\n",
    "print(\"\\nUso promedio por plan:\")\n",
    "print(average_usage)\n",
    "\n",
    "# Filtrar los datos por plan y extraer los ingresos mensuales de los usuarios\n",
    "ultimate_income = merged_data[merged_data['plan_name'] == 'ultimate']['usd_monthly_pay']\n",
    "surf_income = merged_data[merged_data['plan_name'] == 'surf']['usd_monthly_pay']\n",
    "\n",
    "# Realizar la prueba t de Welch para muestras independientes\n",
    "t_stat, p_value = st.ttest_ind(ultimate_income, surf_income, equal_var=False)\n",
    "\n",
    "# Mostrar los resultados de la prueba\n",
    "print(f\"Estadístico t: {t_stat:.4f}\")\n",
    "print(f\"Valor p: {p_value:.4f}\")\n",
    "\n",
    "# Interpretación del resultado\n",
    "if p_value < 0.05:\n",
    "    print(\"Rechazamos la hipótesis nula. Hay una diferencia significativa en los ingresos promedio.\")\n",
    "else:\n",
    "    print(\"No se puede rechazar la hipótesis nula. No hay evidencia suficiente para afirmar que los ingresos promedio son diferentes.\")"
   ]
  },
  {
   "cell_type": "markdown",
   "metadata": {},
   "source": [
    "<div class=\"alert alert-block alert-success\">\n",
    "<b>Éxito</b> <a class=\"tocSkip\"></a>\n",
    "Has formulado correctamente las hipótesis nula y alternativa, y la prueba T de Welch es una excelente elección para comparar los ingresos entre los dos planes. La interpretación de los resultados está bien realizada.</div>\n"
   ]
  },
  {
   "cell_type": "markdown",
   "metadata": {
    "id": "tCcAruM60q1R"
   },
   "source": [
    "[Prueba la hipótesis de que el ingreso promedio de los usuarios del área NY-NJ es diferente al de los usuarios de otras regiones.]"
   ]
  },
  {
   "cell_type": "markdown",
   "metadata": {
    "id": "LsBgitqj0q1R"
   },
   "source": [
    "[Elabora las hipótesis nula y alternativa, escoge la prueba estadística, determina el valor alfa.]"
   ]
  },
  {
   "cell_type": "code",
   "execution_count": 46,
   "metadata": {
    "id": "Cqcj7wrZ0q1S"
   },
   "outputs": [
    {
     "name": "stdout",
     "output_type": "stream",
     "text": [
      "Usuarios en NY-NJ: 377\n",
      "Usuarios en otras regiones: 1916\n",
      "Estadístico t: 3.4958\n",
      "Valor p: 0.0005\n",
      "Rechazamos la hipótesis nula: El ingreso promedio de NY-NJ es significativamente diferente al de otras regiones.\n"
     ]
    }
   ],
   "source": [
    "# Filtra los datos para obtener los usuarios de NY-NJ y de otras regiones\n",
    "ny_nj_users = monthly_data[monthly_data['city'] == 'New York-Newark-Jersey City, NY-NJ-PA MSA']\n",
    "other_region_users = monthly_data[monthly_data['city'] != 'New York-Newark-Jersey City, NY-NJ-PA MSA']\n",
    "\n",
    "# Verificar el tamaño de cada grupo\n",
    "print(f\"Usuarios en NY-NJ: {ny_nj_users.shape[0]}\")\n",
    "print(f\"Usuarios en otras regiones: {other_region_users.shape[0]}\")\n",
    "\n",
    "# Extrae los ingresos mensuales de los usuarios de cada grupo\n",
    "ny_nj_revenue = ny_nj_users['monthly_revenue']\n",
    "other_region_revenue = other_region_users['monthly_revenue']\n",
    "\n",
    "# Realiza la prueba t de dos muestras independientes (Welch's t-test)\n",
    "t_stat, p_value = st.ttest_ind(ny_nj_revenue, other_region_revenue, equal_var=False)\n",
    "\n",
    "# Muestra los resultados\n",
    "print(f'Estadístico t: {t_stat:.4f}')\n",
    "print(f'Valor p: {p_value:.4f}')\n",
    "\n",
    "# Determina si rechazamos o no la hipótesis nula con un alfa de 0.05\n",
    "alpha = 0.05\n",
    "if p_value < alpha:\n",
    "    print(\"Rechazamos la hipótesis nula: El ingreso promedio de NY-NJ es significativamente diferente al de otras regiones.\")\n",
    "else:\n",
    "    print(\"No rechazamos la hipótesis nula: No hay diferencia significativa entre los ingresos promedio de NY-NJ y otras regiones.\")"
   ]
  },
  {
   "cell_type": "markdown",
   "metadata": {},
   "source": [
    "<div class=\"alert alert-block alert-danger\">\n",
    "<b>A resolver</b> <a class=\"tocSkip\"></a>\n",
    "En la segunda prueba de hipótesis sobre los ingresos de NY-NJ vs. otras regiones, el valor t y el valor p son <code>NaN</code>. Esto indica un posible error en la selección o filtrado de los datos. Verifica si estás filtrando correctamente la columna de ciudades o si hay valores nulos que afectan el cálculo.</div>\n",
    "\n",
    "[Comentario]:\n",
    "Cambié la comparación para usar el nombre exacto: 'New York-Newark-Jersey City, NY-NJ-PA MSA'.\n",
    "\n",
    "Existe una diferencia significativa en los ingresos promedio entre los usuarios del área NY-NJ y los de otras regiones.\n",
    "\n",
    "Dado que se rechazó la hipótesis nula, puedo inferir que los usuarios de NY-NJ tienen un comportamiento diferente en términos de ingresos comparado con el resto del país. Esto podría reflejarse en factores socioeconómicos, mayor adopción de planes más caros, o diferencias en patrones de uso."
   ]
  },
  {
   "cell_type": "markdown",
   "metadata": {
    "id": "bbTR8UQO0q1T"
   },
   "source": [
    "## Conclusión general\n",
    "\n",
    "Hipótesis planteada: Evaluamos si existía una diferencia significativa en los ingresos promedio entre los usuarios de los planes \"Ultimate\" y \"Surf\".\n",
    "Hipótesis nula (\n",
    "H\n",
    "0\n",
    "H \n",
    "0\n",
    "​\t\n",
    " ): Los ingresos promedio de los usuarios de ambos planes son iguales.\n",
    "Hipótesis alternativa (\n",
    "H\n",
    "1\n",
    "H \n",
    "1\n",
    "​\t\n",
    " ): Los ingresos promedio de los usuarios de ambos planes son diferentes.\n",
    "Nivel de significancia (\n",
    "α\n",
    "α): 0.05\n",
    "Prueba de hipótesis: Aplicamos un t-test de Welch para comparar los ingresos entre los planes, encontrando un valor p = 0.0000.\n",
    "Conclusión: Dado que el valor p es menor que 0.05, rechazamos la hipótesis nula. Esto confirma que los ingresos promedio entre los usuarios de los dos planes son significativamente diferentes.\n",
    "\n",
    "\n",
    "Los resultados mostraron una diferencia significativa en los ingresos promedio entre los planes \"Surf\" y \"Ultimate\", lo que podría reflejar diferencias en las tarifas o en el tipo de usuarios que atrae cada plan.\n",
    "\n",
    "Los distintos niveles de consumo (minutos, mensajes y datos) sugieren que los usuarios de cada plan tienen necesidades diferentes, lo que podría orientar futuras estrategias comerciales."
   ]
  },
  {
   "cell_type": "markdown",
   "metadata": {},
   "source": [
    "<div class=\"alert alert-block alert-success\">\n",
    "<b>Éxito</b> <a class=\"tocSkip\"></a>\n",
    "Tus conclusiones reflejan un buen entendimiento del análisis. Has sintetizado correctamente los resultados de las pruebas de hipótesis y vinculado los datos de uso con las estrategias comerciales.</div>\n"
   ]
  }
 ],
 "metadata": {
  "ExecuteTimeLog": [
   {
    "duration": 828,
    "start_time": "2021-11-16T09:21:11.304Z"
   },
   {
    "duration": 893,
    "start_time": "2021-11-16T09:21:17.728Z"
   },
   {
    "duration": 1150,
    "start_time": "2021-11-16T09:21:29.568Z"
   },
   {
    "duration": 3,
    "start_time": "2021-11-16T09:24:14.495Z"
   },
   {
    "duration": 120,
    "start_time": "2021-11-16T09:24:46.630Z"
   },
   {
    "duration": 3,
    "start_time": "2021-11-16T09:28:27.882Z"
   },
   {
    "duration": 4,
    "start_time": "2021-11-16T09:29:54.281Z"
   },
   {
    "duration": 3,
    "start_time": "2021-11-16T09:30:45.936Z"
   },
   {
    "duration": 4,
    "start_time": "2021-11-16T09:31:06.300Z"
   },
   {
    "duration": 113,
    "start_time": "2021-11-16T09:31:37.208Z"
   },
   {
    "duration": 143,
    "start_time": "2021-11-16T09:31:48.656Z"
   },
   {
    "duration": 98,
    "start_time": "2021-11-16T09:31:55.678Z"
   },
   {
    "duration": 3,
    "start_time": "2021-11-16T09:32:08.535Z"
   },
   {
    "duration": 111,
    "start_time": "2021-11-16T09:32:10.120Z"
   },
   {
    "duration": 3,
    "start_time": "2021-11-16T09:32:15.732Z"
   },
   {
    "duration": 4,
    "start_time": "2021-11-16T09:32:29.423Z"
   },
   {
    "duration": 3,
    "start_time": "2021-11-16T10:03:03.074Z"
   },
   {
    "duration": 3,
    "start_time": "2021-11-16T10:10:01.288Z"
   },
   {
    "duration": 3,
    "start_time": "2021-11-16T10:10:46.923Z"
   },
   {
    "duration": 121,
    "start_time": "2021-11-16T10:37:46.494Z"
   },
   {
    "duration": 125,
    "start_time": "2021-11-16T10:38:20.632Z"
   },
   {
    "duration": 112,
    "start_time": "2021-11-16T10:46:53.001Z"
   },
   {
    "duration": 110,
    "start_time": "2021-11-16T10:48:25.775Z"
   },
   {
    "duration": 3,
    "start_time": "2021-11-16T10:50:18.720Z"
   },
   {
    "duration": 4,
    "start_time": "2021-11-16T10:50:37.649Z"
   },
   {
    "duration": 2,
    "start_time": "2021-11-16T10:50:51.884Z"
   },
   {
    "duration": 3,
    "start_time": "2021-11-16T10:51:56.237Z"
   },
   {
    "duration": 101,
    "start_time": "2021-11-16T10:53:13.791Z"
   },
   {
    "duration": 3,
    "start_time": "2021-11-16T10:55:59.186Z"
   },
   {
    "duration": 3,
    "start_time": "2021-11-16T10:56:10.751Z"
   },
   {
    "duration": 3,
    "start_time": "2021-11-16T10:56:49.038Z"
   },
   {
    "duration": 3,
    "start_time": "2021-11-16T10:56:49.174Z"
   },
   {
    "duration": 4,
    "start_time": "2021-11-16T10:56:49.414Z"
   },
   {
    "duration": 3,
    "start_time": "2021-11-16T10:56:49.680Z"
   },
   {
    "duration": 3,
    "start_time": "2021-11-16T10:56:50.370Z"
   },
   {
    "duration": 114,
    "start_time": "2021-11-16T10:59:34.518Z"
   },
   {
    "duration": 3,
    "start_time": "2021-11-16T11:01:41.201Z"
   },
   {
    "duration": 116,
    "start_time": "2021-11-16T11:01:48.754Z"
   },
   {
    "duration": 3,
    "start_time": "2021-11-16T11:02:16.685Z"
   },
   {
    "duration": 3,
    "start_time": "2021-11-16T11:02:19.479Z"
   },
   {
    "duration": 3,
    "start_time": "2021-11-16T11:02:47.067Z"
   },
   {
    "duration": 3,
    "start_time": "2021-11-16T11:02:49.353Z"
   },
   {
    "duration": 3,
    "start_time": "2021-11-16T11:03:07.835Z"
   },
   {
    "duration": 3,
    "start_time": "2021-11-16T11:03:07.953Z"
   },
   {
    "duration": 112,
    "start_time": "2021-11-16T11:07:52.072Z"
   },
   {
    "duration": 187,
    "start_time": "2021-11-16T11:09:23.468Z"
   },
   {
    "duration": 4,
    "start_time": "2021-11-16T11:10:01.455Z"
   },
   {
    "duration": 3,
    "start_time": "2021-11-16T11:10:05.069Z"
   },
   {
    "duration": 4,
    "start_time": "2021-11-16T11:10:13.376Z"
   },
   {
    "duration": 3,
    "start_time": "2021-11-16T11:10:14.434Z"
   },
   {
    "duration": 3,
    "start_time": "2021-11-16T11:10:22.853Z"
   },
   {
    "duration": 4,
    "start_time": "2021-11-16T11:27:29.279Z"
   },
   {
    "duration": 4,
    "start_time": "2021-11-16T11:29:08.919Z"
   },
   {
    "duration": 118,
    "start_time": "2021-11-16T11:29:46.703Z"
   },
   {
    "duration": 437,
    "start_time": "2021-11-16T11:36:02.181Z"
   },
   {
    "duration": 157,
    "start_time": "2021-11-16T11:36:14.388Z"
   },
   {
    "duration": 207,
    "start_time": "2021-11-16T11:47:15.898Z"
   },
   {
    "duration": 3,
    "start_time": "2021-11-16T11:53:52.092Z"
   },
   {
    "duration": 3,
    "start_time": "2021-11-16T11:53:52.236Z"
   },
   {
    "duration": 3,
    "start_time": "2021-11-16T11:59:12.005Z"
   },
   {
    "duration": 112,
    "start_time": "2021-11-16T12:00:33.446Z"
   },
   {
    "duration": 3,
    "start_time": "2021-11-16T12:02:14.453Z"
   },
   {
    "duration": 3,
    "start_time": "2021-11-16T12:02:39.512Z"
   },
   {
    "duration": 106,
    "start_time": "2021-11-16T12:03:03.460Z"
   },
   {
    "duration": 3,
    "start_time": "2021-11-17T20:37:21.139Z"
   },
   {
    "duration": 3,
    "start_time": "2021-11-17T20:37:22.229Z"
   },
   {
    "duration": 3,
    "start_time": "2021-11-17T20:38:38.806Z"
   },
   {
    "duration": 3,
    "start_time": "2021-11-17T20:38:41.958Z"
   },
   {
    "duration": 3,
    "start_time": "2021-11-17T20:43:46.551Z"
   },
   {
    "duration": 4,
    "start_time": "2021-11-17T20:58:21.835Z"
   },
   {
    "duration": 3,
    "start_time": "2021-11-17T20:59:21.872Z"
   },
   {
    "duration": 4,
    "start_time": "2021-11-17T20:59:45.352Z"
   },
   {
    "duration": 4,
    "start_time": "2021-11-17T20:59:49.646Z"
   },
   {
    "duration": 159,
    "start_time": "2021-11-17T21:02:26.949Z"
   },
   {
    "duration": 3,
    "start_time": "2021-11-17T21:03:53.461Z"
   },
   {
    "duration": 3,
    "start_time": "2021-11-17T21:03:53.694Z"
   },
   {
    "duration": 3,
    "start_time": "2021-11-17T21:05:28.145Z"
   },
   {
    "duration": 116,
    "start_time": "2021-11-17T21:05:57.787Z"
   },
   {
    "duration": 3,
    "start_time": "2021-11-17T21:06:37.993Z"
   },
   {
    "duration": 3,
    "start_time": "2021-11-17T21:06:38.261Z"
   },
   {
    "duration": 3,
    "start_time": "2021-11-17T21:11:54.358Z"
   },
   {
    "duration": 3,
    "start_time": "2021-11-17T21:12:43.846Z"
   },
   {
    "duration": 4,
    "start_time": "2021-11-17T21:13:08.773Z"
   },
   {
    "duration": 3,
    "start_time": "2021-11-17T21:14:44.441Z"
   },
   {
    "duration": 3,
    "start_time": "2021-11-17T21:15:42.059Z"
   },
   {
    "duration": 4,
    "start_time": "2021-11-17T21:15:51.995Z"
   },
   {
    "duration": 3,
    "start_time": "2021-11-17T21:15:53.923Z"
   },
   {
    "duration": 3,
    "start_time": "2021-11-17T21:15:55.282Z"
   },
   {
    "duration": 3,
    "start_time": "2021-11-17T21:16:28.492Z"
   },
   {
    "duration": 3,
    "start_time": "2021-11-17T21:16:32.603Z"
   },
   {
    "duration": 3,
    "start_time": "2021-11-17T21:17:06.941Z"
   },
   {
    "duration": 98,
    "start_time": "2021-11-17T21:18:05.733Z"
   },
   {
    "duration": 4,
    "start_time": "2021-11-17T21:21:35.255Z"
   },
   {
    "duration": 3,
    "start_time": "2021-11-17T21:21:37.804Z"
   },
   {
    "duration": 4,
    "start_time": "2021-11-17T21:23:06.071Z"
   },
   {
    "duration": 3,
    "start_time": "2021-11-17T21:23:24.799Z"
   },
   {
    "duration": 3,
    "start_time": "2021-11-17T21:23:32.591Z"
   },
   {
    "duration": 98,
    "start_time": "2021-11-17T21:28:31.559Z"
   },
   {
    "duration": 3,
    "start_time": "2021-11-17T21:28:45.448Z"
   },
   {
    "duration": 3,
    "start_time": "2021-11-17T21:29:17.303Z"
   },
   {
    "duration": 3,
    "start_time": "2021-11-17T21:29:29.617Z"
   },
   {
    "duration": 3,
    "start_time": "2021-11-17T21:29:32.681Z"
   },
   {
    "duration": 3,
    "start_time": "2021-11-17T21:36:11.474Z"
   },
   {
    "duration": 3,
    "start_time": "2021-11-17T21:36:14.791Z"
   },
   {
    "duration": 3,
    "start_time": "2021-11-17T21:36:53.943Z"
   },
   {
    "duration": 3,
    "start_time": "2021-11-17T21:36:56.165Z"
   },
   {
    "duration": 4,
    "start_time": "2021-11-17T21:37:16.590Z"
   },
   {
    "duration": 3,
    "start_time": "2021-11-17T21:37:22.702Z"
   },
   {
    "duration": 4,
    "start_time": "2021-11-17T21:38:03.479Z"
   },
   {
    "duration": 3,
    "start_time": "2021-11-17T21:38:08.601Z"
   },
   {
    "duration": 3,
    "start_time": "2021-11-17T21:38:12.928Z"
   },
   {
    "duration": 3,
    "start_time": "2021-11-17T21:38:48.896Z"
   },
   {
    "duration": 2,
    "start_time": "2021-11-17T21:38:49.171Z"
   },
   {
    "duration": 4,
    "start_time": "2021-11-17T21:39:57.889Z"
   },
   {
    "duration": 3,
    "start_time": "2021-11-17T21:39:58.057Z"
   },
   {
    "duration": 3,
    "start_time": "2021-11-17T21:41:20.108Z"
   },
   {
    "duration": 3,
    "start_time": "2021-11-17T21:41:20.629Z"
   },
   {
    "duration": 3,
    "start_time": "2021-11-17T21:42:49.136Z"
   },
   {
    "duration": 3,
    "start_time": "2021-11-17T21:43:15.137Z"
   },
   {
    "duration": 4,
    "start_time": "2021-11-17T21:43:16.766Z"
   },
   {
    "duration": 4,
    "start_time": "2021-11-17T21:43:31.711Z"
   },
   {
    "duration": 3,
    "start_time": "2021-11-17T21:43:36.312Z"
   },
   {
    "duration": 4,
    "start_time": "2021-11-17T21:45:08.825Z"
   },
   {
    "duration": 4,
    "start_time": "2021-11-17T21:45:10.119Z"
   },
   {
    "duration": 4,
    "start_time": "2021-11-17T21:45:13.748Z"
   },
   {
    "duration": 3,
    "start_time": "2021-11-17T21:45:22.219Z"
   },
   {
    "duration": 3,
    "start_time": "2021-11-17T21:45:33.412Z"
   },
   {
    "duration": 2,
    "start_time": "2021-11-17T21:46:01.885Z"
   },
   {
    "duration": 3,
    "start_time": "2021-11-17T21:46:03.628Z"
   },
   {
    "duration": 107,
    "start_time": "2021-11-17T21:47:32.512Z"
   },
   {
    "duration": 103,
    "start_time": "2021-11-17T21:50:36.243Z"
   },
   {
    "duration": 3,
    "start_time": "2021-11-18T06:28:31.440Z"
   },
   {
    "duration": 3,
    "start_time": "2021-11-18T06:29:00.168Z"
   },
   {
    "duration": 3,
    "start_time": "2021-11-18T06:31:27.008Z"
   },
   {
    "duration": 2,
    "start_time": "2021-11-18T06:35:34.288Z"
   },
   {
    "duration": 2,
    "start_time": "2021-11-18T06:38:04.527Z"
   },
   {
    "duration": 2542,
    "start_time": "2024-10-17T22:50:38.449Z"
   },
   {
    "duration": 3,
    "start_time": "2024-10-17T22:50:42.776Z"
   },
   {
    "duration": 244,
    "start_time": "2024-10-17T22:51:16.161Z"
   },
   {
    "duration": 10,
    "start_time": "2024-10-17T22:51:59.677Z"
   },
   {
    "duration": 5,
    "start_time": "2024-10-17T22:52:10.723Z"
   },
   {
    "duration": 6,
    "start_time": "2024-10-17T23:12:32.944Z"
   },
   {
    "duration": 6,
    "start_time": "2024-10-17T23:12:38.322Z"
   },
   {
    "duration": 5,
    "start_time": "2024-10-17T23:12:39.206Z"
   },
   {
    "duration": 5,
    "start_time": "2024-10-17T23:12:39.698Z"
   },
   {
    "duration": 5,
    "start_time": "2024-10-17T23:12:40.209Z"
   },
   {
    "duration": 5,
    "start_time": "2024-10-17T23:12:47.367Z"
   },
   {
    "duration": 6,
    "start_time": "2024-10-17T23:12:48.494Z"
   },
   {
    "duration": 5,
    "start_time": "2024-10-17T23:12:52.836Z"
   },
   {
    "duration": 9,
    "start_time": "2024-10-17T23:15:13.030Z"
   },
   {
    "duration": 8,
    "start_time": "2024-10-17T23:15:21.619Z"
   },
   {
    "duration": 7,
    "start_time": "2024-10-17T23:15:26.337Z"
   },
   {
    "duration": 6,
    "start_time": "2024-10-17T23:20:05.930Z"
   },
   {
    "duration": 16,
    "start_time": "2024-10-17T23:21:13.303Z"
   },
   {
    "duration": 5,
    "start_time": "2024-10-17T23:26:23.804Z"
   },
   {
    "duration": 5,
    "start_time": "2024-10-17T23:28:07.701Z"
   },
   {
    "duration": 17,
    "start_time": "2024-10-17T23:28:23.671Z"
   },
   {
    "duration": 12,
    "start_time": "2024-10-17T23:28:48.274Z"
   },
   {
    "duration": 5,
    "start_time": "2024-10-17T23:30:03.033Z"
   },
   {
    "duration": 11,
    "start_time": "2024-10-17T23:31:07.466Z"
   },
   {
    "duration": 14,
    "start_time": "2024-10-17T23:31:47.057Z"
   },
   {
    "duration": 5,
    "start_time": "2024-10-17T23:31:48.831Z"
   },
   {
    "duration": 13,
    "start_time": "2024-10-17T23:32:53.053Z"
   },
   {
    "duration": 9,
    "start_time": "2024-10-17T23:33:47.113Z"
   },
   {
    "duration": 27,
    "start_time": "2024-10-17T23:39:41.382Z"
   },
   {
    "duration": 20,
    "start_time": "2024-10-17T23:42:17.993Z"
   },
   {
    "duration": 19,
    "start_time": "2024-10-17T23:42:34.112Z"
   },
   {
    "duration": 220,
    "start_time": "2024-10-17T23:43:04.293Z"
   },
   {
    "duration": 805,
    "start_time": "2024-10-17T23:44:36.200Z"
   },
   {
    "duration": 179,
    "start_time": "2024-10-17T23:44:37.009Z"
   },
   {
    "duration": 15,
    "start_time": "2024-10-17T23:44:37.191Z"
   },
   {
    "duration": 9,
    "start_time": "2024-10-17T23:44:37.209Z"
   },
   {
    "duration": 9,
    "start_time": "2024-10-17T23:44:37.221Z"
   },
   {
    "duration": 6,
    "start_time": "2024-10-17T23:44:37.231Z"
   },
   {
    "duration": 5,
    "start_time": "2024-10-17T23:44:37.239Z"
   },
   {
    "duration": 16,
    "start_time": "2024-10-17T23:44:37.245Z"
   },
   {
    "duration": 5,
    "start_time": "2024-10-17T23:44:37.262Z"
   },
   {
    "duration": 53,
    "start_time": "2024-10-17T23:44:37.268Z"
   },
   {
    "duration": 13,
    "start_time": "2024-10-17T23:44:37.322Z"
   },
   {
    "duration": 4,
    "start_time": "2024-10-17T23:44:37.336Z"
   },
   {
    "duration": 10,
    "start_time": "2024-10-17T23:44:37.342Z"
   },
   {
    "duration": 14,
    "start_time": "2024-10-17T23:44:37.356Z"
   },
   {
    "duration": 4,
    "start_time": "2024-10-17T23:44:37.372Z"
   },
   {
    "duration": 15,
    "start_time": "2024-10-17T23:44:37.413Z"
   },
   {
    "duration": 9,
    "start_time": "2024-10-17T23:44:37.430Z"
   },
   {
    "duration": 31,
    "start_time": "2024-10-17T23:44:37.441Z"
   },
   {
    "duration": 50,
    "start_time": "2024-10-17T23:44:37.474Z"
   },
   {
    "duration": 20,
    "start_time": "2024-10-17T23:44:37.526Z"
   },
   {
    "duration": 23,
    "start_time": "2024-10-17T23:44:37.547Z"
   },
   {
    "duration": 167,
    "start_time": "2024-10-17T23:44:37.571Z"
   },
   {
    "duration": 0,
    "start_time": "2024-10-17T23:44:37.743Z"
   },
   {
    "duration": 0,
    "start_time": "2024-10-17T23:44:37.744Z"
   },
   {
    "duration": 0,
    "start_time": "2024-10-17T23:44:37.746Z"
   },
   {
    "duration": 0,
    "start_time": "2024-10-17T23:44:37.747Z"
   },
   {
    "duration": 0,
    "start_time": "2024-10-17T23:44:37.748Z"
   },
   {
    "duration": 0,
    "start_time": "2024-10-17T23:44:37.750Z"
   },
   {
    "duration": 0,
    "start_time": "2024-10-17T23:44:37.751Z"
   },
   {
    "duration": 0,
    "start_time": "2024-10-17T23:44:37.753Z"
   },
   {
    "duration": 0,
    "start_time": "2024-10-17T23:44:37.755Z"
   },
   {
    "duration": 0,
    "start_time": "2024-10-17T23:44:37.756Z"
   },
   {
    "duration": 29,
    "start_time": "2024-10-17T23:50:02.217Z"
   },
   {
    "duration": 29,
    "start_time": "2024-10-17T23:51:37.409Z"
   },
   {
    "duration": 23,
    "start_time": "2024-10-17T23:52:21.338Z"
   },
   {
    "duration": 20,
    "start_time": "2024-10-17T23:52:23.239Z"
   },
   {
    "duration": 23,
    "start_time": "2024-10-17T23:52:24.230Z"
   },
   {
    "duration": 23,
    "start_time": "2024-10-17T23:53:25.513Z"
   },
   {
    "duration": 174,
    "start_time": "2024-10-17T23:54:38.406Z"
   },
   {
    "duration": 31,
    "start_time": "2024-10-17T23:55:33.186Z"
   },
   {
    "duration": 27,
    "start_time": "2024-10-17T23:55:41.104Z"
   },
   {
    "duration": 20,
    "start_time": "2024-10-17T23:55:43.227Z"
   },
   {
    "duration": 23,
    "start_time": "2024-10-17T23:55:44.671Z"
   },
   {
    "duration": 15,
    "start_time": "2024-10-17T23:55:47.380Z"
   },
   {
    "duration": 13,
    "start_time": "2024-10-17T23:59:37.506Z"
   },
   {
    "duration": 1518,
    "start_time": "2024-10-18T00:01:51.048Z"
   },
   {
    "duration": 2478,
    "start_time": "2024-10-18T04:25:11.797Z"
   },
   {
    "duration": 220,
    "start_time": "2024-10-18T04:25:14.277Z"
   },
   {
    "duration": 9,
    "start_time": "2024-10-18T04:25:14.499Z"
   },
   {
    "duration": 5,
    "start_time": "2024-10-18T04:25:14.510Z"
   },
   {
    "duration": 7,
    "start_time": "2024-10-18T04:25:14.517Z"
   },
   {
    "duration": 5,
    "start_time": "2024-10-18T04:25:14.527Z"
   },
   {
    "duration": 5,
    "start_time": "2024-10-18T04:25:14.533Z"
   },
   {
    "duration": 14,
    "start_time": "2024-10-18T04:25:14.540Z"
   },
   {
    "duration": 4,
    "start_time": "2024-10-18T04:25:14.556Z"
   },
   {
    "duration": 50,
    "start_time": "2024-10-18T04:25:14.562Z"
   },
   {
    "duration": 13,
    "start_time": "2024-10-18T04:25:14.613Z"
   },
   {
    "duration": 5,
    "start_time": "2024-10-18T04:25:14.627Z"
   },
   {
    "duration": 10,
    "start_time": "2024-10-18T04:25:14.634Z"
   },
   {
    "duration": 13,
    "start_time": "2024-10-18T04:25:14.646Z"
   },
   {
    "duration": 4,
    "start_time": "2024-10-18T04:25:14.660Z"
   },
   {
    "duration": 46,
    "start_time": "2024-10-18T04:25:14.666Z"
   },
   {
    "duration": 10,
    "start_time": "2024-10-18T04:25:14.714Z"
   },
   {
    "duration": 32,
    "start_time": "2024-10-18T04:25:14.725Z"
   },
   {
    "duration": 25,
    "start_time": "2024-10-18T04:25:14.759Z"
   },
   {
    "duration": 43,
    "start_time": "2024-10-18T04:25:14.786Z"
   },
   {
    "duration": 19,
    "start_time": "2024-10-18T04:25:14.830Z"
   },
   {
    "duration": 15,
    "start_time": "2024-10-18T04:25:14.851Z"
   },
   {
    "duration": 9,
    "start_time": "2024-10-18T04:25:14.869Z"
   },
   {
    "duration": 1471,
    "start_time": "2024-10-18T04:25:14.879Z"
   },
   {
    "duration": 2,
    "start_time": "2024-10-18T04:25:16.352Z"
   },
   {
    "duration": 3,
    "start_time": "2024-10-18T04:25:16.356Z"
   },
   {
    "duration": 3,
    "start_time": "2024-10-18T04:25:16.360Z"
   },
   {
    "duration": 2,
    "start_time": "2024-10-18T04:25:16.367Z"
   },
   {
    "duration": 3,
    "start_time": "2024-10-18T04:25:16.370Z"
   },
   {
    "duration": 4,
    "start_time": "2024-10-18T04:25:16.374Z"
   },
   {
    "duration": 4,
    "start_time": "2024-10-18T04:25:16.379Z"
   },
   {
    "duration": 2,
    "start_time": "2024-10-18T04:25:16.412Z"
   },
   {
    "duration": 2511,
    "start_time": "2024-10-18T17:40:44.307Z"
   },
   {
    "duration": 226,
    "start_time": "2024-10-18T17:40:46.821Z"
   },
   {
    "duration": 8,
    "start_time": "2024-10-18T17:40:47.049Z"
   },
   {
    "duration": 5,
    "start_time": "2024-10-18T17:40:47.059Z"
   },
   {
    "duration": 8,
    "start_time": "2024-10-18T17:40:47.067Z"
   },
   {
    "duration": 10,
    "start_time": "2024-10-18T17:40:47.077Z"
   },
   {
    "duration": 4,
    "start_time": "2024-10-18T17:40:47.089Z"
   },
   {
    "duration": 14,
    "start_time": "2024-10-18T17:40:47.095Z"
   },
   {
    "duration": 4,
    "start_time": "2024-10-18T17:40:47.112Z"
   },
   {
    "duration": 15,
    "start_time": "2024-10-18T17:40:47.118Z"
   },
   {
    "duration": 12,
    "start_time": "2024-10-18T17:40:47.135Z"
   },
   {
    "duration": 4,
    "start_time": "2024-10-18T17:40:47.148Z"
   },
   {
    "duration": 45,
    "start_time": "2024-10-18T17:40:47.153Z"
   },
   {
    "duration": 15,
    "start_time": "2024-10-18T17:40:47.202Z"
   },
   {
    "duration": 5,
    "start_time": "2024-10-18T17:40:47.218Z"
   },
   {
    "duration": 13,
    "start_time": "2024-10-18T17:40:47.225Z"
   },
   {
    "duration": 8,
    "start_time": "2024-10-18T17:40:47.240Z"
   },
   {
    "duration": 65,
    "start_time": "2024-10-18T17:40:47.249Z"
   },
   {
    "duration": 24,
    "start_time": "2024-10-18T17:40:47.316Z"
   },
   {
    "duration": 17,
    "start_time": "2024-10-18T17:40:47.342Z"
   },
   {
    "duration": 36,
    "start_time": "2024-10-18T17:40:47.361Z"
   },
   {
    "duration": 14,
    "start_time": "2024-10-18T17:40:47.399Z"
   },
   {
    "duration": 11,
    "start_time": "2024-10-18T17:40:47.415Z"
   },
   {
    "duration": 1486,
    "start_time": "2024-10-18T17:40:47.428Z"
   },
   {
    "duration": 2,
    "start_time": "2024-10-18T17:40:48.917Z"
   },
   {
    "duration": 2,
    "start_time": "2024-10-18T17:40:48.921Z"
   },
   {
    "duration": 1,
    "start_time": "2024-10-18T17:40:48.926Z"
   },
   {
    "duration": 3,
    "start_time": "2024-10-18T17:40:48.929Z"
   },
   {
    "duration": 2,
    "start_time": "2024-10-18T17:40:48.933Z"
   },
   {
    "duration": 2,
    "start_time": "2024-10-18T17:40:48.937Z"
   },
   {
    "duration": 2,
    "start_time": "2024-10-18T17:40:48.941Z"
   },
   {
    "duration": 3,
    "start_time": "2024-10-18T17:40:48.944Z"
   },
   {
    "duration": 7,
    "start_time": "2024-10-18T17:42:32.458Z"
   },
   {
    "duration": 6,
    "start_time": "2024-10-18T17:42:36.257Z"
   },
   {
    "duration": 322,
    "start_time": "2024-10-18T17:42:49.882Z"
   },
   {
    "duration": 346,
    "start_time": "2024-10-18T17:44:09.734Z"
   },
   {
    "duration": 7,
    "start_time": "2024-10-18T17:45:31.972Z"
   },
   {
    "duration": 130,
    "start_time": "2024-10-18T17:46:27.667Z"
   },
   {
    "duration": 408,
    "start_time": "2024-10-18T17:54:13.047Z"
   },
   {
    "duration": 2643,
    "start_time": "2024-10-18T19:16:39.323Z"
   },
   {
    "duration": 243,
    "start_time": "2024-10-18T19:16:41.968Z"
   },
   {
    "duration": 9,
    "start_time": "2024-10-18T19:16:42.213Z"
   },
   {
    "duration": 5,
    "start_time": "2024-10-18T19:16:42.224Z"
   },
   {
    "duration": 8,
    "start_time": "2024-10-18T19:16:42.231Z"
   },
   {
    "duration": 5,
    "start_time": "2024-10-18T19:16:42.241Z"
   },
   {
    "duration": 5,
    "start_time": "2024-10-18T19:16:42.248Z"
   },
   {
    "duration": 15,
    "start_time": "2024-10-18T19:16:42.254Z"
   },
   {
    "duration": 4,
    "start_time": "2024-10-18T19:16:42.272Z"
   },
   {
    "duration": 18,
    "start_time": "2024-10-18T19:16:42.277Z"
   },
   {
    "duration": 13,
    "start_time": "2024-10-18T19:16:42.296Z"
   },
   {
    "duration": 35,
    "start_time": "2024-10-18T19:16:42.311Z"
   },
   {
    "duration": 13,
    "start_time": "2024-10-18T19:16:42.348Z"
   },
   {
    "duration": 16,
    "start_time": "2024-10-18T19:16:42.365Z"
   },
   {
    "duration": 4,
    "start_time": "2024-10-18T19:16:42.383Z"
   },
   {
    "duration": 13,
    "start_time": "2024-10-18T19:16:42.389Z"
   },
   {
    "duration": 39,
    "start_time": "2024-10-18T19:16:42.404Z"
   },
   {
    "duration": 31,
    "start_time": "2024-10-18T19:16:42.445Z"
   },
   {
    "duration": 25,
    "start_time": "2024-10-18T19:16:42.478Z"
   },
   {
    "duration": 39,
    "start_time": "2024-10-18T19:16:42.504Z"
   },
   {
    "duration": 20,
    "start_time": "2024-10-18T19:16:42.545Z"
   },
   {
    "duration": 18,
    "start_time": "2024-10-18T19:16:42.566Z"
   },
   {
    "duration": 10,
    "start_time": "2024-10-18T19:16:42.585Z"
   },
   {
    "duration": 1530,
    "start_time": "2024-10-18T19:16:42.597Z"
   },
   {
    "duration": 341,
    "start_time": "2024-10-18T19:16:44.129Z"
   },
   {
    "duration": 376,
    "start_time": "2024-10-18T19:16:44.473Z"
   },
   {
    "duration": 7,
    "start_time": "2024-10-18T19:16:44.851Z"
   },
   {
    "duration": 149,
    "start_time": "2024-10-18T19:16:44.860Z"
   },
   {
    "duration": 450,
    "start_time": "2024-10-18T19:16:45.012Z"
   },
   {
    "duration": 2,
    "start_time": "2024-10-18T19:16:45.463Z"
   },
   {
    "duration": 3,
    "start_time": "2024-10-18T19:16:45.467Z"
   },
   {
    "duration": 2,
    "start_time": "2024-10-18T19:16:45.471Z"
   },
   {
    "duration": 10,
    "start_time": "2024-10-18T19:18:51.868Z"
   },
   {
    "duration": 327,
    "start_time": "2024-10-18T19:18:54.264Z"
   },
   {
    "duration": 202,
    "start_time": "2024-10-18T19:39:55.792Z"
   },
   {
    "duration": 254,
    "start_time": "2024-10-18T19:40:47.818Z"
   },
   {
    "duration": 229,
    "start_time": "2024-10-18T19:41:56.068Z"
   },
   {
    "duration": 297,
    "start_time": "2024-10-18T19:43:21.870Z"
   },
   {
    "duration": 3,
    "start_time": "2024-10-18T19:57:08.423Z"
   },
   {
    "duration": 120,
    "start_time": "2024-10-18T19:57:45.656Z"
   },
   {
    "duration": 449,
    "start_time": "2024-10-18T19:58:00.686Z"
   },
   {
    "duration": 123,
    "start_time": "2024-10-18T20:00:05.526Z"
   },
   {
    "duration": 12,
    "start_time": "2024-10-18T20:00:46.270Z"
   },
   {
    "duration": 191,
    "start_time": "2024-10-18T20:00:54.792Z"
   },
   {
    "duration": 19,
    "start_time": "2024-10-18T20:17:17.237Z"
   },
   {
    "duration": 7,
    "start_time": "2024-10-18T20:18:09.497Z"
   },
   {
    "duration": 122,
    "start_time": "2024-10-18T20:19:47.540Z"
   },
   {
    "duration": 6,
    "start_time": "2024-10-18T20:19:57.505Z"
   },
   {
    "duration": 2529,
    "start_time": "2024-10-18T23:20:11.742Z"
   },
   {
    "duration": 221,
    "start_time": "2024-10-18T23:20:14.273Z"
   },
   {
    "duration": 8,
    "start_time": "2024-10-18T23:20:14.497Z"
   },
   {
    "duration": 5,
    "start_time": "2024-10-18T23:20:14.507Z"
   },
   {
    "duration": 7,
    "start_time": "2024-10-18T23:20:14.516Z"
   },
   {
    "duration": 5,
    "start_time": "2024-10-18T23:20:14.525Z"
   },
   {
    "duration": 5,
    "start_time": "2024-10-18T23:20:14.531Z"
   },
   {
    "duration": 15,
    "start_time": "2024-10-18T23:20:14.537Z"
   },
   {
    "duration": 4,
    "start_time": "2024-10-18T23:20:14.553Z"
   },
   {
    "duration": 54,
    "start_time": "2024-10-18T23:20:14.559Z"
   },
   {
    "duration": 12,
    "start_time": "2024-10-18T23:20:14.614Z"
   },
   {
    "duration": 4,
    "start_time": "2024-10-18T23:20:14.627Z"
   },
   {
    "duration": 10,
    "start_time": "2024-10-18T23:20:14.632Z"
   },
   {
    "duration": 13,
    "start_time": "2024-10-18T23:20:14.645Z"
   },
   {
    "duration": 4,
    "start_time": "2024-10-18T23:20:14.660Z"
   },
   {
    "duration": 45,
    "start_time": "2024-10-18T23:20:14.666Z"
   },
   {
    "duration": 8,
    "start_time": "2024-10-18T23:20:14.712Z"
   },
   {
    "duration": 32,
    "start_time": "2024-10-18T23:20:14.722Z"
   },
   {
    "duration": 30,
    "start_time": "2024-10-18T23:20:14.756Z"
   },
   {
    "duration": 20,
    "start_time": "2024-10-18T23:20:14.810Z"
   },
   {
    "duration": 22,
    "start_time": "2024-10-18T23:20:14.832Z"
   },
   {
    "duration": 17,
    "start_time": "2024-10-18T23:20:14.856Z"
   },
   {
    "duration": 35,
    "start_time": "2024-10-18T23:20:14.875Z"
   },
   {
    "duration": 1475,
    "start_time": "2024-10-18T23:20:14.912Z"
   },
   {
    "duration": 339,
    "start_time": "2024-10-18T23:20:16.388Z"
   },
   {
    "duration": 331,
    "start_time": "2024-10-18T23:20:16.729Z"
   },
   {
    "duration": 8,
    "start_time": "2024-10-18T23:20:17.061Z"
   },
   {
    "duration": 154,
    "start_time": "2024-10-18T23:20:17.071Z"
   },
   {
    "duration": 470,
    "start_time": "2024-10-18T23:20:17.227Z"
   },
   {
    "duration": 9,
    "start_time": "2024-10-18T23:20:17.700Z"
   },
   {
    "duration": 351,
    "start_time": "2024-10-18T23:20:17.711Z"
   },
   {
    "duration": 199,
    "start_time": "2024-10-18T23:20:18.063Z"
   },
   {
    "duration": 281,
    "start_time": "2024-10-18T23:20:18.264Z"
   },
   {
    "duration": 322,
    "start_time": "2024-10-18T23:20:18.547Z"
   },
   {
    "duration": 131,
    "start_time": "2024-10-18T23:20:18.871Z"
   },
   {
    "duration": 233,
    "start_time": "2024-10-18T23:20:19.009Z"
   },
   {
    "duration": 0,
    "start_time": "2024-10-18T23:20:19.244Z"
   },
   {
    "duration": 0,
    "start_time": "2024-10-18T23:20:19.246Z"
   },
   {
    "duration": 0,
    "start_time": "2024-10-18T23:20:19.247Z"
   },
   {
    "duration": 451,
    "start_time": "2024-10-18T23:22:09.983Z"
   },
   {
    "duration": 3,
    "start_time": "2024-10-18T23:23:55.733Z"
   },
   {
    "duration": 12,
    "start_time": "2024-10-18T23:33:14.815Z"
   },
   {
    "duration": 20,
    "start_time": "2024-10-18T23:34:02.570Z"
   },
   {
    "duration": 7,
    "start_time": "2024-10-18T23:35:00.399Z"
   },
   {
    "duration": 8,
    "start_time": "2024-10-18T23:36:21.378Z"
   },
   {
    "duration": 10,
    "start_time": "2024-10-18T23:37:21.018Z"
   },
   {
    "duration": 10,
    "start_time": "2024-10-18T23:37:37.604Z"
   },
   {
    "duration": 8,
    "start_time": "2024-10-18T23:37:46.809Z"
   },
   {
    "duration": 9,
    "start_time": "2024-10-18T23:37:55.229Z"
   },
   {
    "duration": 2990,
    "start_time": "2024-10-20T04:01:39.212Z"
   },
   {
    "duration": 243,
    "start_time": "2024-10-20T04:01:42.205Z"
   },
   {
    "duration": 10,
    "start_time": "2024-10-20T04:01:42.451Z"
   },
   {
    "duration": 5,
    "start_time": "2024-10-20T04:01:42.464Z"
   },
   {
    "duration": 9,
    "start_time": "2024-10-20T04:01:42.470Z"
   },
   {
    "duration": 5,
    "start_time": "2024-10-20T04:01:42.480Z"
   },
   {
    "duration": 5,
    "start_time": "2024-10-20T04:01:42.487Z"
   },
   {
    "duration": 49,
    "start_time": "2024-10-20T04:01:42.494Z"
   },
   {
    "duration": 5,
    "start_time": "2024-10-20T04:01:42.545Z"
   },
   {
    "duration": 31,
    "start_time": "2024-10-20T04:01:42.554Z"
   },
   {
    "duration": 15,
    "start_time": "2024-10-20T04:01:42.587Z"
   },
   {
    "duration": 5,
    "start_time": "2024-10-20T04:01:42.604Z"
   },
   {
    "duration": 35,
    "start_time": "2024-10-20T04:01:42.611Z"
   },
   {
    "duration": 17,
    "start_time": "2024-10-20T04:01:42.648Z"
   },
   {
    "duration": 5,
    "start_time": "2024-10-20T04:01:42.666Z"
   },
   {
    "duration": 14,
    "start_time": "2024-10-20T04:01:42.673Z"
   },
   {
    "duration": 9,
    "start_time": "2024-10-20T04:01:42.690Z"
   },
   {
    "duration": 73,
    "start_time": "2024-10-20T04:01:42.701Z"
   },
   {
    "duration": 32,
    "start_time": "2024-10-20T04:01:42.776Z"
   },
   {
    "duration": 33,
    "start_time": "2024-10-20T04:01:42.810Z"
   },
   {
    "duration": 21,
    "start_time": "2024-10-20T04:01:42.844Z"
   },
   {
    "duration": 15,
    "start_time": "2024-10-20T04:01:42.867Z"
   },
   {
    "duration": 10,
    "start_time": "2024-10-20T04:01:42.885Z"
   },
   {
    "duration": 1560,
    "start_time": "2024-10-20T04:01:42.896Z"
   },
   {
    "duration": 307,
    "start_time": "2024-10-20T04:01:44.459Z"
   },
   {
    "duration": 364,
    "start_time": "2024-10-20T04:01:44.769Z"
   },
   {
    "duration": 12,
    "start_time": "2024-10-20T04:01:45.135Z"
   },
   {
    "duration": 227,
    "start_time": "2024-10-20T04:01:45.152Z"
   },
   {
    "duration": 426,
    "start_time": "2024-10-20T04:01:45.381Z"
   },
   {
    "duration": 10,
    "start_time": "2024-10-20T04:01:45.809Z"
   },
   {
    "duration": 386,
    "start_time": "2024-10-20T04:01:45.822Z"
   },
   {
    "duration": 271,
    "start_time": "2024-10-20T04:01:46.210Z"
   },
   {
    "duration": 224,
    "start_time": "2024-10-20T04:01:46.483Z"
   },
   {
    "duration": 360,
    "start_time": "2024-10-20T04:01:46.709Z"
   },
   {
    "duration": 140,
    "start_time": "2024-10-20T04:01:47.070Z"
   },
   {
    "duration": 297,
    "start_time": "2024-10-20T04:01:47.211Z"
   },
   {
    "duration": 0,
    "start_time": "2024-10-20T04:01:47.509Z"
   },
   {
    "duration": 0,
    "start_time": "2024-10-20T04:01:47.510Z"
   },
   {
    "duration": 0,
    "start_time": "2024-10-20T04:01:47.512Z"
   },
   {
    "duration": 7,
    "start_time": "2024-10-20T04:05:11.489Z"
   },
   {
    "duration": 8,
    "start_time": "2024-10-20T04:05:27.770Z"
   },
   {
    "duration": 9,
    "start_time": "2024-10-20T04:06:30.896Z"
   },
   {
    "duration": 8,
    "start_time": "2024-10-20T04:06:59.823Z"
   },
   {
    "duration": 449,
    "start_time": "2024-10-20T04:08:00.974Z"
   },
   {
    "duration": 7,
    "start_time": "2024-10-20T04:08:40.853Z"
   },
   {
    "duration": 16,
    "start_time": "2024-10-20T04:09:23.344Z"
   },
   {
    "duration": 15,
    "start_time": "2024-10-20T04:20:55.874Z"
   },
   {
    "duration": 17,
    "start_time": "2024-10-20T04:23:58.658Z"
   },
   {
    "duration": 240,
    "start_time": "2024-10-20T04:25:46.801Z"
   },
   {
    "duration": 167,
    "start_time": "2024-10-20T04:29:21.851Z"
   },
   {
    "duration": 9,
    "start_time": "2024-10-20T04:32:11.124Z"
   },
   {
    "duration": 238,
    "start_time": "2024-10-20T04:35:41.301Z"
   },
   {
    "duration": 139,
    "start_time": "2024-10-20T04:35:48.410Z"
   },
   {
    "duration": 872,
    "start_time": "2024-10-20T04:36:22.657Z"
   },
   {
    "duration": 177,
    "start_time": "2024-10-20T04:36:23.531Z"
   },
   {
    "duration": 9,
    "start_time": "2024-10-20T04:36:23.710Z"
   },
   {
    "duration": 5,
    "start_time": "2024-10-20T04:36:23.720Z"
   },
   {
    "duration": 19,
    "start_time": "2024-10-20T04:36:23.727Z"
   },
   {
    "duration": 5,
    "start_time": "2024-10-20T04:36:23.748Z"
   },
   {
    "duration": 5,
    "start_time": "2024-10-20T04:36:23.755Z"
   },
   {
    "duration": 8,
    "start_time": "2024-10-20T04:36:23.761Z"
   },
   {
    "duration": 15,
    "start_time": "2024-10-20T04:36:23.771Z"
   },
   {
    "duration": 4,
    "start_time": "2024-10-20T04:36:23.787Z"
   },
   {
    "duration": 50,
    "start_time": "2024-10-20T04:36:23.793Z"
   },
   {
    "duration": 12,
    "start_time": "2024-10-20T04:36:23.844Z"
   },
   {
    "duration": 5,
    "start_time": "2024-10-20T04:36:23.858Z"
   },
   {
    "duration": 9,
    "start_time": "2024-10-20T04:36:23.867Z"
   },
   {
    "duration": 14,
    "start_time": "2024-10-20T04:36:23.878Z"
   },
   {
    "duration": 4,
    "start_time": "2024-10-20T04:36:23.893Z"
   },
   {
    "duration": 54,
    "start_time": "2024-10-20T04:36:23.899Z"
   },
   {
    "duration": 9,
    "start_time": "2024-10-20T04:36:23.954Z"
   },
   {
    "duration": 32,
    "start_time": "2024-10-20T04:36:23.965Z"
   },
   {
    "duration": 24,
    "start_time": "2024-10-20T04:36:24.000Z"
   },
   {
    "duration": 20,
    "start_time": "2024-10-20T04:36:24.042Z"
   },
   {
    "duration": 20,
    "start_time": "2024-10-20T04:36:24.064Z"
   },
   {
    "duration": 14,
    "start_time": "2024-10-20T04:36:24.085Z"
   },
   {
    "duration": 10,
    "start_time": "2024-10-20T04:36:24.101Z"
   },
   {
    "duration": 1521,
    "start_time": "2024-10-20T04:36:24.112Z"
   },
   {
    "duration": 319,
    "start_time": "2024-10-20T04:36:25.635Z"
   },
   {
    "duration": 404,
    "start_time": "2024-10-20T04:36:25.956Z"
   },
   {
    "duration": 7,
    "start_time": "2024-10-20T04:36:26.363Z"
   },
   {
    "duration": 143,
    "start_time": "2024-10-20T04:36:26.372Z"
   },
   {
    "duration": 395,
    "start_time": "2024-10-20T04:36:26.516Z"
   },
   {
    "duration": 10,
    "start_time": "2024-10-20T04:36:26.913Z"
   },
   {
    "duration": 349,
    "start_time": "2024-10-20T04:36:26.924Z"
   },
   {
    "duration": 215,
    "start_time": "2024-10-20T04:36:27.275Z"
   },
   {
    "duration": 217,
    "start_time": "2024-10-20T04:36:27.492Z"
   },
   {
    "duration": 345,
    "start_time": "2024-10-20T04:36:27.711Z"
   },
   {
    "duration": 132,
    "start_time": "2024-10-20T04:36:28.058Z"
   },
   {
    "duration": 571,
    "start_time": "2024-10-20T04:36:28.192Z"
   },
   {
    "duration": 0,
    "start_time": "2024-10-20T04:36:28.765Z"
   },
   {
    "duration": 0,
    "start_time": "2024-10-20T04:36:28.766Z"
   },
   {
    "duration": 0,
    "start_time": "2024-10-20T04:36:28.767Z"
   },
   {
    "duration": 27,
    "start_time": "2024-10-20T04:36:44.723Z"
   },
   {
    "duration": 27,
    "start_time": "2024-10-20T04:36:47.104Z"
   },
   {
    "duration": 26,
    "start_time": "2024-10-20T04:38:58.755Z"
   },
   {
    "duration": 42,
    "start_time": "2024-10-20T04:39:29.440Z"
   },
   {
    "duration": 18,
    "start_time": "2024-10-20T05:16:14.173Z"
   },
   {
    "duration": 44,
    "start_time": "2024-10-20T05:25:19.669Z"
   },
   {
    "duration": 232,
    "start_time": "2024-10-20T05:25:31.013Z"
   },
   {
    "duration": 134,
    "start_time": "2024-10-20T05:25:48.229Z"
   },
   {
    "duration": 123,
    "start_time": "2024-10-20T05:26:18.635Z"
   },
   {
    "duration": 37,
    "start_time": "2024-10-20T05:27:55.850Z"
   },
   {
    "duration": 104,
    "start_time": "2024-10-20T05:28:13.140Z"
   },
   {
    "duration": 7,
    "start_time": "2024-10-20T05:28:40.335Z"
   },
   {
    "duration": 7,
    "start_time": "2024-10-20T05:31:03.360Z"
   },
   {
    "duration": 4,
    "start_time": "2024-10-20T05:33:40.652Z"
   },
   {
    "duration": 8,
    "start_time": "2024-10-20T05:33:50.405Z"
   },
   {
    "duration": 2577,
    "start_time": "2024-10-20T17:27:24.132Z"
   },
   {
    "duration": 224,
    "start_time": "2024-10-20T17:27:26.711Z"
   },
   {
    "duration": 9,
    "start_time": "2024-10-20T17:27:26.937Z"
   },
   {
    "duration": 6,
    "start_time": "2024-10-20T17:27:26.948Z"
   },
   {
    "duration": 8,
    "start_time": "2024-10-20T17:27:26.957Z"
   },
   {
    "duration": 4,
    "start_time": "2024-10-20T17:27:26.967Z"
   },
   {
    "duration": 5,
    "start_time": "2024-10-20T17:27:26.973Z"
   },
   {
    "duration": 32,
    "start_time": "2024-10-20T17:27:26.979Z"
   },
   {
    "duration": 15,
    "start_time": "2024-10-20T17:27:27.012Z"
   },
   {
    "duration": 4,
    "start_time": "2024-10-20T17:27:27.029Z"
   },
   {
    "duration": 16,
    "start_time": "2024-10-20T17:27:27.035Z"
   },
   {
    "duration": 11,
    "start_time": "2024-10-20T17:27:27.053Z"
   },
   {
    "duration": 3,
    "start_time": "2024-10-20T17:27:27.066Z"
   },
   {
    "duration": 10,
    "start_time": "2024-10-20T17:27:27.108Z"
   },
   {
    "duration": 13,
    "start_time": "2024-10-20T17:27:27.120Z"
   },
   {
    "duration": 4,
    "start_time": "2024-10-20T17:27:27.135Z"
   },
   {
    "duration": 12,
    "start_time": "2024-10-20T17:27:27.141Z"
   },
   {
    "duration": 8,
    "start_time": "2024-10-20T17:27:27.155Z"
   },
   {
    "duration": 69,
    "start_time": "2024-10-20T17:27:27.165Z"
   },
   {
    "duration": 25,
    "start_time": "2024-10-20T17:27:27.236Z"
   },
   {
    "duration": 22,
    "start_time": "2024-10-20T17:27:27.262Z"
   },
   {
    "duration": 36,
    "start_time": "2024-10-20T17:27:27.288Z"
   },
   {
    "duration": 14,
    "start_time": "2024-10-20T17:27:27.327Z"
   },
   {
    "duration": 10,
    "start_time": "2024-10-20T17:27:27.343Z"
   },
   {
    "duration": 1509,
    "start_time": "2024-10-20T17:27:27.355Z"
   },
   {
    "duration": 354,
    "start_time": "2024-10-20T17:27:28.866Z"
   },
   {
    "duration": 316,
    "start_time": "2024-10-20T17:27:29.222Z"
   },
   {
    "duration": 7,
    "start_time": "2024-10-20T17:27:29.540Z"
   },
   {
    "duration": 153,
    "start_time": "2024-10-20T17:27:29.549Z"
   },
   {
    "duration": 457,
    "start_time": "2024-10-20T17:27:29.704Z"
   },
   {
    "duration": 12,
    "start_time": "2024-10-20T17:27:30.163Z"
   },
   {
    "duration": 368,
    "start_time": "2024-10-20T17:27:30.176Z"
   },
   {
    "duration": 214,
    "start_time": "2024-10-20T17:27:30.545Z"
   },
   {
    "duration": 205,
    "start_time": "2024-10-20T17:27:30.761Z"
   },
   {
    "duration": 357,
    "start_time": "2024-10-20T17:27:30.968Z"
   },
   {
    "duration": 133,
    "start_time": "2024-10-20T17:27:31.327Z"
   },
   {
    "duration": 21,
    "start_time": "2024-10-20T17:27:31.461Z"
   },
   {
    "duration": 117,
    "start_time": "2024-10-20T17:27:31.484Z"
   },
   {
    "duration": 8,
    "start_time": "2024-10-20T17:27:31.608Z"
   },
   {
    "duration": 7,
    "start_time": "2024-10-20T17:27:31.617Z"
   },
   {
    "duration": 536,
    "start_time": "2024-10-20T17:27:52.810Z"
   },
   {
    "duration": 3,
    "start_time": "2024-10-20T17:28:35.985Z"
   },
   {
    "duration": 16,
    "start_time": "2024-10-20T17:29:23.348Z"
   },
   {
    "duration": 16,
    "start_time": "2024-10-20T17:30:33.857Z"
   },
   {
    "duration": 171,
    "start_time": "2024-10-21T04:56:24.653Z"
   },
   {
    "duration": 13,
    "start_time": "2024-10-21T04:56:28.183Z"
   },
   {
    "duration": 2472,
    "start_time": "2024-10-21T04:56:37.462Z"
   },
   {
    "duration": 230,
    "start_time": "2024-10-21T04:56:39.936Z"
   },
   {
    "duration": 8,
    "start_time": "2024-10-21T04:56:40.168Z"
   },
   {
    "duration": 5,
    "start_time": "2024-10-21T04:56:40.178Z"
   },
   {
    "duration": 8,
    "start_time": "2024-10-21T04:56:40.184Z"
   },
   {
    "duration": 4,
    "start_time": "2024-10-21T04:56:40.195Z"
   },
   {
    "duration": 5,
    "start_time": "2024-10-21T04:56:40.201Z"
   },
   {
    "duration": 8,
    "start_time": "2024-10-21T04:56:40.211Z"
   },
   {
    "duration": 14,
    "start_time": "2024-10-21T04:56:40.221Z"
   },
   {
    "duration": 4,
    "start_time": "2024-10-21T04:56:40.238Z"
   },
   {
    "duration": 17,
    "start_time": "2024-10-21T04:56:40.244Z"
   },
   {
    "duration": 12,
    "start_time": "2024-10-21T04:56:40.263Z"
   },
   {
    "duration": 36,
    "start_time": "2024-10-21T04:56:40.276Z"
   },
   {
    "duration": 9,
    "start_time": "2024-10-21T04:56:40.314Z"
   },
   {
    "duration": 13,
    "start_time": "2024-10-21T04:56:40.324Z"
   },
   {
    "duration": 5,
    "start_time": "2024-10-21T04:56:40.338Z"
   },
   {
    "duration": 13,
    "start_time": "2024-10-21T04:56:40.345Z"
   },
   {
    "duration": 10,
    "start_time": "2024-10-21T04:56:40.360Z"
   },
   {
    "duration": 64,
    "start_time": "2024-10-21T04:56:40.371Z"
   },
   {
    "duration": 25,
    "start_time": "2024-10-21T04:56:40.437Z"
   },
   {
    "duration": 19,
    "start_time": "2024-10-21T04:56:40.463Z"
   },
   {
    "duration": 41,
    "start_time": "2024-10-21T04:56:40.483Z"
   },
   {
    "duration": 15,
    "start_time": "2024-10-21T04:56:40.526Z"
   },
   {
    "duration": 10,
    "start_time": "2024-10-21T04:56:40.543Z"
   },
   {
    "duration": 1507,
    "start_time": "2024-10-21T04:56:40.554Z"
   },
   {
    "duration": 352,
    "start_time": "2024-10-21T04:56:42.062Z"
   },
   {
    "duration": 323,
    "start_time": "2024-10-21T04:56:42.416Z"
   },
   {
    "duration": 8,
    "start_time": "2024-10-21T04:56:42.742Z"
   },
   {
    "duration": 142,
    "start_time": "2024-10-21T04:56:42.751Z"
   },
   {
    "duration": 437,
    "start_time": "2024-10-21T04:56:42.895Z"
   },
   {
    "duration": 9,
    "start_time": "2024-10-21T04:56:43.334Z"
   },
   {
    "duration": 324,
    "start_time": "2024-10-21T04:56:43.344Z"
   },
   {
    "duration": 200,
    "start_time": "2024-10-21T04:56:43.670Z"
   },
   {
    "duration": 279,
    "start_time": "2024-10-21T04:56:43.872Z"
   },
   {
    "duration": 318,
    "start_time": "2024-10-21T04:56:44.153Z"
   },
   {
    "duration": 127,
    "start_time": "2024-10-21T04:56:44.473Z"
   },
   {
    "duration": 28,
    "start_time": "2024-10-21T04:56:44.603Z"
   },
   {
    "duration": 117,
    "start_time": "2024-10-21T04:56:44.633Z"
   },
   {
    "duration": 16,
    "start_time": "2024-10-21T04:56:44.753Z"
   },
   {
    "duration": 7,
    "start_time": "2024-10-21T04:56:44.770Z"
   },
   {
    "duration": 9,
    "start_time": "2024-10-21T04:58:22.750Z"
   },
   {
    "duration": 9,
    "start_time": "2024-10-21T05:01:23.979Z"
   },
   {
    "duration": 8,
    "start_time": "2024-10-21T05:16:18.280Z"
   },
   {
    "duration": 7,
    "start_time": "2024-10-21T05:17:10.172Z"
   },
   {
    "duration": 7,
    "start_time": "2024-10-21T05:17:55.169Z"
   },
   {
    "duration": 7,
    "start_time": "2024-10-21T05:19:41.284Z"
   }
  ],
  "colab": {
   "provenance": []
  },
  "kernelspec": {
   "display_name": "Python 3 (ipykernel)",
   "language": "python",
   "name": "python3"
  },
  "language_info": {
   "codemirror_mode": {
    "name": "ipython",
    "version": 3
   },
   "file_extension": ".py",
   "mimetype": "text/x-python",
   "name": "python",
   "nbconvert_exporter": "python",
   "pygments_lexer": "ipython3",
   "version": "3.9.19"
  },
  "toc": {
   "base_numbering": 1,
   "nav_menu": {},
   "number_sections": true,
   "sideBar": true,
   "skip_h1_title": false,
   "title_cell": "Table of Contents",
   "title_sidebar": "Contents",
   "toc_cell": false,
   "toc_position": {},
   "toc_section_display": true,
   "toc_window_display": true
  }
 },
 "nbformat": 4,
 "nbformat_minor": 1
}
