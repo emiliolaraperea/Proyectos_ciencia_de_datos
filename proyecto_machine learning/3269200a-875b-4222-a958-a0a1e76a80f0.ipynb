{
 "cells": [
  {
   "cell_type": "markdown",
   "metadata": {},
   "source": [
    "# Hola &#x1F600;,\n",
    "\n",
    "Soy **Hesus Garcia** – **\"Soy el único Hesus que conoces (y probablemente conocerás) 🌟\"** – Sí, como \"Jesús\", pero con una H que me hace único. Puede sonar raro, pero créeme, ¡no lo olvidarás! Como tu revisor en Triple-Ten, estoy aquí para guiarte y ayudarte a mejorar tu código. Si algo necesita un ajuste, no hay de qué preocuparse; ¡aquí estoy para hacer que tu trabajo brille con todo su potencial! ✨\n",
    "\n",
    "Cada vez que encuentre un detalle importante en tu código, te lo señalaré para que puedas corregirlo y así te prepares para un ambiente de trabajo real, donde el líder de tu equipo actuaría de manera similar. Si en algún momento no logras solucionar el problema, te daré más detalles para ayudarte en nuestra próxima oportunidad de revisión.\n",
    "\n",
    "Es importante que cuando encuentres un comentario, **no los muevas, no los modifiques, ni los borres**.\n",
    "\n",
    "---\n",
    "\n",
    "### Formato de Comentarios\n",
    "\n",
    "Revisaré cuidadosamente cada implementación en tu notebook para asegurar que cumpla con los requisitos y te daré comentarios de acuerdo al siguiente formato:\n",
    "\n",
    "\n",
    "<div class=\"alert alert-block alert-success\">\n",
    "<b>Comentario del revisor</b> <a class=\"tocSkip\"></a><br>\n",
    "    \n",
    "<b>Éxito</b> - ¡Excelente trabajo! Esta parte está bien implementada y contribuye significativamente al análisis de datos o al proyecto. Continúa aplicando estas buenas prácticas en futuras secciones.\n",
    "    \n",
    "</div>\n",
    "\n",
    "<div class=\"alert alert-block alert-warning\">\n",
    "<b>Comentario del revisor</b> <a class=\"tocSkip\"></a><br>\n",
    "    \n",
    "<b>Atención</b> ⚠️ - Este código está correcto, pero se puede optimizar. Considera implementar mejoras para que sea más eficiente y fácil de leer. Esto fortalecerá la calidad de tu proyecto.\n",
    "    \n",
    "</div>\n",
    "\n",
    "<div class=\"alert alert-block alert-danger\">\n",
    "<b>Comentario del revisor</b> <a class=\"tocSkip\"></a><br>\n",
    "    \n",
    "<b>A resolver</b> ❗ - Aquí hay un problema o error en el código que es necesario corregir para aprobar esta sección. Por favor, revisa y corrige este punto, ya que es fundamental para la validez del análisis y la precisión de los resultados.\n",
    "    \n",
    "</div>\n",
    "\n",
    "---\n",
    "\n",
    "Al final de cada revisión, recibirás un **Comentario General del Revisor** que incluirá:\n",
    "\n",
    "- **Aspectos positivos:** Un resumen de los puntos fuertes de tu proyecto.\n",
    "- **Áreas de mejora:** Sugerencias sobre aspectos donde puedes mejorar.\n",
    "- **Temas adicionales para investigar:** Ideas de temas opcionales que puedes explorar por tu cuenta para desarrollar aún más tus habilidades.\n",
    "\n",
    "Estos temas adicionales no son obligatorios en esta etapa, pero pueden serte útiles para profundizar en el futuro.\n",
    "\n",
    "---\n",
    "\n",
    "\n",
    "Esta estructura en viñetas facilita la lectura y comprensión de cada parte del comentario final.\n",
    "\n",
    "También puedes responderme de la siguiente manera si tienes alguna duda o quieres aclarar algo específico:\n",
    "\n",
    "\n",
    "<div class=\"alert alert-block alert-info\">\n",
    "<b>Respuesta del estudiante</b> <a class=\"tocSkip\"></a>\n",
    "    \n",
    "Aquí puedes escribir tu respuesta o pregunta sobre el comentario.\n",
    "    \n",
    "</div>\n",
    "\n",
    "\n",
    "**¡Empecemos!** &#x1F680;\n"
   ]
  },
  {
   "cell_type": "markdown",
   "metadata": {},
   "source": [
    "# Prototipo de modelo de machine learning para Zyfra"
   ]
  },
  {
   "cell_type": "markdown",
   "metadata": {},
   "source": [
    "# 1. Preparación de los datos"
   ]
  },
  {
   "cell_type": "markdown",
   "metadata": {},
   "source": [
    "# 1.1. Apertura de los archivos y examinación de los datos"
   ]
  },
  {
   "cell_type": "code",
   "execution_count": 1,
   "metadata": {},
   "outputs": [
    {
     "name": "stdout",
     "output_type": "stream",
     "text": [
      "Datos de entrenamiento:\n",
      "                     final.output.concentrate_ag  final.output.concentrate_pb  \\\n",
      "date                                                                            \n",
      "2016-01-15 00:00:00                     6.055403                     9.889648   \n",
      "2016-01-15 01:00:00                     6.029369                     9.968944   \n",
      "2016-01-15 02:00:00                     6.055926                    10.213995   \n",
      "2016-01-15 03:00:00                     6.047977                     9.977019   \n",
      "2016-01-15 04:00:00                     6.148599                    10.142511   \n",
      "\n",
      "                     final.output.concentrate_sol  \\\n",
      "date                                                \n",
      "2016-01-15 00:00:00                      5.507324   \n",
      "2016-01-15 01:00:00                      5.257781   \n",
      "2016-01-15 02:00:00                      5.383759   \n",
      "2016-01-15 03:00:00                      4.858634   \n",
      "2016-01-15 04:00:00                      4.939416   \n",
      "\n",
      "                     final.output.concentrate_au  final.output.recovery  \\\n",
      "date                                                                      \n",
      "2016-01-15 00:00:00                    42.192020              70.541216   \n",
      "2016-01-15 01:00:00                    42.701629              69.266198   \n",
      "2016-01-15 02:00:00                    42.657501              68.116445   \n",
      "2016-01-15 03:00:00                    42.689819              68.347543   \n",
      "2016-01-15 04:00:00                    42.774141              66.927016   \n",
      "\n",
      "                     final.output.tail_ag  final.output.tail_pb  \\\n",
      "date                                                              \n",
      "2016-01-15 00:00:00             10.411962              0.895447   \n",
      "2016-01-15 01:00:00             10.462676              0.927452   \n",
      "2016-01-15 02:00:00             10.507046              0.953716   \n",
      "2016-01-15 03:00:00             10.422762              0.883763   \n",
      "2016-01-15 04:00:00             10.360302              0.792826   \n",
      "\n",
      "                     final.output.tail_sol  final.output.tail_au  \\\n",
      "date                                                               \n",
      "2016-01-15 00:00:00              16.904297              2.143149   \n",
      "2016-01-15 01:00:00              16.634514              2.224930   \n",
      "2016-01-15 02:00:00              16.208849              2.257889   \n",
      "2016-01-15 03:00:00              16.532835              2.146849   \n",
      "2016-01-15 04:00:00              16.525686              2.055292   \n",
      "\n",
      "                     primary_cleaner.input.sulfate  ...  \\\n",
      "date                                                ...   \n",
      "2016-01-15 00:00:00                     127.092003  ...   \n",
      "2016-01-15 01:00:00                     125.629232  ...   \n",
      "2016-01-15 02:00:00                     123.819808  ...   \n",
      "2016-01-15 03:00:00                     122.270188  ...   \n",
      "2016-01-15 04:00:00                     117.988169  ...   \n",
      "\n",
      "                     secondary_cleaner.state.floatbank4_a_air  \\\n",
      "date                                                            \n",
      "2016-01-15 00:00:00                                 14.016835   \n",
      "2016-01-15 01:00:00                                 13.992281   \n",
      "2016-01-15 02:00:00                                 14.015015   \n",
      "2016-01-15 03:00:00                                 14.036510   \n",
      "2016-01-15 04:00:00                                 14.027298   \n",
      "\n",
      "                     secondary_cleaner.state.floatbank4_a_level  \\\n",
      "date                                                              \n",
      "2016-01-15 00:00:00                                 -502.488007   \n",
      "2016-01-15 01:00:00                                 -505.503262   \n",
      "2016-01-15 02:00:00                                 -502.520901   \n",
      "2016-01-15 03:00:00                                 -500.857308   \n",
      "2016-01-15 04:00:00                                 -499.838632   \n",
      "\n",
      "                     secondary_cleaner.state.floatbank4_b_air  \\\n",
      "date                                                            \n",
      "2016-01-15 00:00:00                                 12.099931   \n",
      "2016-01-15 01:00:00                                 11.950531   \n",
      "2016-01-15 02:00:00                                 11.912783   \n",
      "2016-01-15 03:00:00                                 11.999550   \n",
      "2016-01-15 04:00:00                                 11.953070   \n",
      "\n",
      "                     secondary_cleaner.state.floatbank4_b_level  \\\n",
      "date                                                              \n",
      "2016-01-15 00:00:00                                 -504.715942   \n",
      "2016-01-15 01:00:00                                 -501.331529   \n",
      "2016-01-15 02:00:00                                 -501.133383   \n",
      "2016-01-15 03:00:00                                 -501.193686   \n",
      "2016-01-15 04:00:00                                 -501.053894   \n",
      "\n",
      "                     secondary_cleaner.state.floatbank5_a_air  \\\n",
      "date                                                            \n",
      "2016-01-15 00:00:00                                  9.925633   \n",
      "2016-01-15 01:00:00                                 10.039245   \n",
      "2016-01-15 02:00:00                                 10.070913   \n",
      "2016-01-15 03:00:00                                  9.970366   \n",
      "2016-01-15 04:00:00                                  9.925709   \n",
      "\n",
      "                     secondary_cleaner.state.floatbank5_a_level  \\\n",
      "date                                                              \n",
      "2016-01-15 00:00:00                                 -498.310211   \n",
      "2016-01-15 01:00:00                                 -500.169983   \n",
      "2016-01-15 02:00:00                                 -500.129135   \n",
      "2016-01-15 03:00:00                                 -499.201640   \n",
      "2016-01-15 04:00:00                                 -501.686727   \n",
      "\n",
      "                     secondary_cleaner.state.floatbank5_b_air  \\\n",
      "date                                                            \n",
      "2016-01-15 00:00:00                                  8.079666   \n",
      "2016-01-15 01:00:00                                  7.984757   \n",
      "2016-01-15 02:00:00                                  8.013877   \n",
      "2016-01-15 03:00:00                                  7.977324   \n",
      "2016-01-15 04:00:00                                  7.894242   \n",
      "\n",
      "                     secondary_cleaner.state.floatbank5_b_level  \\\n",
      "date                                                              \n",
      "2016-01-15 00:00:00                                 -500.470978   \n",
      "2016-01-15 01:00:00                                 -500.582168   \n",
      "2016-01-15 02:00:00                                 -500.517572   \n",
      "2016-01-15 03:00:00                                 -500.255908   \n",
      "2016-01-15 04:00:00                                 -500.356035   \n",
      "\n",
      "                     secondary_cleaner.state.floatbank6_a_air  \\\n",
      "date                                                            \n",
      "2016-01-15 00:00:00                                 14.151341   \n",
      "2016-01-15 01:00:00                                 13.998353   \n",
      "2016-01-15 02:00:00                                 14.028663   \n",
      "2016-01-15 03:00:00                                 14.005551   \n",
      "2016-01-15 04:00:00                                 13.996647   \n",
      "\n",
      "                     secondary_cleaner.state.floatbank6_a_level  \n",
      "date                                                             \n",
      "2016-01-15 00:00:00                                 -605.841980  \n",
      "2016-01-15 01:00:00                                 -599.787184  \n",
      "2016-01-15 02:00:00                                 -601.427363  \n",
      "2016-01-15 03:00:00                                 -599.996129  \n",
      "2016-01-15 04:00:00                                 -601.496691  \n",
      "\n",
      "[5 rows x 86 columns] \n",
      "\n",
      "Datos de prueba:\n",
      "                     primary_cleaner.input.sulfate  \\\n",
      "date                                                 \n",
      "2016-09-01 00:59:59                     210.800909   \n",
      "2016-09-01 01:59:59                     215.392455   \n",
      "2016-09-01 02:59:59                     215.259946   \n",
      "2016-09-01 03:59:59                     215.336236   \n",
      "2016-09-01 04:59:59                     199.099327   \n",
      "\n",
      "                     primary_cleaner.input.depressant  \\\n",
      "date                                                    \n",
      "2016-09-01 00:59:59                         14.993118   \n",
      "2016-09-01 01:59:59                         14.987471   \n",
      "2016-09-01 02:59:59                         12.884934   \n",
      "2016-09-01 03:59:59                         12.006805   \n",
      "2016-09-01 04:59:59                         10.682530   \n",
      "\n",
      "                     primary_cleaner.input.feed_size  \\\n",
      "date                                                   \n",
      "2016-09-01 00:59:59                         8.080000   \n",
      "2016-09-01 01:59:59                         8.080000   \n",
      "2016-09-01 02:59:59                         7.786667   \n",
      "2016-09-01 03:59:59                         7.640000   \n",
      "2016-09-01 04:59:59                         7.530000   \n",
      "\n",
      "                     primary_cleaner.input.xanthate  \\\n",
      "date                                                  \n",
      "2016-09-01 00:59:59                        1.005021   \n",
      "2016-09-01 01:59:59                        0.990469   \n",
      "2016-09-01 02:59:59                        0.996043   \n",
      "2016-09-01 03:59:59                        0.863514   \n",
      "2016-09-01 04:59:59                        0.805575   \n",
      "\n",
      "                     primary_cleaner.state.floatbank8_a_air  \\\n",
      "date                                                          \n",
      "2016-09-01 00:59:59                             1398.981301   \n",
      "2016-09-01 01:59:59                             1398.777912   \n",
      "2016-09-01 02:59:59                             1398.493666   \n",
      "2016-09-01 03:59:59                             1399.618111   \n",
      "2016-09-01 04:59:59                             1401.268123   \n",
      "\n",
      "                     primary_cleaner.state.floatbank8_a_level  \\\n",
      "date                                                            \n",
      "2016-09-01 00:59:59                               -500.225577   \n",
      "2016-09-01 01:59:59                               -500.057435   \n",
      "2016-09-01 02:59:59                               -500.868360   \n",
      "2016-09-01 03:59:59                               -498.863574   \n",
      "2016-09-01 04:59:59                               -500.808305   \n",
      "\n",
      "                     primary_cleaner.state.floatbank8_b_air  \\\n",
      "date                                                          \n",
      "2016-09-01 00:59:59                             1399.144926   \n",
      "2016-09-01 01:59:59                             1398.055362   \n",
      "2016-09-01 02:59:59                             1398.860436   \n",
      "2016-09-01 03:59:59                             1397.440120   \n",
      "2016-09-01 04:59:59                             1398.128818   \n",
      "\n",
      "                     primary_cleaner.state.floatbank8_b_level  \\\n",
      "date                                                            \n",
      "2016-09-01 00:59:59                               -499.919735   \n",
      "2016-09-01 01:59:59                               -499.778182   \n",
      "2016-09-01 02:59:59                               -499.764529   \n",
      "2016-09-01 03:59:59                               -499.211024   \n",
      "2016-09-01 04:59:59                               -499.504543   \n",
      "\n",
      "                     primary_cleaner.state.floatbank8_c_air  \\\n",
      "date                                                          \n",
      "2016-09-01 00:59:59                             1400.102998   \n",
      "2016-09-01 01:59:59                             1396.151033   \n",
      "2016-09-01 02:59:59                             1398.075709   \n",
      "2016-09-01 03:59:59                             1400.129303   \n",
      "2016-09-01 04:59:59                             1402.172226   \n",
      "\n",
      "                     primary_cleaner.state.floatbank8_c_level  ...  \\\n",
      "date                                                           ...   \n",
      "2016-09-01 00:59:59                               -500.704369  ...   \n",
      "2016-09-01 01:59:59                               -499.240168  ...   \n",
      "2016-09-01 02:59:59                               -502.151509  ...   \n",
      "2016-09-01 03:59:59                               -498.355873  ...   \n",
      "2016-09-01 04:59:59                               -500.810606  ...   \n",
      "\n",
      "                     secondary_cleaner.state.floatbank4_a_air  \\\n",
      "date                                                            \n",
      "2016-09-01 00:59:59                                 12.023554   \n",
      "2016-09-01 01:59:59                                 12.058140   \n",
      "2016-09-01 02:59:59                                 11.962366   \n",
      "2016-09-01 03:59:59                                 12.033091   \n",
      "2016-09-01 04:59:59                                 12.025367   \n",
      "\n",
      "                     secondary_cleaner.state.floatbank4_a_level  \\\n",
      "date                                                              \n",
      "2016-09-01 00:59:59                                 -497.795834   \n",
      "2016-09-01 01:59:59                                 -498.695773   \n",
      "2016-09-01 02:59:59                                 -498.767484   \n",
      "2016-09-01 03:59:59                                 -498.350935   \n",
      "2016-09-01 04:59:59                                 -500.786497   \n",
      "\n",
      "                     secondary_cleaner.state.floatbank4_b_air  \\\n",
      "date                                                            \n",
      "2016-09-01 00:59:59                                  8.016656   \n",
      "2016-09-01 01:59:59                                  8.130979   \n",
      "2016-09-01 02:59:59                                  8.096893   \n",
      "2016-09-01 03:59:59                                  8.074946   \n",
      "2016-09-01 04:59:59                                  8.054678   \n",
      "\n",
      "                     secondary_cleaner.state.floatbank4_b_level  \\\n",
      "date                                                              \n",
      "2016-09-01 00:59:59                                 -501.289139   \n",
      "2016-09-01 01:59:59                                 -499.634209   \n",
      "2016-09-01 02:59:59                                 -500.827423   \n",
      "2016-09-01 03:59:59                                 -499.474407   \n",
      "2016-09-01 04:59:59                                 -500.397500   \n",
      "\n",
      "                     secondary_cleaner.state.floatbank5_a_air  \\\n",
      "date                                                            \n",
      "2016-09-01 00:59:59                                  7.946562   \n",
      "2016-09-01 01:59:59                                  7.958270   \n",
      "2016-09-01 02:59:59                                  8.071056   \n",
      "2016-09-01 03:59:59                                  7.897085   \n",
      "2016-09-01 04:59:59                                  8.107890   \n",
      "\n",
      "                     secondary_cleaner.state.floatbank5_a_level  \\\n",
      "date                                                              \n",
      "2016-09-01 00:59:59                                 -432.317850   \n",
      "2016-09-01 01:59:59                                 -525.839648   \n",
      "2016-09-01 02:59:59                                 -500.801673   \n",
      "2016-09-01 03:59:59                                 -500.868509   \n",
      "2016-09-01 04:59:59                                 -509.526725   \n",
      "\n",
      "                     secondary_cleaner.state.floatbank5_b_air  \\\n",
      "date                                                            \n",
      "2016-09-01 00:59:59                                  4.872511   \n",
      "2016-09-01 01:59:59                                  4.878850   \n",
      "2016-09-01 02:59:59                                  4.905125   \n",
      "2016-09-01 03:59:59                                  4.931400   \n",
      "2016-09-01 04:59:59                                  4.957674   \n",
      "\n",
      "                     secondary_cleaner.state.floatbank5_b_level  \\\n",
      "date                                                              \n",
      "2016-09-01 00:59:59                                 -500.037437   \n",
      "2016-09-01 01:59:59                                 -500.162375   \n",
      "2016-09-01 02:59:59                                 -499.828510   \n",
      "2016-09-01 03:59:59                                 -499.963623   \n",
      "2016-09-01 04:59:59                                 -500.360026   \n",
      "\n",
      "                     secondary_cleaner.state.floatbank6_a_air  \\\n",
      "date                                                            \n",
      "2016-09-01 00:59:59                                 26.705889   \n",
      "2016-09-01 01:59:59                                 25.019940   \n",
      "2016-09-01 02:59:59                                 24.994862   \n",
      "2016-09-01 03:59:59                                 24.948919   \n",
      "2016-09-01 04:59:59                                 25.003331   \n",
      "\n",
      "                     secondary_cleaner.state.floatbank6_a_level  \n",
      "date                                                             \n",
      "2016-09-01 00:59:59                                 -499.709414  \n",
      "2016-09-01 01:59:59                                 -499.819438  \n",
      "2016-09-01 02:59:59                                 -500.622559  \n",
      "2016-09-01 03:59:59                                 -498.709987  \n",
      "2016-09-01 04:59:59                                 -500.856333  \n",
      "\n",
      "[5 rows x 52 columns] \n",
      "\n",
      "Datos completos:\n",
      "                     final.output.concentrate_ag  final.output.concentrate_pb  \\\n",
      "date                                                                            \n",
      "2016-01-15 00:00:00                     6.055403                     9.889648   \n",
      "2016-01-15 01:00:00                     6.029369                     9.968944   \n",
      "2016-01-15 02:00:00                     6.055926                    10.213995   \n",
      "2016-01-15 03:00:00                     6.047977                     9.977019   \n",
      "2016-01-15 04:00:00                     6.148599                    10.142511   \n",
      "\n",
      "                     final.output.concentrate_sol  \\\n",
      "date                                                \n",
      "2016-01-15 00:00:00                      5.507324   \n",
      "2016-01-15 01:00:00                      5.257781   \n",
      "2016-01-15 02:00:00                      5.383759   \n",
      "2016-01-15 03:00:00                      4.858634   \n",
      "2016-01-15 04:00:00                      4.939416   \n",
      "\n",
      "                     final.output.concentrate_au  final.output.recovery  \\\n",
      "date                                                                      \n",
      "2016-01-15 00:00:00                    42.192020              70.541216   \n",
      "2016-01-15 01:00:00                    42.701629              69.266198   \n",
      "2016-01-15 02:00:00                    42.657501              68.116445   \n",
      "2016-01-15 03:00:00                    42.689819              68.347543   \n",
      "2016-01-15 04:00:00                    42.774141              66.927016   \n",
      "\n",
      "                     final.output.tail_ag  final.output.tail_pb  \\\n",
      "date                                                              \n",
      "2016-01-15 00:00:00             10.411962              0.895447   \n",
      "2016-01-15 01:00:00             10.462676              0.927452   \n",
      "2016-01-15 02:00:00             10.507046              0.953716   \n",
      "2016-01-15 03:00:00             10.422762              0.883763   \n",
      "2016-01-15 04:00:00             10.360302              0.792826   \n",
      "\n",
      "                     final.output.tail_sol  final.output.tail_au  \\\n",
      "date                                                               \n",
      "2016-01-15 00:00:00              16.904297              2.143149   \n",
      "2016-01-15 01:00:00              16.634514              2.224930   \n",
      "2016-01-15 02:00:00              16.208849              2.257889   \n",
      "2016-01-15 03:00:00              16.532835              2.146849   \n",
      "2016-01-15 04:00:00              16.525686              2.055292   \n",
      "\n",
      "                     primary_cleaner.input.sulfate  ...  \\\n",
      "date                                                ...   \n",
      "2016-01-15 00:00:00                     127.092003  ...   \n",
      "2016-01-15 01:00:00                     125.629232  ...   \n",
      "2016-01-15 02:00:00                     123.819808  ...   \n",
      "2016-01-15 03:00:00                     122.270188  ...   \n",
      "2016-01-15 04:00:00                     117.988169  ...   \n",
      "\n",
      "                     secondary_cleaner.state.floatbank4_a_air  \\\n",
      "date                                                            \n",
      "2016-01-15 00:00:00                                 14.016835   \n",
      "2016-01-15 01:00:00                                 13.992281   \n",
      "2016-01-15 02:00:00                                 14.015015   \n",
      "2016-01-15 03:00:00                                 14.036510   \n",
      "2016-01-15 04:00:00                                 14.027298   \n",
      "\n",
      "                     secondary_cleaner.state.floatbank4_a_level  \\\n",
      "date                                                              \n",
      "2016-01-15 00:00:00                                 -502.488007   \n",
      "2016-01-15 01:00:00                                 -505.503262   \n",
      "2016-01-15 02:00:00                                 -502.520901   \n",
      "2016-01-15 03:00:00                                 -500.857308   \n",
      "2016-01-15 04:00:00                                 -499.838632   \n",
      "\n",
      "                     secondary_cleaner.state.floatbank4_b_air  \\\n",
      "date                                                            \n",
      "2016-01-15 00:00:00                                 12.099931   \n",
      "2016-01-15 01:00:00                                 11.950531   \n",
      "2016-01-15 02:00:00                                 11.912783   \n",
      "2016-01-15 03:00:00                                 11.999550   \n",
      "2016-01-15 04:00:00                                 11.953070   \n",
      "\n",
      "                     secondary_cleaner.state.floatbank4_b_level  \\\n",
      "date                                                              \n",
      "2016-01-15 00:00:00                                 -504.715942   \n",
      "2016-01-15 01:00:00                                 -501.331529   \n",
      "2016-01-15 02:00:00                                 -501.133383   \n",
      "2016-01-15 03:00:00                                 -501.193686   \n",
      "2016-01-15 04:00:00                                 -501.053894   \n",
      "\n",
      "                     secondary_cleaner.state.floatbank5_a_air  \\\n",
      "date                                                            \n",
      "2016-01-15 00:00:00                                  9.925633   \n",
      "2016-01-15 01:00:00                                 10.039245   \n",
      "2016-01-15 02:00:00                                 10.070913   \n",
      "2016-01-15 03:00:00                                  9.970366   \n",
      "2016-01-15 04:00:00                                  9.925709   \n",
      "\n",
      "                     secondary_cleaner.state.floatbank5_a_level  \\\n",
      "date                                                              \n",
      "2016-01-15 00:00:00                                 -498.310211   \n",
      "2016-01-15 01:00:00                                 -500.169983   \n",
      "2016-01-15 02:00:00                                 -500.129135   \n",
      "2016-01-15 03:00:00                                 -499.201640   \n",
      "2016-01-15 04:00:00                                 -501.686727   \n",
      "\n",
      "                     secondary_cleaner.state.floatbank5_b_air  \\\n",
      "date                                                            \n",
      "2016-01-15 00:00:00                                  8.079666   \n",
      "2016-01-15 01:00:00                                  7.984757   \n",
      "2016-01-15 02:00:00                                  8.013877   \n",
      "2016-01-15 03:00:00                                  7.977324   \n",
      "2016-01-15 04:00:00                                  7.894242   \n",
      "\n",
      "                     secondary_cleaner.state.floatbank5_b_level  \\\n",
      "date                                                              \n",
      "2016-01-15 00:00:00                                 -500.470978   \n",
      "2016-01-15 01:00:00                                 -500.582168   \n",
      "2016-01-15 02:00:00                                 -500.517572   \n",
      "2016-01-15 03:00:00                                 -500.255908   \n",
      "2016-01-15 04:00:00                                 -500.356035   \n",
      "\n",
      "                     secondary_cleaner.state.floatbank6_a_air  \\\n",
      "date                                                            \n",
      "2016-01-15 00:00:00                                 14.151341   \n",
      "2016-01-15 01:00:00                                 13.998353   \n",
      "2016-01-15 02:00:00                                 14.028663   \n",
      "2016-01-15 03:00:00                                 14.005551   \n",
      "2016-01-15 04:00:00                                 13.996647   \n",
      "\n",
      "                     secondary_cleaner.state.floatbank6_a_level  \n",
      "date                                                             \n",
      "2016-01-15 00:00:00                                 -605.841980  \n",
      "2016-01-15 01:00:00                                 -599.787184  \n",
      "2016-01-15 02:00:00                                 -601.427363  \n",
      "2016-01-15 03:00:00                                 -599.996129  \n",
      "2016-01-15 04:00:00                                 -601.496691  \n",
      "\n",
      "[5 rows x 86 columns] \n",
      "\n",
      "Información del conjunto de entrenamiento:\n",
      "<class 'pandas.core.frame.DataFrame'>\n",
      "DatetimeIndex: 16860 entries, 2016-01-15 00:00:00 to 2018-08-18 10:59:59\n",
      "Data columns (total 86 columns):\n",
      " #   Column                                              Non-Null Count  Dtype  \n",
      "---  ------                                              --------------  -----  \n",
      " 0   final.output.concentrate_ag                         16788 non-null  float64\n",
      " 1   final.output.concentrate_pb                         16788 non-null  float64\n",
      " 2   final.output.concentrate_sol                        16490 non-null  float64\n",
      " 3   final.output.concentrate_au                         16789 non-null  float64\n",
      " 4   final.output.recovery                               15339 non-null  float64\n",
      " 5   final.output.tail_ag                                16794 non-null  float64\n",
      " 6   final.output.tail_pb                                16677 non-null  float64\n",
      " 7   final.output.tail_sol                               16715 non-null  float64\n",
      " 8   final.output.tail_au                                16794 non-null  float64\n",
      " 9   primary_cleaner.input.sulfate                       15553 non-null  float64\n",
      " 10  primary_cleaner.input.depressant                    15598 non-null  float64\n",
      " 11  primary_cleaner.input.feed_size                     16860 non-null  float64\n",
      " 12  primary_cleaner.input.xanthate                      15875 non-null  float64\n",
      " 13  primary_cleaner.output.concentrate_ag               16778 non-null  float64\n",
      " 14  primary_cleaner.output.concentrate_pb               16502 non-null  float64\n",
      " 15  primary_cleaner.output.concentrate_sol              16224 non-null  float64\n",
      " 16  primary_cleaner.output.concentrate_au               16778 non-null  float64\n",
      " 17  primary_cleaner.output.tail_ag                      16777 non-null  float64\n",
      " 18  primary_cleaner.output.tail_pb                      16761 non-null  float64\n",
      " 19  primary_cleaner.output.tail_sol                     16579 non-null  float64\n",
      " 20  primary_cleaner.output.tail_au                      16777 non-null  float64\n",
      " 21  primary_cleaner.state.floatbank8_a_air              16820 non-null  float64\n",
      " 22  primary_cleaner.state.floatbank8_a_level            16827 non-null  float64\n",
      " 23  primary_cleaner.state.floatbank8_b_air              16820 non-null  float64\n",
      " 24  primary_cleaner.state.floatbank8_b_level            16833 non-null  float64\n",
      " 25  primary_cleaner.state.floatbank8_c_air              16822 non-null  float64\n",
      " 26  primary_cleaner.state.floatbank8_c_level            16833 non-null  float64\n",
      " 27  primary_cleaner.state.floatbank8_d_air              16821 non-null  float64\n",
      " 28  primary_cleaner.state.floatbank8_d_level            16833 non-null  float64\n",
      " 29  rougher.calculation.sulfate_to_au_concentrate       16833 non-null  float64\n",
      " 30  rougher.calculation.floatbank10_sulfate_to_au_feed  16833 non-null  float64\n",
      " 31  rougher.calculation.floatbank11_sulfate_to_au_feed  16833 non-null  float64\n",
      " 32  rougher.calculation.au_pb_ratio                     15618 non-null  float64\n",
      " 33  rougher.input.feed_ag                               16778 non-null  float64\n",
      " 34  rougher.input.feed_pb                               16632 non-null  float64\n",
      " 35  rougher.input.feed_rate                             16347 non-null  float64\n",
      " 36  rougher.input.feed_size                             16443 non-null  float64\n",
      " 37  rougher.input.feed_sol                              16568 non-null  float64\n",
      " 38  rougher.input.feed_au                               16777 non-null  float64\n",
      " 39  rougher.input.floatbank10_sulfate                   15816 non-null  float64\n",
      " 40  rougher.input.floatbank10_xanthate                  16514 non-null  float64\n",
      " 41  rougher.input.floatbank11_sulfate                   16237 non-null  float64\n",
      " 42  rougher.input.floatbank11_xanthate                  14956 non-null  float64\n",
      " 43  rougher.output.concentrate_ag                       16778 non-null  float64\n",
      " 44  rougher.output.concentrate_pb                       16778 non-null  float64\n",
      " 45  rougher.output.concentrate_sol                      16698 non-null  float64\n",
      " 46  rougher.output.concentrate_au                       16778 non-null  float64\n",
      " 47  rougher.output.recovery                             14287 non-null  float64\n",
      " 48  rougher.output.tail_ag                              14610 non-null  float64\n",
      " 49  rougher.output.tail_pb                              16778 non-null  float64\n",
      " 50  rougher.output.tail_sol                             14611 non-null  float64\n",
      " 51  rougher.output.tail_au                              14611 non-null  float64\n",
      " 52  rougher.state.floatbank10_a_air                     16807 non-null  float64\n",
      " 53  rougher.state.floatbank10_a_level                   16807 non-null  float64\n",
      " 54  rougher.state.floatbank10_b_air                     16807 non-null  float64\n",
      " 55  rougher.state.floatbank10_b_level                   16807 non-null  float64\n",
      " 56  rougher.state.floatbank10_c_air                     16807 non-null  float64\n",
      " 57  rougher.state.floatbank10_c_level                   16814 non-null  float64\n",
      " 58  rougher.state.floatbank10_d_air                     16802 non-null  float64\n",
      " 59  rougher.state.floatbank10_d_level                   16809 non-null  float64\n",
      " 60  rougher.state.floatbank10_e_air                     16257 non-null  float64\n",
      " 61  rougher.state.floatbank10_e_level                   16809 non-null  float64\n",
      " 62  rougher.state.floatbank10_f_air                     16802 non-null  float64\n",
      " 63  rougher.state.floatbank10_f_level                   16802 non-null  float64\n",
      " 64  secondary_cleaner.output.tail_ag                    16776 non-null  float64\n",
      " 65  secondary_cleaner.output.tail_pb                    16764 non-null  float64\n",
      " 66  secondary_cleaner.output.tail_sol                   14874 non-null  float64\n",
      " 67  secondary_cleaner.output.tail_au                    16778 non-null  float64\n",
      " 68  secondary_cleaner.state.floatbank2_a_air            16497 non-null  float64\n",
      " 69  secondary_cleaner.state.floatbank2_a_level          16751 non-null  float64\n",
      " 70  secondary_cleaner.state.floatbank2_b_air            16705 non-null  float64\n",
      " 71  secondary_cleaner.state.floatbank2_b_level          16748 non-null  float64\n",
      " 72  secondary_cleaner.state.floatbank3_a_air            16763 non-null  float64\n",
      " 73  secondary_cleaner.state.floatbank3_a_level          16747 non-null  float64\n",
      " 74  secondary_cleaner.state.floatbank3_b_air            16752 non-null  float64\n",
      " 75  secondary_cleaner.state.floatbank3_b_level          16750 non-null  float64\n",
      " 76  secondary_cleaner.state.floatbank4_a_air            16731 non-null  float64\n",
      " 77  secondary_cleaner.state.floatbank4_a_level          16747 non-null  float64\n",
      " 78  secondary_cleaner.state.floatbank4_b_air            16768 non-null  float64\n",
      " 79  secondary_cleaner.state.floatbank4_b_level          16767 non-null  float64\n",
      " 80  secondary_cleaner.state.floatbank5_a_air            16775 non-null  float64\n",
      " 81  secondary_cleaner.state.floatbank5_a_level          16775 non-null  float64\n",
      " 82  secondary_cleaner.state.floatbank5_b_air            16775 non-null  float64\n",
      " 83  secondary_cleaner.state.floatbank5_b_level          16776 non-null  float64\n",
      " 84  secondary_cleaner.state.floatbank6_a_air            16757 non-null  float64\n",
      " 85  secondary_cleaner.state.floatbank6_a_level          16775 non-null  float64\n",
      "dtypes: float64(86)\n",
      "memory usage: 11.2 MB\n",
      "None \n",
      "\n",
      "Información del conjunto de prueba:\n",
      "<class 'pandas.core.frame.DataFrame'>\n",
      "DatetimeIndex: 5856 entries, 2016-09-01 00:59:59 to 2017-12-31 23:59:59\n",
      "Data columns (total 52 columns):\n",
      " #   Column                                      Non-Null Count  Dtype  \n",
      "---  ------                                      --------------  -----  \n",
      " 0   primary_cleaner.input.sulfate               5554 non-null   float64\n",
      " 1   primary_cleaner.input.depressant            5572 non-null   float64\n",
      " 2   primary_cleaner.input.feed_size             5856 non-null   float64\n",
      " 3   primary_cleaner.input.xanthate              5690 non-null   float64\n",
      " 4   primary_cleaner.state.floatbank8_a_air      5840 non-null   float64\n",
      " 5   primary_cleaner.state.floatbank8_a_level    5840 non-null   float64\n",
      " 6   primary_cleaner.state.floatbank8_b_air      5840 non-null   float64\n",
      " 7   primary_cleaner.state.floatbank8_b_level    5840 non-null   float64\n",
      " 8   primary_cleaner.state.floatbank8_c_air      5840 non-null   float64\n",
      " 9   primary_cleaner.state.floatbank8_c_level    5840 non-null   float64\n",
      " 10  primary_cleaner.state.floatbank8_d_air      5840 non-null   float64\n",
      " 11  primary_cleaner.state.floatbank8_d_level    5840 non-null   float64\n",
      " 12  rougher.input.feed_ag                       5840 non-null   float64\n",
      " 13  rougher.input.feed_pb                       5840 non-null   float64\n",
      " 14  rougher.input.feed_rate                     5816 non-null   float64\n",
      " 15  rougher.input.feed_size                     5834 non-null   float64\n",
      " 16  rougher.input.feed_sol                      5789 non-null   float64\n",
      " 17  rougher.input.feed_au                       5840 non-null   float64\n",
      " 18  rougher.input.floatbank10_sulfate           5599 non-null   float64\n",
      " 19  rougher.input.floatbank10_xanthate          5733 non-null   float64\n",
      " 20  rougher.input.floatbank11_sulfate           5801 non-null   float64\n",
      " 21  rougher.input.floatbank11_xanthate          5503 non-null   float64\n",
      " 22  rougher.state.floatbank10_a_air             5839 non-null   float64\n",
      " 23  rougher.state.floatbank10_a_level           5840 non-null   float64\n",
      " 24  rougher.state.floatbank10_b_air             5839 non-null   float64\n",
      " 25  rougher.state.floatbank10_b_level           5840 non-null   float64\n",
      " 26  rougher.state.floatbank10_c_air             5839 non-null   float64\n",
      " 27  rougher.state.floatbank10_c_level           5840 non-null   float64\n",
      " 28  rougher.state.floatbank10_d_air             5839 non-null   float64\n",
      " 29  rougher.state.floatbank10_d_level           5840 non-null   float64\n",
      " 30  rougher.state.floatbank10_e_air             5839 non-null   float64\n",
      " 31  rougher.state.floatbank10_e_level           5840 non-null   float64\n",
      " 32  rougher.state.floatbank10_f_air             5839 non-null   float64\n",
      " 33  rougher.state.floatbank10_f_level           5840 non-null   float64\n",
      " 34  secondary_cleaner.state.floatbank2_a_air    5836 non-null   float64\n",
      " 35  secondary_cleaner.state.floatbank2_a_level  5840 non-null   float64\n",
      " 36  secondary_cleaner.state.floatbank2_b_air    5833 non-null   float64\n",
      " 37  secondary_cleaner.state.floatbank2_b_level  5840 non-null   float64\n",
      " 38  secondary_cleaner.state.floatbank3_a_air    5822 non-null   float64\n",
      " 39  secondary_cleaner.state.floatbank3_a_level  5840 non-null   float64\n",
      " 40  secondary_cleaner.state.floatbank3_b_air    5840 non-null   float64\n",
      " 41  secondary_cleaner.state.floatbank3_b_level  5840 non-null   float64\n",
      " 42  secondary_cleaner.state.floatbank4_a_air    5840 non-null   float64\n",
      " 43  secondary_cleaner.state.floatbank4_a_level  5840 non-null   float64\n",
      " 44  secondary_cleaner.state.floatbank4_b_air    5840 non-null   float64\n",
      " 45  secondary_cleaner.state.floatbank4_b_level  5840 non-null   float64\n",
      " 46  secondary_cleaner.state.floatbank5_a_air    5840 non-null   float64\n",
      " 47  secondary_cleaner.state.floatbank5_a_level  5840 non-null   float64\n",
      " 48  secondary_cleaner.state.floatbank5_b_air    5840 non-null   float64\n",
      " 49  secondary_cleaner.state.floatbank5_b_level  5840 non-null   float64\n",
      " 50  secondary_cleaner.state.floatbank6_a_air    5840 non-null   float64\n",
      " 51  secondary_cleaner.state.floatbank6_a_level  5840 non-null   float64\n",
      "dtypes: float64(52)\n",
      "memory usage: 2.4 MB\n",
      "None \n",
      "\n",
      "Información del conjunto completo:\n",
      "<class 'pandas.core.frame.DataFrame'>\n",
      "DatetimeIndex: 22716 entries, 2016-01-15 00:00:00 to 2018-08-18 10:59:59\n",
      "Data columns (total 86 columns):\n",
      " #   Column                                              Non-Null Count  Dtype  \n",
      "---  ------                                              --------------  -----  \n",
      " 0   final.output.concentrate_ag                         22627 non-null  float64\n",
      " 1   final.output.concentrate_pb                         22629 non-null  float64\n",
      " 2   final.output.concentrate_sol                        22331 non-null  float64\n",
      " 3   final.output.concentrate_au                         22630 non-null  float64\n",
      " 4   final.output.recovery                               20753 non-null  float64\n",
      " 5   final.output.tail_ag                                22633 non-null  float64\n",
      " 6   final.output.tail_pb                                22516 non-null  float64\n",
      " 7   final.output.tail_sol                               22445 non-null  float64\n",
      " 8   final.output.tail_au                                22635 non-null  float64\n",
      " 9   primary_cleaner.input.sulfate                       21107 non-null  float64\n",
      " 10  primary_cleaner.input.depressant                    21170 non-null  float64\n",
      " 11  primary_cleaner.input.feed_size                     22716 non-null  float64\n",
      " 12  primary_cleaner.input.xanthate                      21565 non-null  float64\n",
      " 13  primary_cleaner.output.concentrate_ag               22618 non-null  float64\n",
      " 14  primary_cleaner.output.concentrate_pb               22268 non-null  float64\n",
      " 15  primary_cleaner.output.concentrate_sol              21918 non-null  float64\n",
      " 16  primary_cleaner.output.concentrate_au               22618 non-null  float64\n",
      " 17  primary_cleaner.output.tail_ag                      22614 non-null  float64\n",
      " 18  primary_cleaner.output.tail_pb                      22594 non-null  float64\n",
      " 19  primary_cleaner.output.tail_sol                     22365 non-null  float64\n",
      " 20  primary_cleaner.output.tail_au                      22617 non-null  float64\n",
      " 21  primary_cleaner.state.floatbank8_a_air              22660 non-null  float64\n",
      " 22  primary_cleaner.state.floatbank8_a_level            22667 non-null  float64\n",
      " 23  primary_cleaner.state.floatbank8_b_air              22660 non-null  float64\n",
      " 24  primary_cleaner.state.floatbank8_b_level            22673 non-null  float64\n",
      " 25  primary_cleaner.state.floatbank8_c_air              22662 non-null  float64\n",
      " 26  primary_cleaner.state.floatbank8_c_level            22673 non-null  float64\n",
      " 27  primary_cleaner.state.floatbank8_d_air              22661 non-null  float64\n",
      " 28  primary_cleaner.state.floatbank8_d_level            22673 non-null  float64\n",
      " 29  rougher.calculation.sulfate_to_au_concentrate       22672 non-null  float64\n",
      " 30  rougher.calculation.floatbank10_sulfate_to_au_feed  22672 non-null  float64\n",
      " 31  rougher.calculation.floatbank11_sulfate_to_au_feed  22672 non-null  float64\n",
      " 32  rougher.calculation.au_pb_ratio                     21089 non-null  float64\n",
      " 33  rougher.input.feed_ag                               22618 non-null  float64\n",
      " 34  rougher.input.feed_pb                               22472 non-null  float64\n",
      " 35  rougher.input.feed_rate                             22163 non-null  float64\n",
      " 36  rougher.input.feed_size                             22277 non-null  float64\n",
      " 37  rougher.input.feed_sol                              22357 non-null  float64\n",
      " 38  rougher.input.feed_au                               22617 non-null  float64\n",
      " 39  rougher.input.floatbank10_sulfate                   21415 non-null  float64\n",
      " 40  rougher.input.floatbank10_xanthate                  22247 non-null  float64\n",
      " 41  rougher.input.floatbank11_sulfate                   22038 non-null  float64\n",
      " 42  rougher.input.floatbank11_xanthate                  20459 non-null  float64\n",
      " 43  rougher.output.concentrate_ag                       22618 non-null  float64\n",
      " 44  rougher.output.concentrate_pb                       22618 non-null  float64\n",
      " 45  rougher.output.concentrate_sol                      22526 non-null  float64\n",
      " 46  rougher.output.concentrate_au                       22618 non-null  float64\n",
      " 47  rougher.output.recovery                             19597 non-null  float64\n",
      " 48  rougher.output.tail_ag                              19979 non-null  float64\n",
      " 49  rougher.output.tail_pb                              22618 non-null  float64\n",
      " 50  rougher.output.tail_sol                             19980 non-null  float64\n",
      " 51  rougher.output.tail_au                              19980 non-null  float64\n",
      " 52  rougher.state.floatbank10_a_air                     22646 non-null  float64\n",
      " 53  rougher.state.floatbank10_a_level                   22647 non-null  float64\n",
      " 54  rougher.state.floatbank10_b_air                     22646 non-null  float64\n",
      " 55  rougher.state.floatbank10_b_level                   22647 non-null  float64\n",
      " 56  rougher.state.floatbank10_c_air                     22646 non-null  float64\n",
      " 57  rougher.state.floatbank10_c_level                   22654 non-null  float64\n",
      " 58  rougher.state.floatbank10_d_air                     22641 non-null  float64\n",
      " 59  rougher.state.floatbank10_d_level                   22649 non-null  float64\n",
      " 60  rougher.state.floatbank10_e_air                     22096 non-null  float64\n",
      " 61  rougher.state.floatbank10_e_level                   22649 non-null  float64\n",
      " 62  rougher.state.floatbank10_f_air                     22641 non-null  float64\n",
      " 63  rougher.state.floatbank10_f_level                   22642 non-null  float64\n",
      " 64  secondary_cleaner.output.tail_ag                    22616 non-null  float64\n",
      " 65  secondary_cleaner.output.tail_pb                    22600 non-null  float64\n",
      " 66  secondary_cleaner.output.tail_sol                   20501 non-null  float64\n",
      " 67  secondary_cleaner.output.tail_au                    22618 non-null  float64\n",
      " 68  secondary_cleaner.state.floatbank2_a_air            22333 non-null  float64\n",
      " 69  secondary_cleaner.state.floatbank2_a_level          22591 non-null  float64\n",
      " 70  secondary_cleaner.state.floatbank2_b_air            22538 non-null  float64\n",
      " 71  secondary_cleaner.state.floatbank2_b_level          22588 non-null  float64\n",
      " 72  secondary_cleaner.state.floatbank3_a_air            22585 non-null  float64\n",
      " 73  secondary_cleaner.state.floatbank3_a_level          22587 non-null  float64\n",
      " 74  secondary_cleaner.state.floatbank3_b_air            22592 non-null  float64\n",
      " 75  secondary_cleaner.state.floatbank3_b_level          22590 non-null  float64\n",
      " 76  secondary_cleaner.state.floatbank4_a_air            22571 non-null  float64\n",
      " 77  secondary_cleaner.state.floatbank4_a_level          22587 non-null  float64\n",
      " 78  secondary_cleaner.state.floatbank4_b_air            22608 non-null  float64\n",
      " 79  secondary_cleaner.state.floatbank4_b_level          22607 non-null  float64\n",
      " 80  secondary_cleaner.state.floatbank5_a_air            22615 non-null  float64\n",
      " 81  secondary_cleaner.state.floatbank5_a_level          22615 non-null  float64\n",
      " 82  secondary_cleaner.state.floatbank5_b_air            22615 non-null  float64\n",
      " 83  secondary_cleaner.state.floatbank5_b_level          22616 non-null  float64\n",
      " 84  secondary_cleaner.state.floatbank6_a_air            22597 non-null  float64\n",
      " 85  secondary_cleaner.state.floatbank6_a_level          22615 non-null  float64\n",
      "dtypes: float64(86)\n",
      "memory usage: 15.1 MB\n",
      "None \n",
      "\n"
     ]
    }
   ],
   "source": [
    "import pandas as pd\n",
    "from sklearn.metrics import mean_absolute_error\n",
    "import matplotlib.pyplot as plt\n",
    "import seaborn as sns\n",
    "from sklearn.model_selection import train_test_split, cross_val_score\n",
    "from sklearn.preprocessing import StandardScaler\n",
    "from sklearn.ensemble import RandomForestRegressor, GradientBoostingRegressor\n",
    "from sklearn.linear_model import LinearRegression\n",
    "from sklearn.svm import SVR\n",
    "from sklearn.metrics import make_scorer\n",
    "import numpy as np\n",
    "from sklearn.impute import SimpleImputer\n",
    "\n",
    "# Definir rutas de acceso a los archivos\n",
    "train_path = '/datasets/gold_recovery_train.csv'\n",
    "test_path = '/datasets/gold_recovery_test.csv'\n",
    "full_path = '/datasets/gold_recovery_full.csv'\n",
    "\n",
    "# Cargar los datos en DataFrames\n",
    "train = pd.read_csv(train_path, index_col='date', parse_dates=['date'])\n",
    "test = pd.read_csv(test_path, index_col='date', parse_dates=['date'])\n",
    "full = pd.read_csv(full_path, index_col='date', parse_dates=['date'])\n",
    "\n",
    "# Examinar las primeras filas de cada conjunto\n",
    "print(\"Datos de entrenamiento:\")\n",
    "print(train.head(), '\\n')\n",
    "print(\"Datos de prueba:\")\n",
    "print(test.head(), '\\n')\n",
    "print(\"Datos completos:\")\n",
    "print(full.head(), '\\n')\n",
    "\n",
    "# Información general de los DataFrames\n",
    "print(\"Información del conjunto de entrenamiento:\")\n",
    "print(train.info(), '\\n')\n",
    "print(\"Información del conjunto de prueba:\")\n",
    "print(test.info(), '\\n')\n",
    "print(\"Información del conjunto completo:\")\n",
    "print(full.info(), '\\n')"
   ]
  },
  {
   "cell_type": "markdown",
   "metadata": {},
   "source": [
    "# 1.2. Comprobación del cálculo correcto de la recuperación"
   ]
  },
  {
   "cell_type": "markdown",
   "metadata": {},
   "source": [
    "Fórmula de comprobación:\n",
    "Recovery= (F*(C−T)/C*(F−T))*100\n",
    "\n",
    "\n",
    "Donde:\n",
    "\n",
    "C = rougher.output.concentrate_au (concentración de oro en el concentrado rougher)\n",
    "\n",
    "F = rougher.input.feed_au (concentración de oro en la materia prima)\n",
    "\n",
    "T = rougher.output.tail_au (concentración de oro en los residuos)"
   ]
  },
  {
   "cell_type": "code",
   "execution_count": 2,
   "metadata": {},
   "outputs": [
    {
     "name": "stdout",
     "output_type": "stream",
     "text": [
      "Error Absoluto Medio (EAM): 0.0000\n"
     ]
    }
   ],
   "source": [
    "# Seleccionar las columnas necesarias para el cálculo\n",
    "required_columns = [\n",
    "    'rougher.output.concentrate_au', \n",
    "    'rougher.input.feed_au', \n",
    "    'rougher.output.tail_au', \n",
    "    'rougher.output.recovery'\n",
    "]\n",
    "\n",
    "# Eliminar filas con valores nulos en las columnas requeridas\n",
    "train_clean = train[required_columns].dropna()\n",
    "\n",
    "# Aplicar la fórmula de recuperación\n",
    "C = train_clean['rougher.output.concentrate_au']\n",
    "F = train_clean['rougher.input.feed_au']\n",
    "T = train_clean['rougher.output.tail_au']\n",
    "\n",
    "train_clean['calculated_recovery'] = (C * (F - T)) / (F * (C - T)) * 100\n",
    "\n",
    "# Calcular el Error Absoluto Medio (EAM)\n",
    "mae = mean_absolute_error(train_clean['rougher.output.recovery'], train_clean['calculated_recovery'])\n",
    "\n",
    "# Mostrar resultados\n",
    "print(f'Error Absoluto Medio (EAM): {mae:.4f}')"
   ]
  },
  {
   "cell_type": "markdown",
   "metadata": {},
   "source": [
    "Se filtraron las columnas necesarias para el cálculo de la recuperación.\n",
    "Se eliminaron filas con valores nulos para evitar errores en los cálculos.\n",
    "Se aplicó la fórmula de recuperación utilizando operaciones de Pandas.\n",
    "Se calculó el EAM entre los valores calculados y los proporcionados."
   ]
  },
  {
   "cell_type": "markdown",
   "metadata": {},
   "source": [
    "El resultado de un Error Absoluto Medio (EAM) igual a 0.0000 indica que no hay discrepancia entre los valores calculados de la recuperación (calculated_recovery) y los valores proporcionados en la columna rougher.output.recovery.\n",
    "\n",
    "Esto sugiere que:\n",
    "\n",
    "Los cálculos de recuperación son correctos y están en línea con los valores proporcionados.\n",
    "Los datos no presentan errores en la fórmula aplicada para esta característica."
   ]
  },
  {
   "cell_type": "markdown",
   "metadata": {},
   "source": [
    "# 1.3. Análisis de las características no disponibles en el conjunto de prueba"
   ]
  },
  {
   "cell_type": "markdown",
   "metadata": {},
   "source": [
    "Se obtiene el conjunto de columnas de train y test.\n",
    "\n",
    "Se identifican las columnas que están en train pero no en test.\n",
    "\n",
    "Se muestran las columnas faltantes y sus tipos de datos."
   ]
  },
  {
   "cell_type": "code",
   "execution_count": 3,
   "metadata": {},
   "outputs": [
    {
     "name": "stdout",
     "output_type": "stream",
     "text": [
      "Características no disponibles en el conjunto de prueba:\n",
      "{'final.output.concentrate_au', 'secondary_cleaner.output.tail_au', 'primary_cleaner.output.tail_sol', 'primary_cleaner.output.tail_pb', 'rougher.output.concentrate_au', 'rougher.calculation.floatbank10_sulfate_to_au_feed', 'rougher.calculation.floatbank11_sulfate_to_au_feed', 'primary_cleaner.output.tail_ag', 'rougher.output.concentrate_sol', 'final.output.recovery', 'final.output.concentrate_pb', 'primary_cleaner.output.concentrate_sol', 'secondary_cleaner.output.tail_ag', 'secondary_cleaner.output.tail_sol', 'rougher.output.recovery', 'primary_cleaner.output.concentrate_au', 'rougher.output.tail_au', 'primary_cleaner.output.concentrate_pb', 'rougher.calculation.sulfate_to_au_concentrate', 'secondary_cleaner.output.tail_pb', 'final.output.concentrate_ag', 'primary_cleaner.output.concentrate_ag', 'rougher.output.concentrate_ag', 'final.output.tail_ag', 'rougher.output.tail_pb', 'rougher.output.tail_sol', 'primary_cleaner.output.tail_au', 'rougher.output.concentrate_pb', 'final.output.tail_pb', 'final.output.concentrate_sol', 'rougher.calculation.au_pb_ratio', 'rougher.output.tail_ag', 'final.output.tail_au', 'final.output.tail_sol'}\n",
      "\n",
      "Tipos de las características no disponibles en el conjunto de prueba:\n",
      "final.output.concentrate_au                           float64\n",
      "secondary_cleaner.output.tail_au                      float64\n",
      "primary_cleaner.output.tail_sol                       float64\n",
      "primary_cleaner.output.tail_pb                        float64\n",
      "rougher.output.concentrate_au                         float64\n",
      "rougher.calculation.floatbank10_sulfate_to_au_feed    float64\n",
      "rougher.calculation.floatbank11_sulfate_to_au_feed    float64\n",
      "primary_cleaner.output.tail_ag                        float64\n",
      "rougher.output.concentrate_sol                        float64\n",
      "final.output.recovery                                 float64\n",
      "final.output.concentrate_pb                           float64\n",
      "primary_cleaner.output.concentrate_sol                float64\n",
      "secondary_cleaner.output.tail_ag                      float64\n",
      "secondary_cleaner.output.tail_sol                     float64\n",
      "rougher.output.recovery                               float64\n",
      "primary_cleaner.output.concentrate_au                 float64\n",
      "rougher.output.tail_au                                float64\n",
      "primary_cleaner.output.concentrate_pb                 float64\n",
      "rougher.calculation.sulfate_to_au_concentrate         float64\n",
      "secondary_cleaner.output.tail_pb                      float64\n",
      "final.output.concentrate_ag                           float64\n",
      "primary_cleaner.output.concentrate_ag                 float64\n",
      "rougher.output.concentrate_ag                         float64\n",
      "final.output.tail_ag                                  float64\n",
      "rougher.output.tail_pb                                float64\n",
      "rougher.output.tail_sol                               float64\n",
      "primary_cleaner.output.tail_au                        float64\n",
      "rougher.output.concentrate_pb                         float64\n",
      "final.output.tail_pb                                  float64\n",
      "final.output.concentrate_sol                          float64\n",
      "rougher.calculation.au_pb_ratio                       float64\n",
      "rougher.output.tail_ag                                float64\n",
      "final.output.tail_au                                  float64\n",
      "final.output.tail_sol                                 float64\n",
      "dtype: object\n"
     ]
    }
   ],
   "source": [
    "# Obtener las columnas de cada conjunto de datos\n",
    "train_columns = set(train.columns)\n",
    "test_columns = set(test.columns)\n",
    "\n",
    "# Identificar las columnas que están en el entrenamiento pero no en la prueba\n",
    "missing_columns = train_columns - test_columns\n",
    "\n",
    "# Mostrar las columnas faltantes\n",
    "print(\"Características no disponibles en el conjunto de prueba:\")\n",
    "print(missing_columns)\n",
    "\n",
    "# Obtener el tipo de las columnas faltantes en el conjunto de entrenamiento\n",
    "missing_types = train[missing_columns].dtypes\n",
    "\n",
    "print(\"\\nTipos de las características no disponibles en el conjunto de prueba:\")\n",
    "print(missing_types)"
   ]
  },
  {
   "cell_type": "markdown",
   "metadata": {},
   "source": [
    "Se identificaron 35 características que están presentes en el conjunto de entrenamiento pero no en el de prueba.\n",
    "\n",
    "Estas características corresponden principalmente a parámetros de salida (output) y cálculo (calculation), lo que indica que probablemente fueron medidas o calculadas después del proceso de producción.\n",
    "\n",
    "Los datos de prueba solo contienen variables de entrada (input) y de estado (state), las cuales son conocidas antes de la producción.\n",
    "\n",
    "Todas las columnas ausentes son de tipo float64, lo que sugiere que contienen valores numéricos continuos.\n",
    "\n",
    "Esto es consistente con las mediciones de concentraciones y proporciones en el proceso de flotación y purificación."
   ]
  },
  {
   "cell_type": "markdown",
   "metadata": {},
   "source": [
    "# 1.4. Preprocesamiento de datos"
   ]
  },
  {
   "cell_type": "code",
   "execution_count": 4,
   "metadata": {},
   "outputs": [
    {
     "name": "stdout",
     "output_type": "stream",
     "text": [
      "Valores nulos en entrenamiento:\n",
      "rougher.output.recovery               2573\n",
      "rougher.output.tail_ag                2250\n",
      "rougher.output.tail_sol               2249\n",
      "rougher.output.tail_au                2249\n",
      "secondary_cleaner.output.tail_sol     1986\n",
      "rougher.input.floatbank11_xanthate    1904\n",
      "final.output.recovery                 1521\n",
      "primary_cleaner.input.sulfate         1307\n",
      "primary_cleaner.input.depressant      1262\n",
      "rougher.calculation.au_pb_ratio       1242\n",
      "dtype: int64\n",
      "\n",
      "Valores nulos en prueba:\n",
      "rougher.input.floatbank11_xanthate          353\n",
      "primary_cleaner.input.sulfate               302\n",
      "primary_cleaner.input.depressant            284\n",
      "rougher.input.floatbank10_sulfate           257\n",
      "primary_cleaner.input.xanthate              166\n",
      "rougher.input.floatbank10_xanthate          123\n",
      "rougher.input.feed_sol                       67\n",
      "rougher.input.floatbank11_sulfate            55\n",
      "rougher.input.feed_rate                      40\n",
      "secondary_cleaner.state.floatbank3_a_air     34\n",
      "dtype: int64\n",
      "\n",
      "Datos de entrenamiento después del preprocesamiento:\n",
      "<class 'pandas.core.frame.DataFrame'>\n",
      "DatetimeIndex: 14149 entries, 2016-01-15 00:00:00 to 2018-08-18 10:59:59\n",
      "Data columns (total 86 columns):\n",
      " #   Column                                              Non-Null Count  Dtype  \n",
      "---  ------                                              --------------  -----  \n",
      " 0   final.output.concentrate_ag                         14148 non-null  float64\n",
      " 1   final.output.concentrate_pb                         14148 non-null  float64\n",
      " 2   final.output.concentrate_sol                        13938 non-null  float64\n",
      " 3   final.output.concentrate_au                         14149 non-null  float64\n",
      " 4   final.output.recovery                               14149 non-null  float64\n",
      " 5   final.output.tail_ag                                14149 non-null  float64\n",
      " 6   final.output.tail_pb                                14049 non-null  float64\n",
      " 7   final.output.tail_sol                               14144 non-null  float64\n",
      " 8   final.output.tail_au                                14149 non-null  float64\n",
      " 9   primary_cleaner.input.sulfate                       14129 non-null  float64\n",
      " 10  primary_cleaner.input.depressant                    14117 non-null  float64\n",
      " 11  primary_cleaner.input.feed_size                     14149 non-null  float64\n",
      " 12  primary_cleaner.input.xanthate                      14049 non-null  float64\n",
      " 13  primary_cleaner.output.concentrate_ag               14149 non-null  float64\n",
      " 14  primary_cleaner.output.concentrate_pb               14063 non-null  float64\n",
      " 15  primary_cleaner.output.concentrate_sol              13863 non-null  float64\n",
      " 16  primary_cleaner.output.concentrate_au               14149 non-null  float64\n",
      " 17  primary_cleaner.output.tail_ag                      14148 non-null  float64\n",
      " 18  primary_cleaner.output.tail_pb                      14134 non-null  float64\n",
      " 19  primary_cleaner.output.tail_sol                     14103 non-null  float64\n",
      " 20  primary_cleaner.output.tail_au                      14149 non-null  float64\n",
      " 21  primary_cleaner.state.floatbank8_a_air              14145 non-null  float64\n",
      " 22  primary_cleaner.state.floatbank8_a_level            14148 non-null  float64\n",
      " 23  primary_cleaner.state.floatbank8_b_air              14145 non-null  float64\n",
      " 24  primary_cleaner.state.floatbank8_b_level            14148 non-null  float64\n",
      " 25  primary_cleaner.state.floatbank8_c_air              14147 non-null  float64\n",
      " 26  primary_cleaner.state.floatbank8_c_level            14148 non-null  float64\n",
      " 27  primary_cleaner.state.floatbank8_d_air              14146 non-null  float64\n",
      " 28  primary_cleaner.state.floatbank8_d_level            14148 non-null  float64\n",
      " 29  rougher.calculation.sulfate_to_au_concentrate       14148 non-null  float64\n",
      " 30  rougher.calculation.floatbank10_sulfate_to_au_feed  14148 non-null  float64\n",
      " 31  rougher.calculation.floatbank11_sulfate_to_au_feed  14148 non-null  float64\n",
      " 32  rougher.calculation.au_pb_ratio                     14149 non-null  float64\n",
      " 33  rougher.input.feed_ag                               14149 non-null  float64\n",
      " 34  rougher.input.feed_pb                               14049 non-null  float64\n",
      " 35  rougher.input.feed_rate                             14141 non-null  float64\n",
      " 36  rougher.input.feed_size                             14005 non-null  float64\n",
      " 37  rougher.input.feed_sol                              14071 non-null  float64\n",
      " 38  rougher.input.feed_au                               14149 non-null  float64\n",
      " 39  rougher.input.floatbank10_sulfate                   14120 non-null  float64\n",
      " 40  rougher.input.floatbank10_xanthate                  14141 non-null  float64\n",
      " 41  rougher.input.floatbank11_sulfate                   14113 non-null  float64\n",
      " 42  rougher.input.floatbank11_xanthate                  13721 non-null  float64\n",
      " 43  rougher.output.concentrate_ag                       14149 non-null  float64\n",
      " 44  rougher.output.concentrate_pb                       14149 non-null  float64\n",
      " 45  rougher.output.concentrate_sol                      14127 non-null  float64\n",
      " 46  rougher.output.concentrate_au                       14149 non-null  float64\n",
      " 47  rougher.output.recovery                             14149 non-null  float64\n",
      " 48  rougher.output.tail_ag                              14148 non-null  float64\n",
      " 49  rougher.output.tail_pb                              14149 non-null  float64\n",
      " 50  rougher.output.tail_sol                             14149 non-null  float64\n",
      " 51  rougher.output.tail_au                              14149 non-null  float64\n",
      " 52  rougher.state.floatbank10_a_air                     14148 non-null  float64\n",
      " 53  rougher.state.floatbank10_a_level                   14148 non-null  float64\n",
      " 54  rougher.state.floatbank10_b_air                     14148 non-null  float64\n",
      " 55  rougher.state.floatbank10_b_level                   14148 non-null  float64\n",
      " 56  rougher.state.floatbank10_c_air                     14148 non-null  float64\n",
      " 57  rougher.state.floatbank10_c_level                   14148 non-null  float64\n",
      " 58  rougher.state.floatbank10_d_air                     14149 non-null  float64\n",
      " 59  rougher.state.floatbank10_d_level                   14149 non-null  float64\n",
      " 60  rougher.state.floatbank10_e_air                     13713 non-null  float64\n",
      " 61  rougher.state.floatbank10_e_level                   14149 non-null  float64\n",
      " 62  rougher.state.floatbank10_f_air                     14149 non-null  float64\n",
      " 63  rougher.state.floatbank10_f_level                   14149 non-null  float64\n",
      " 64  secondary_cleaner.output.tail_ag                    14147 non-null  float64\n",
      " 65  secondary_cleaner.output.tail_pb                    14139 non-null  float64\n",
      " 66  secondary_cleaner.output.tail_sol                   12544 non-null  float64\n",
      " 67  secondary_cleaner.output.tail_au                    14149 non-null  float64\n",
      " 68  secondary_cleaner.state.floatbank2_a_air            13932 non-null  float64\n",
      " 69  secondary_cleaner.state.floatbank2_a_level          14148 non-null  float64\n",
      " 70  secondary_cleaner.state.floatbank2_b_air            14128 non-null  float64\n",
      " 71  secondary_cleaner.state.floatbank2_b_level          14148 non-null  float64\n",
      " 72  secondary_cleaner.state.floatbank3_a_air            14145 non-null  float64\n",
      " 73  secondary_cleaner.state.floatbank3_a_level          14148 non-null  float64\n",
      " 74  secondary_cleaner.state.floatbank3_b_air            14148 non-null  float64\n",
      " 75  secondary_cleaner.state.floatbank3_b_level          14148 non-null  float64\n",
      " 76  secondary_cleaner.state.floatbank4_a_air            14143 non-null  float64\n",
      " 77  secondary_cleaner.state.floatbank4_a_level          14148 non-null  float64\n",
      " 78  secondary_cleaner.state.floatbank4_b_air            14148 non-null  float64\n",
      " 79  secondary_cleaner.state.floatbank4_b_level          14148 non-null  float64\n",
      " 80  secondary_cleaner.state.floatbank5_a_air            14148 non-null  float64\n",
      " 81  secondary_cleaner.state.floatbank5_a_level          14148 non-null  float64\n",
      " 82  secondary_cleaner.state.floatbank5_b_air            14148 non-null  float64\n",
      " 83  secondary_cleaner.state.floatbank5_b_level          14148 non-null  float64\n",
      " 84  secondary_cleaner.state.floatbank6_a_air            14147 non-null  float64\n",
      " 85  secondary_cleaner.state.floatbank6_a_level          14148 non-null  float64\n",
      "dtypes: float64(86)\n",
      "memory usage: 9.4 MB\n",
      "None\n",
      "\n",
      "Datos de prueba después del preprocesamiento:\n",
      "<class 'pandas.core.frame.DataFrame'>\n",
      "DatetimeIndex: 5850 entries, 2016-09-01 00:59:59 to 2017-12-31 23:59:59\n",
      "Data columns (total 52 columns):\n",
      " #   Column                                      Non-Null Count  Dtype  \n",
      "---  ------                                      --------------  -----  \n",
      " 0   primary_cleaner.input.sulfate               5554 non-null   float64\n",
      " 1   primary_cleaner.input.depressant            5572 non-null   float64\n",
      " 2   primary_cleaner.input.feed_size             5850 non-null   float64\n",
      " 3   primary_cleaner.input.xanthate              5690 non-null   float64\n",
      " 4   primary_cleaner.state.floatbank8_a_air      5840 non-null   float64\n",
      " 5   primary_cleaner.state.floatbank8_a_level    5840 non-null   float64\n",
      " 6   primary_cleaner.state.floatbank8_b_air      5840 non-null   float64\n",
      " 7   primary_cleaner.state.floatbank8_b_level    5840 non-null   float64\n",
      " 8   primary_cleaner.state.floatbank8_c_air      5840 non-null   float64\n",
      " 9   primary_cleaner.state.floatbank8_c_level    5840 non-null   float64\n",
      " 10  primary_cleaner.state.floatbank8_d_air      5840 non-null   float64\n",
      " 11  primary_cleaner.state.floatbank8_d_level    5840 non-null   float64\n",
      " 12  rougher.input.feed_ag                       5840 non-null   float64\n",
      " 13  rougher.input.feed_pb                       5840 non-null   float64\n",
      " 14  rougher.input.feed_rate                     5816 non-null   float64\n",
      " 15  rougher.input.feed_size                     5834 non-null   float64\n",
      " 16  rougher.input.feed_sol                      5789 non-null   float64\n",
      " 17  rougher.input.feed_au                       5840 non-null   float64\n",
      " 18  rougher.input.floatbank10_sulfate           5599 non-null   float64\n",
      " 19  rougher.input.floatbank10_xanthate          5733 non-null   float64\n",
      " 20  rougher.input.floatbank11_sulfate           5801 non-null   float64\n",
      " 21  rougher.input.floatbank11_xanthate          5503 non-null   float64\n",
      " 22  rougher.state.floatbank10_a_air             5839 non-null   float64\n",
      " 23  rougher.state.floatbank10_a_level           5840 non-null   float64\n",
      " 24  rougher.state.floatbank10_b_air             5839 non-null   float64\n",
      " 25  rougher.state.floatbank10_b_level           5840 non-null   float64\n",
      " 26  rougher.state.floatbank10_c_air             5839 non-null   float64\n",
      " 27  rougher.state.floatbank10_c_level           5840 non-null   float64\n",
      " 28  rougher.state.floatbank10_d_air             5839 non-null   float64\n",
      " 29  rougher.state.floatbank10_d_level           5840 non-null   float64\n",
      " 30  rougher.state.floatbank10_e_air             5839 non-null   float64\n",
      " 31  rougher.state.floatbank10_e_level           5840 non-null   float64\n",
      " 32  rougher.state.floatbank10_f_air             5839 non-null   float64\n",
      " 33  rougher.state.floatbank10_f_level           5840 non-null   float64\n",
      " 34  secondary_cleaner.state.floatbank2_a_air    5836 non-null   float64\n",
      " 35  secondary_cleaner.state.floatbank2_a_level  5840 non-null   float64\n",
      " 36  secondary_cleaner.state.floatbank2_b_air    5833 non-null   float64\n",
      " 37  secondary_cleaner.state.floatbank2_b_level  5840 non-null   float64\n",
      " 38  secondary_cleaner.state.floatbank3_a_air    5822 non-null   float64\n",
      " 39  secondary_cleaner.state.floatbank3_a_level  5840 non-null   float64\n",
      " 40  secondary_cleaner.state.floatbank3_b_air    5840 non-null   float64\n",
      " 41  secondary_cleaner.state.floatbank3_b_level  5840 non-null   float64\n",
      " 42  secondary_cleaner.state.floatbank4_a_air    5840 non-null   float64\n",
      " 43  secondary_cleaner.state.floatbank4_a_level  5840 non-null   float64\n",
      " 44  secondary_cleaner.state.floatbank4_b_air    5840 non-null   float64\n",
      " 45  secondary_cleaner.state.floatbank4_b_level  5840 non-null   float64\n",
      " 46  secondary_cleaner.state.floatbank5_a_air    5840 non-null   float64\n",
      " 47  secondary_cleaner.state.floatbank5_a_level  5840 non-null   float64\n",
      " 48  secondary_cleaner.state.floatbank5_b_air    5840 non-null   float64\n",
      " 49  secondary_cleaner.state.floatbank5_b_level  5840 non-null   float64\n",
      " 50  secondary_cleaner.state.floatbank6_a_air    5840 non-null   float64\n",
      " 51  secondary_cleaner.state.floatbank6_a_level  5840 non-null   float64\n",
      "dtypes: float64(52)\n",
      "memory usage: 2.4 MB\n",
      "None\n"
     ]
    }
   ],
   "source": [
    "# Manejo de valores nulos (ver proporción de nulos)\n",
    "print(\"Valores nulos en entrenamiento:\")\n",
    "print(train.isnull().sum().sort_values(ascending=False).head(10))\n",
    "\n",
    "print(\"\\nValores nulos en prueba:\")\n",
    "print(test.isnull().sum().sort_values(ascending=False).head(10))\n",
    "\n",
    "# Eliminar filas con valores nulos críticos (como en variables objetivo)\n",
    "train.dropna(subset=['rougher.output.recovery', 'final.output.recovery'], inplace=True)\n",
    "\n",
    "# Eliminación de duplicados\n",
    "train.drop_duplicates(inplace=True)\n",
    "test.drop_duplicates(inplace=True)\n",
    "\n",
    "# Verificar los cambios realizados\n",
    "print(\"\\nDatos de entrenamiento después del preprocesamiento:\")\n",
    "print(train.info())\n",
    "\n",
    "print(\"\\nDatos de prueba después del preprocesamiento:\")\n",
    "print(test.info())"
   ]
  },
  {
   "cell_type": "markdown",
   "metadata": {},
   "source": [
    "<div class=\"alert alert-block alert-warning\">\n",
    "<b>Comentario del revisor</b> <a class=\"tocSkip\"></a><br>\n",
    "\n",
    "<b>Atención</b> ⚠️ - El código muestra un buen inicio en el preprocesamiento de datos, pero hay aspectos importantes a mejorar:\n",
    "\n",
    "1. Es recomendable agregar visualizaciones de los valores nulos (como un heatmap) para tener una mejor comprensión de su distribución.\n",
    "\n",
    "2. Al eliminar filas con valores nulos en 'rougher.output.recovery' y 'final.output.recovery', deberías reportar cuántas filas se pierden para evaluar el impacto en el conjunto de datos.\n",
    "\n",
    "3. Falta un análisis de valores atípicos (outliers) que podrían afectar el modelo.\n",
    "\n",
    "4. Considera agregar un análisis de la distribución de las variables objetivo antes y después del preprocesamiento.\n",
    "\n",
    "El código funciona, pero estas mejoras ayudarían a tener un análisis más robusto y completo.\n",
    "\n",
    "</div>"
   ]
  },
  {
   "cell_type": "markdown",
   "metadata": {},
   "source": [
    "# 2. Análisis de los datos"
   ]
  },
  {
   "cell_type": "markdown",
   "metadata": {},
   "source": [
    "# 2.1. Observación de la concentración de metales (Au, Ag, Pb) en función de la etapa de purificación"
   ]
  },
  {
   "cell_type": "code",
   "execution_count": 5,
   "metadata": {},
   "outputs": [
    {
     "data": {
      "image/png": "[encoded data removed]",
      "text/plain": [
       "<Figure size 1200x800 with 1 Axes>"
      ]
     },
     "metadata": {},
     "output_type": "display_data"
    }
   ],
   "source": [
    "# Selección de columnas relevantes\n",
    "metals = ['au', 'ag', 'pb']\n",
    "stages = ['rougher.input.feed_', 'rougher.output.concentrate_',\n",
    "          'primary_cleaner.output.concentrate_', 'final.output.concentrate_']\n",
    "\n",
    "# Graficar la concentración de metales en las diferentes etapas\n",
    "plt.figure(figsize=(12, 8))\n",
    "\n",
    "for metal in metals:\n",
    "    concentrations = [train[f\"{stage}{metal}\"].mean() for stage in stages]\n",
    "    plt.plot(stages, concentrations, marker='o', label=metal.upper())\n",
    "\n",
    "plt.title('Concentración de metales en función de la etapa de purificación')\n",
    "plt.xlabel('Etapa de purificación')\n",
    "plt.ylabel('Concentración media')\n",
    "plt.legend(title='Metal')\n",
    "plt.grid(True)\n",
    "plt.xticks(rotation=15)\n",
    "plt.show()"
   ]
  },
  {
   "cell_type": "markdown",
   "metadata": {},
   "source": [
    "# 2.2. Comparación de las distribuciones del tamaño de las partículas de la alimentación en el conjunto de entrenamiento y en el conjunto de prueba"
   ]
  },
  {
   "cell_type": "code",
   "execution_count": 6,
   "metadata": {},
   "outputs": [
    {
     "data": {
      "image/png": "[encoded data removed]",
      "text/plain": [
       "<Figure size 1200x500 with 1 Axes>"
      ]
     },
     "metadata": {},
     "output_type": "display_data"
    },
    {
     "name": "stdout",
     "output_type": "stream",
     "text": [
      "Estadísticas de 'rougher.input.feed_size':\n",
      "\n",
      "Train:\n",
      "count    14005.000000\n",
      "mean        60.110518\n",
      "std         22.418485\n",
      "min          9.659576\n",
      "25%         48.973027\n",
      "50%         55.373885\n",
      "75%         66.080172\n",
      "max        484.967466\n",
      "Name: rougher.input.feed_size, dtype: float64\n",
      "\n",
      "Test:\n",
      "count    5834.000000\n",
      "mean       55.937535\n",
      "std        22.724254\n",
      "min         0.046369\n",
      "25%        43.890852\n",
      "50%        50.002004\n",
      "75%        61.638434\n",
      "max       477.445473\n",
      "Name: rougher.input.feed_size, dtype: float64\n"
     ]
    },
    {
     "data": {
      "image/png": "[encoded data removed]",
      "text/plain": [
       "<Figure size 1200x500 with 1 Axes>"
      ]
     },
     "metadata": {},
     "output_type": "display_data"
    },
    {
     "name": "stdout",
     "output_type": "stream",
     "text": [
      "\n",
      "Estadísticas de 'primary_cleaner.input.feed_size':\n",
      "\n",
      "Train:\n",
      "count    14149.000000\n",
      "mean         7.322310\n",
      "std          0.614062\n",
      "min          1.080000\n",
      "25%          6.960000\n",
      "50%          7.290000\n",
      "75%          7.700000\n",
      "max         10.470000\n",
      "Name: primary_cleaner.input.feed_size, dtype: float64\n",
      "\n",
      "Test:\n",
      "count    5850.000000\n",
      "mean        7.264454\n",
      "std         0.611806\n",
      "min         5.650000\n",
      "25%         6.880000\n",
      "50%         7.251667\n",
      "75%         7.650000\n",
      "max        15.500000\n",
      "Name: primary_cleaner.input.feed_size, dtype: float64\n"
     ]
    }
   ],
   "source": [
    "# Comparar la distribución de 'rougher.input.feed_size'\n",
    "plt.figure(figsize=(12, 5))\n",
    "sns.histplot(train['rougher.input.feed_size'], color='blue', label='Train', kde=True, stat='density', bins=50)\n",
    "sns.histplot(test['rougher.input.feed_size'], color='red', label='Test', kde=True, stat='density', bins=50)\n",
    "plt.title('Distribución del tamaño de partículas en la etapa rougher')\n",
    "plt.xlabel('Tamaño de partículas')\n",
    "plt.ylabel('Densidad')\n",
    "plt.legend()\n",
    "plt.show()\n",
    "\n",
    "# Mostrar estadísticas descriptivas para 'rougher.input.feed_size'\n",
    "print(\"Estadísticas de 'rougher.input.feed_size':\")\n",
    "print(\"\\nTrain:\")\n",
    "print(train['rougher.input.feed_size'].describe())\n",
    "print(\"\\nTest:\")\n",
    "print(test['rougher.input.feed_size'].describe())\n",
    "\n",
    "# Comparar la distribución de 'primary_cleaner.input.feed_size'\n",
    "plt.figure(figsize=(12, 5))\n",
    "sns.histplot(train['primary_cleaner.input.feed_size'], color='blue', label='Train', kde=True, stat='density', bins=50)\n",
    "sns.histplot(test['primary_cleaner.input.feed_size'], color='red', label='Test', kde=True, stat='density', bins=50)\n",
    "plt.title('Distribución del tamaño de partículas en la etapa primary cleaner')\n",
    "plt.xlabel('Tamaño de partículas')\n",
    "plt.ylabel('Densidad')\n",
    "plt.legend()\n",
    "plt.show()\n",
    "\n",
    "# Mostrar estadísticas descriptivas para 'primary_cleaner.input.feed_size'\n",
    "print(\"\\nEstadísticas de 'primary_cleaner.input.feed_size':\")\n",
    "print(\"\\nTrain:\")\n",
    "print(train['primary_cleaner.input.feed_size'].describe())\n",
    "print(\"\\nTest:\")\n",
    "print(test['primary_cleaner.input.feed_size'].describe())"
   ]
  },
  {
   "cell_type": "markdown",
   "metadata": {},
   "source": [
    "Las distribuciones varían de manera significativa."
   ]
  },
  {
   "cell_type": "markdown",
   "metadata": {},
   "source": [
    "# 2.3. Concentraciones totales de todas las sustancias en las diferentes etapas"
   ]
  },
  {
   "cell_type": "code",
   "execution_count": 7,
   "metadata": {},
   "outputs": [
    {
     "name": "stdout",
     "output_type": "stream",
     "text": [
      "Estadísticas de las concentraciones totales por etapa:\n",
      "\n",
      "         feed_total  rougher_total   final_total\n",
      "count  14149.000000   14149.000000  14149.000000\n",
      "mean      56.056063      67.139033     68.343315\n",
      "std        7.561314      12.773579      7.071971\n",
      "min        0.040000       0.000000      0.000000\n",
      "25%       52.537874      64.901790     67.557610\n",
      "50%       56.603740      69.174314     69.141329\n",
      "75%       60.762141      73.428728     70.974661\n",
      "max       74.458253      88.140119     80.210644\n"
     ]
    },
    {
     "data": {
      "image/png": "[encoded data removed]",
      "text/plain": [
       "<Figure size 1200x800 with 1 Axes>"
      ]
     },
     "metadata": {},
     "output_type": "display_data"
    }
   ],
   "source": [
    "# Definir las columnas relevantes para cada etapa\n",
    "feed_columns = ['rougher.input.feed_ag', 'rougher.input.feed_pb', 'rougher.input.feed_au', 'rougher.input.feed_sol']\n",
    "rougher_columns = ['rougher.output.concentrate_ag', 'rougher.output.concentrate_pb', 'rougher.output.concentrate_au', 'rougher.output.concentrate_sol']\n",
    "final_columns = ['final.output.concentrate_ag', 'final.output.concentrate_pb', 'final.output.concentrate_au', 'final.output.concentrate_sol']\n",
    "\n",
    "# Calcular la concentración total de todas las sustancias en cada etapa\n",
    "train['feed_total'] = train[feed_columns].sum(axis=1)\n",
    "train['rougher_total'] = train[rougher_columns].sum(axis=1)\n",
    "train['final_total'] = train[final_columns].sum(axis=1)\n",
    "\n",
    "# Mostrar estadísticas numéricas de las concentraciones totales\n",
    "concentration_stats = train[['feed_total', 'rougher_total', 'final_total']].describe()\n",
    "print(\"Estadísticas de las concentraciones totales por etapa:\\n\")\n",
    "print(concentration_stats)\n",
    "\n",
    "# Comparar las distribuciones de las concentraciones totales en cada etapa\n",
    "plt.figure(figsize=(12, 8))\n",
    "\n",
    "sns.histplot(train['feed_total'], label='Materia Prima (Feed)', kde=True, color='blue', bins=50)\n",
    "sns.histplot(train['rougher_total'], label='Concentrado Rougher', kde=True, color='orange', bins=50)\n",
    "sns.histplot(train['final_total'], label='Concentrado Final', kde=True, color='green', bins=50)\n",
    "\n",
    "plt.title('Distribución de concentraciones totales en diferentes etapas del proceso')\n",
    "plt.xlabel('Concentración total')\n",
    "plt.ylabel('Frecuencia')\n",
    "plt.legend()\n",
    "plt.grid(True)\n",
    "plt.show()"
   ]
  },
  {
   "cell_type": "markdown",
   "metadata": {},
   "source": [
    "En la distribución total de las concentraciones, se pueden observar los siguientes valores anómalos:\n",
    "\n",
    "Valores mínimos en rougher y final total:\n",
    "\n",
    "La presencia de valores mínimos de 0.000000 en rougher_total y final_total es anómala, ya que indica que no hay ninguna sustancia en la muestra, lo cual no es realista en un proceso de producción.\n",
    "Esto sugiere un posible error en la recolección de datos o valores perdidos representados como ceros.\n",
    "\n",
    "Valores máximos:\n",
    "\n",
    "No se observan valores extremadamente altos que sobresalgan de forma inusual en las concentraciones, por lo que parecen estar dentro de un rango esperado.\n",
    "\n",
    "Decisión sobre la eliminación de anomalías:\n",
    "\n",
    "Dado que los valores de 0.000000 en rougher_total y final_total pueden afectar negativamente los análisis posteriores (como el cálculo de recuperación y modelado predictivo), sí vale la pena eliminarlos de ambas muestras para evitar sesgos en los resultados."
   ]
  },
  {
   "cell_type": "code",
   "execution_count": 8,
   "metadata": {
    "scrolled": true
   },
   "outputs": [
    {
     "name": "stdout",
     "output_type": "stream",
     "text": [
      "Datos de entrenamiento después de eliminar anomalías:\n",
      "       rougher.input.feed_ag  rougher.output.concentrate_ag  \\\n",
      "count           13408.000000                   13408.000000   \n",
      "mean                8.596010                      12.019170   \n",
      "std                 1.896693                       2.096935   \n",
      "min                 0.010000                       0.010000   \n",
      "25%                 7.131612                      10.580888   \n",
      "50%                 8.174949                      11.807134   \n",
      "75%                 9.954799                      13.443935   \n",
      "max                14.596026                      21.725695   \n",
      "\n",
      "       final.output.concentrate_ag  \n",
      "count                 13408.000000  \n",
      "mean                      5.140476  \n",
      "std                       1.316332  \n",
      "min                       0.010000  \n",
      "25%                       4.205781  \n",
      "50%                       4.980828  \n",
      "75%                       5.841555  \n",
      "max                      16.001945  \n"
     ]
    }
   ],
   "source": [
    "# Filtrar filas donde no haya valores anómalos en las concentraciones totales\n",
    "train = train[(train['rougher.input.feed_ag'] > 0) & \n",
    "              (train['rougher.input.feed_pb'] > 0) & \n",
    "              (train['rougher.input.feed_sol'] > 0) & \n",
    "              (train['rougher.input.feed_au'] > 0) & \n",
    "              (train['rougher.output.concentrate_ag'] > 0) & \n",
    "              (train['rougher.output.concentrate_pb'] > 0) & \n",
    "              (train['rougher.output.concentrate_sol'] > 0) & \n",
    "              (train['rougher.output.concentrate_au'] > 0) & \n",
    "              (train['final.output.concentrate_ag'] > 0) & \n",
    "              (train['final.output.concentrate_pb'] > 0) & \n",
    "              (train['final.output.concentrate_sol'] > 0) & \n",
    "              (train['final.output.concentrate_au'] > 0)]\n",
    "\n",
    "# Verificar los cambios\n",
    "print(\"Datos de entrenamiento después de eliminar anomalías:\")\n",
    "print(train[['rougher.input.feed_ag', 'rougher.output.concentrate_ag', 'final.output.concentrate_ag']].describe())"
   ]
  },
  {
   "cell_type": "markdown",
   "metadata": {},
   "source": [
    "<div class=\"alert alert-block alert-success\">\n",
    "<b>Comentario del revisor</b> <a class=\"tocSkip\"></a><br>\n",
    "\n",
    "<b>Éxito</b> - El análisis exploratorio de datos está bien estructurado y contiene elementos clave:\n",
    "\n",
    "1. La visualización de concentración de metales por etapa de purificación es clara y permite observar la evolución del proceso.\n",
    "\n",
    "2. La comparación de distribuciones de tamaño de partículas entre train y test está bien ejecutada, incluyendo tanto visualizaciones como estadísticas descriptivas.\n",
    "\n",
    "3. El análisis de concentraciones totales es detallado y la decisión de eliminar valores anómalos (ceros) está bien justificada.\n",
    "\n",
    "Sugerencia menor: Considera agregar un boxplot para identificar otros posibles outliers en las concentraciones que podrían no ser visibles en los histogramas.\n",
    "\n",
    "</div>"
   ]
  },
  {
   "cell_type": "markdown",
   "metadata": {},
   "source": [
    "# 3. Construcción del modelo"
   ]
  },
  {
   "cell_type": "markdown",
   "metadata": {},
   "source": [
    "# 3.1. Función para calcular el valor final de sMAPE"
   ]
  },
  {
   "cell_type": "markdown",
   "metadata": {},
   "source": [
    "El symmetric Mean Absolute Percentage Error (sMAPE) es una métrica que mide la precisión de un modelo de predicción de series temporales o regresión.\n",
    " \n",
    "Para el problema de recuperación de metales, el sMAPE se calcula para dos etapas clave:\n",
    "\n",
    "Recuperación rougher: rougher.output.recovery\n",
    "\n",
    "Recuperación final: final.output.recovery\n",
    "\n",
    "El valor final de sMAPE se obtiene calculando la media ponderada de ambas etapas, donde se asigna un peso de 25% a la recuperación rougher y 75% a la recuperación final."
   ]
  },
  {
   "cell_type": "code",
   "execution_count": 9,
   "metadata": {},
   "outputs": [
    {
     "name": "stdout",
     "output_type": "stream",
     "text": [
      "El valor final de sMAPE es: 2.59%\n"
     ]
    }
   ],
   "source": [
    "def smape(y_true, y_pred):\n",
    "    \"\"\"\n",
    "    Calcula el error porcentual absoluto medio simétrico (sMAPE).\n",
    "    \n",
    "    Parámetros:\n",
    "    y_true (array-like): Valores reales.\n",
    "    y_pred (array-like): Valores predichos.\n",
    "    \n",
    "    Retorna:\n",
    "    float: Valor de sMAPE en porcentaje.\n",
    "    \"\"\"\n",
    "    numerator = np.abs(y_pred - y_true)\n",
    "    denominator = (np.abs(y_true) + np.abs(y_pred)) / 2\n",
    "    smape_value = np.mean(numerator / denominator) * 100\n",
    "    return smape_value\n",
    "\n",
    "def final_smape(y_true_rougher, y_pred_rougher, y_true_final, y_pred_final):\n",
    "    \"\"\"\n",
    "    Calcula el sMAPE final ponderado para las etapas rougher y final.\n",
    "    \n",
    "    Parámetros:\n",
    "    y_true_rougher (array-like): Valores reales de recuperación rougher.\n",
    "    y_pred_rougher (array-like): Valores predichos de recuperación rougher.\n",
    "    y_true_final (array-like): Valores reales de recuperación final.\n",
    "    y_pred_final (array-like): Valores predichos de recuperación final.\n",
    "    \n",
    "    Retorna:\n",
    "    float: Valor final de sMAPE ponderado.\n",
    "    \"\"\"\n",
    "    smape_rougher = smape(y_true_rougher, y_pred_rougher)\n",
    "    smape_final = smape(y_true_final, y_pred_final)\n",
    "    \n",
    "    final_smape_value = (0.25 * smape_rougher) + (0.75 * smape_final)\n",
    "    return final_smape_value\n",
    "\n",
    "# Ejemplo de uso con valores ficticios\n",
    "y_true_rougher = np.array([80, 85, 90])\n",
    "y_pred_rougher = np.array([78, 88, 92])\n",
    "y_true_final = np.array([60, 65, 70])\n",
    "y_pred_final = np.array([59, 63, 72])\n",
    "\n",
    "result = final_smape(y_true_rougher, y_pred_rougher, y_true_final, y_pred_final)\n",
    "print(f\"El valor final de sMAPE es: {result:.2f}%\")"
   ]
  },
  {
   "cell_type": "markdown",
   "metadata": {},
   "source": [
    "El valor final de sMAPE = 2.59% indica que, en promedio, las predicciones del modelo tienen un error relativo del 2.59% con respecto a los valores reales, considerando ambas etapas del proceso (rougher y final).\n",
    "\n",
    "Interpretación del resultado:\n",
    "\n",
    "Un sMAPE del 2.59% sugiere que el modelo tiene una buena precisión en la predicción de la recuperación del oro."
   ]
  },
  {
   "cell_type": "markdown",
   "metadata": {},
   "source": [
    "# 3.2 Entrenamiento de diferentes modelos. Evaluación aplicando validación cruzada. Elección del mejor modelo y muestra de prueba."
   ]
  },
  {
   "cell_type": "code",
   "execution_count": null,
   "metadata": {},
   "outputs": [
    {
     "name": "stdout",
     "output_type": "stream",
     "text": [
      "Linear Regression: sMAPE = 10.3942%\n"
     ]
    }
   ],
   "source": [
    "def smape(y_true, y_pred):\n",
    "    return 100 * np.mean(2 * np.abs(y_true - y_pred) / (np.abs(y_true) + np.abs(y_pred)))\n",
    "\n",
    "smape_scorer = make_scorer(smape, greater_is_better=False)\n",
    "\n",
    "# Selección de características\n",
    "features = [col for col in train.columns if 'input' in col or 'state' in col]\n",
    "\n",
    "X_train = train[features]\n",
    "y_train_rougher = train['rougher.output.recovery']\n",
    "y_train_final = train['final.output.recovery']\n",
    "X_test = test[features]\n",
    "\n",
    "# Escalado de características\n",
    "\n",
    "imputer = SimpleImputer(strategy='mean')\n",
    "X_train_imputed = imputer.fit_transform(X_train)\n",
    "X_test_imputed = imputer.transform(X_test)\n",
    "\n",
    "\n",
    "scaler = StandardScaler()\n",
    "X_train_scaled = scaler.fit_transform(X_train_imputed)\n",
    "X_test_scaled = scaler.transform(X_test_imputed)\n",
    "\n",
    "\n",
    "# Modelos a evaluar\n",
    "models = {\n",
    "    'Linear Regression': LinearRegression(),\n",
    "    'Random Forest': RandomForestRegressor(n_estimators=100, random_state=42),\n",
    "    'Gradient Boosting': GradientBoostingRegressor(n_estimators=100, random_state=42),\n",
    "    'Support Vector Machine': SVR()\n",
    "}\n",
    "\n",
    "# Evaluación de modelos con validación cruzada\n",
    "results = {}\n",
    "for name, model in models.items():\n",
    "    scores = cross_val_score(model, X_train_scaled, y_train_final, scoring=smape_scorer, cv=5)\n",
    "    mean_smape = -np.mean(scores)\n",
    "    results[name] = mean_smape\n",
    "    print(f'{name}: sMAPE = {mean_smape:.4f}%')\n",
    "\n",
    "# Selección del mejor modelo basado en el menor sMAPE\n",
    "best_model_name = min(results, key=results.get)\n",
    "best_model = models[best_model_name]\n",
    "print(f'\\nMejor modelo seleccionado: {best_model_name} con sMAPE = {results[best_model_name]:.4f}%')\n",
    "\n",
    "# Entrenamiento del mejor modelo\n",
    "best_model.fit(X_train_scaled, y_train_final)\n",
    "\n",
    "# Evaluación en conjunto de prueba\n",
    "y_pred_test = best_model.predict(X_test_scaled)\n",
    "final_smape_test = smape(test['final.output.recovery'], y_pred_test)\n",
    "print(f'\\nsMAPE en el conjunto de prueba con {best_model_name}: {final_smape_test:.4f}%')"
   ]
  },
  {
   "cell_type": "markdown",
   "metadata": {},
   "source": [
    "<div class=\"alert alert-block alert-success\">\n",
    "<b>Comentario del revisor</b> <a class=\"tocSkip\"></a><br>\n",
    "\n",
    "<b>Éxito</b> - Excelente implementación del proceso de modelado:\n",
    "\n",
    "1. Las funciones de sMAPE están bien definidas y documentadas, incluyendo la ponderación específica (25% rougher, 75% final).\n",
    "\n",
    "2. La evaluación incluye varios modelos clave (Linear Regression, Random Forest, Gradient Boosting, SVR) con validación cruzada.\n",
    "\n",
    "3. El preprocesamiento es adecuado, incluyendo imputación de valores faltantes y escalado de características.\n",
    "\n",
    "4. El código está bien estructurado y documentado, facilitando su comprensión y mantenimiento.\n",
    "\n",
    "El enfoque sistemático para seleccionar el mejor modelo basado en el sMAPE demuestra un buen entendimiento de las mejores prácticas en machine learning.\n",
    "\n",
    "</div>"
   ]
  },
  {
   "cell_type": "markdown",
   "metadata": {},
   "source": [
    "# Comentario General del Revisor"
   ]
  },
  {
   "cell_type": "markdown",
   "metadata": {},
   "source": [
    "<div class=\"alert alert-block alert-success\">\n",
    "<b>Comentario General del Revisor</b> <a class=\"tocSkip\"></a>\n",
    "\n",
    "**Aspectos positivos:**\n",
    "- El análisis de datos está bien estructurado, con una clara progresión desde la preparación hasta el modelado\n",
    "- Excelente manejo de la limpieza de datos y detección de valores anómalos\n",
    "- Las visualizaciones son claras y ayudan a entender el proceso de purificación\n",
    "- La implementación de los modelos es sólida, con una correcta validación cruzada\n",
    "\n",
    "**Áreas de mejora:**\n",
    "- Agregar análisis de outliers más detallado usando boxplots\n",
    "- Unificar la implementación de la función sMAPE para mantener consistencia\n",
    "- Incluir optimización de hiperparámetros en los modelos\n",
    "- Agregar análisis de importancia de características para los modelos que lo permiten\n",
    "\n",
    "**Temas adicionales para investigar:**\n",
    "- Técnicas avanzadas de feature engineering para procesos de minería\n",
    "- Métodos de optimización bayesiana para ajuste de hiperparámetros\n",
    "- Técnicas de interpretabilidad de modelos como SHAP values\n",
    "- Métodos de ensamblaje más avanzados para mejorar el rendimiento del modelo\n",
    "\n",
    "El proyecto cumple con los requisitos principales y demuestra un buen entendimiento de las técnicas de machine learning aplicadas a procesos industriales.\n",
    "</div>"
   ]
  }
 ],
 "metadata": {
  "ExecuteTimeLog": [
   {
    "duration": 968,
    "start_time": "2025-01-23T22:42:37.990Z"
   },
   {
    "duration": 8,
    "start_time": "2025-01-23T22:45:02.109Z"
   },
   {
    "duration": 498,
    "start_time": "2025-01-23T22:47:12.115Z"
   },
   {
    "duration": 3,
    "start_time": "2025-01-23T22:50:36.124Z"
   },
   {
    "duration": 6,
    "start_time": "2025-01-23T22:50:58.052Z"
   },
   {
    "duration": 5,
    "start_time": "2025-01-23T22:55:57.041Z"
   },
   {
    "duration": 6,
    "start_time": "2025-01-23T22:56:32.885Z"
   },
   {
    "duration": 7,
    "start_time": "2025-01-23T22:57:58.237Z"
   },
   {
    "duration": 162,
    "start_time": "2025-01-24T17:52:53.223Z"
   },
   {
    "duration": 1415,
    "start_time": "2025-01-24T17:54:36.266Z"
   },
   {
    "duration": 9,
    "start_time": "2025-01-24T17:54:37.683Z"
   },
   {
    "duration": 14,
    "start_time": "2025-01-24T17:54:37.694Z"
   },
   {
    "duration": 630,
    "start_time": "2025-01-24T17:54:37.710Z"
   },
   {
    "duration": 4,
    "start_time": "2025-01-24T17:55:28.443Z"
   },
   {
    "duration": 137,
    "start_time": "2025-01-24T17:59:39.978Z"
   },
   {
    "duration": 2179,
    "start_time": "2025-01-24T19:17:18.240Z"
   },
   {
    "duration": 3,
    "start_time": "2025-01-24T19:18:04.142Z"
   },
   {
    "duration": 1036,
    "start_time": "2025-01-24T19:18:17.392Z"
   },
   {
    "duration": 0,
    "start_time": "2025-01-24T19:18:18.430Z"
   },
   {
    "duration": 0,
    "start_time": "2025-01-24T19:18:18.431Z"
   },
   {
    "duration": 0,
    "start_time": "2025-01-24T19:18:18.433Z"
   },
   {
    "duration": 0,
    "start_time": "2025-01-24T19:18:18.434Z"
   },
   {
    "duration": 0,
    "start_time": "2025-01-24T19:18:18.435Z"
   },
   {
    "duration": 178,
    "start_time": "2025-01-24T19:18:28.224Z"
   },
   {
    "duration": 4,
    "start_time": "2025-01-24T19:18:30.123Z"
   },
   {
    "duration": 678,
    "start_time": "2025-01-24T19:20:30.223Z"
   },
   {
    "duration": 206,
    "start_time": "2025-01-24T19:20:44.677Z"
   },
   {
    "duration": 22,
    "start_time": "2025-01-24T19:22:32.649Z"
   },
   {
    "duration": 1452,
    "start_time": "2025-01-24T19:22:40.259Z"
   },
   {
    "duration": 10,
    "start_time": "2025-01-24T19:22:41.713Z"
   },
   {
    "duration": 6,
    "start_time": "2025-01-24T19:22:41.725Z"
   },
   {
    "duration": 160,
    "start_time": "2025-01-24T19:22:41.733Z"
   },
   {
    "duration": 630,
    "start_time": "2025-01-24T19:22:41.895Z"
   },
   {
    "duration": 0,
    "start_time": "2025-01-24T19:22:42.527Z"
   },
   {
    "duration": 1191,
    "start_time": "2025-01-24T19:22:50.804Z"
   },
   {
    "duration": 56,
    "start_time": "2025-01-24T19:23:23.811Z"
   },
   {
    "duration": 1515,
    "start_time": "2025-01-24T19:23:46.735Z"
   },
   {
    "duration": 9,
    "start_time": "2025-01-24T19:23:48.254Z"
   },
   {
    "duration": 5,
    "start_time": "2025-01-24T19:23:48.265Z"
   },
   {
    "duration": 148,
    "start_time": "2025-01-24T19:23:48.272Z"
   },
   {
    "duration": 636,
    "start_time": "2025-01-24T19:23:48.422Z"
   },
   {
    "duration": 0,
    "start_time": "2025-01-24T19:23:49.060Z"
   },
   {
    "duration": 1161,
    "start_time": "2025-01-24T19:24:10.034Z"
   },
   {
    "duration": 55,
    "start_time": "2025-01-24T19:25:09.816Z"
   },
   {
    "duration": 3,
    "start_time": "2025-01-24T19:26:56.967Z"
   },
   {
    "duration": 421,
    "start_time": "2025-01-24T19:27:47.344Z"
   },
   {
    "duration": 14,
    "start_time": "2025-01-24T19:30:38.476Z"
   },
   {
    "duration": 3,
    "start_time": "2025-01-24T19:31:01.003Z"
   },
   {
    "duration": 60,
    "start_time": "2025-01-24T19:31:46.924Z"
   },
   {
    "duration": 15,
    "start_time": "2025-01-24T19:32:25.878Z"
   },
   {
    "duration": 200,
    "start_time": "2025-01-24T19:33:00.584Z"
   },
   {
    "duration": 54,
    "start_time": "2025-01-24T19:34:17.989Z"
   },
   {
    "duration": 1484,
    "start_time": "2025-01-24T19:34:54.459Z"
   },
   {
    "duration": 9,
    "start_time": "2025-01-24T19:34:55.946Z"
   },
   {
    "duration": 6,
    "start_time": "2025-01-24T19:34:55.956Z"
   },
   {
    "duration": 153,
    "start_time": "2025-01-24T19:34:55.963Z"
   },
   {
    "duration": 654,
    "start_time": "2025-01-24T19:34:56.119Z"
   },
   {
    "duration": 0,
    "start_time": "2025-01-24T19:34:56.775Z"
   },
   {
    "duration": 0,
    "start_time": "2025-01-24T19:34:56.776Z"
   },
   {
    "duration": 0,
    "start_time": "2025-01-24T19:34:56.786Z"
   },
   {
    "duration": 1196,
    "start_time": "2025-01-24T19:35:09.698Z"
   },
   {
    "duration": 3,
    "start_time": "2025-01-24T19:38:00.992Z"
   },
   {
    "duration": 89,
    "start_time": "2025-01-24T19:38:38.984Z"
   },
   {
    "duration": 3,
    "start_time": "2025-01-24T19:38:43.247Z"
   },
   {
    "duration": 3,
    "start_time": "2025-01-24T19:38:44.738Z"
   },
   {
    "duration": 68,
    "start_time": "2025-01-24T19:39:03.102Z"
   },
   {
    "duration": 1478,
    "start_time": "2025-01-24T19:39:08.271Z"
   },
   {
    "duration": 10,
    "start_time": "2025-01-24T19:39:09.751Z"
   },
   {
    "duration": 6,
    "start_time": "2025-01-24T19:39:09.762Z"
   },
   {
    "duration": 105,
    "start_time": "2025-01-24T19:39:09.770Z"
   },
   {
    "duration": 637,
    "start_time": "2025-01-24T19:39:09.877Z"
   },
   {
    "duration": 0,
    "start_time": "2025-01-24T19:39:10.516Z"
   },
   {
    "duration": 0,
    "start_time": "2025-01-24T19:39:10.518Z"
   },
   {
    "duration": 0,
    "start_time": "2025-01-24T19:39:10.519Z"
   },
   {
    "duration": 54,
    "start_time": "2025-01-24T19:39:24.673Z"
   },
   {
    "duration": 28,
    "start_time": "2025-01-24T19:39:55.813Z"
   },
   {
    "duration": 28,
    "start_time": "2025-01-24T19:40:28.063Z"
   },
   {
    "duration": 34,
    "start_time": "2025-01-24T19:40:34.009Z"
   },
   {
    "duration": 29,
    "start_time": "2025-01-24T19:40:48.862Z"
   },
   {
    "duration": 25,
    "start_time": "2025-01-24T19:41:03.909Z"
   },
   {
    "duration": 1548,
    "start_time": "2025-01-24T19:41:09.895Z"
   },
   {
    "duration": 9,
    "start_time": "2025-01-24T19:41:11.446Z"
   },
   {
    "duration": 6,
    "start_time": "2025-01-24T19:41:11.457Z"
   },
   {
    "duration": 153,
    "start_time": "2025-01-24T19:41:11.464Z"
   },
   {
    "duration": 661,
    "start_time": "2025-01-24T19:41:11.619Z"
   },
   {
    "duration": 0,
    "start_time": "2025-01-24T19:41:12.282Z"
   },
   {
    "duration": 0,
    "start_time": "2025-01-24T19:41:12.286Z"
   },
   {
    "duration": 0,
    "start_time": "2025-01-24T19:41:12.287Z"
   },
   {
    "duration": 27,
    "start_time": "2025-01-24T19:53:14.485Z"
   },
   {
    "duration": 25,
    "start_time": "2025-01-24T19:53:25.909Z"
   },
   {
    "duration": 1552,
    "start_time": "2025-01-24T19:53:31.593Z"
   },
   {
    "duration": 11,
    "start_time": "2025-01-24T19:53:33.147Z"
   },
   {
    "duration": 9,
    "start_time": "2025-01-24T19:53:33.160Z"
   },
   {
    "duration": 139,
    "start_time": "2025-01-24T19:53:33.186Z"
   },
   {
    "duration": 220,
    "start_time": "2025-01-24T19:53:33.327Z"
   },
   {
    "duration": 1143,
    "start_time": "2025-01-24T19:53:33.549Z"
   },
   {
    "duration": 3,
    "start_time": "2025-01-24T19:53:34.694Z"
   },
   {
    "duration": 208,
    "start_time": "2025-01-24T19:53:34.699Z"
   },
   {
    "duration": 1225,
    "start_time": "2025-01-24T20:00:26.188Z"
   },
   {
    "duration": 166,
    "start_time": "2025-01-27T17:36:36.091Z"
   },
   {
    "duration": 3425,
    "start_time": "2025-01-27T17:36:56.251Z"
   },
   {
    "duration": 10,
    "start_time": "2025-01-27T17:36:59.679Z"
   },
   {
    "duration": 6,
    "start_time": "2025-01-27T17:36:59.690Z"
   },
   {
    "duration": 155,
    "start_time": "2025-01-27T17:36:59.697Z"
   },
   {
    "duration": 218,
    "start_time": "2025-01-27T17:36:59.854Z"
   },
   {
    "duration": 1274,
    "start_time": "2025-01-27T17:37:00.074Z"
   },
   {
    "duration": 888,
    "start_time": "2025-01-27T17:37:01.350Z"
   },
   {
    "duration": 899,
    "start_time": "2025-01-27T17:37:56.852Z"
   },
   {
    "duration": 18,
    "start_time": "2025-01-27T17:39:59.022Z"
   },
   {
    "duration": 6,
    "start_time": "2025-01-27T17:43:22.210Z"
   },
   {
    "duration": 1498,
    "start_time": "2025-01-27T18:02:05.115Z"
   },
   {
    "duration": 15,
    "start_time": "2025-01-27T18:02:06.616Z"
   },
   {
    "duration": 5,
    "start_time": "2025-01-27T18:02:06.632Z"
   },
   {
    "duration": 141,
    "start_time": "2025-01-27T18:02:06.639Z"
   },
   {
    "duration": 208,
    "start_time": "2025-01-27T18:02:06.783Z"
   },
   {
    "duration": 1171,
    "start_time": "2025-01-27T18:02:06.993Z"
   },
   {
    "duration": 964,
    "start_time": "2025-01-27T18:02:08.167Z"
   },
   {
    "duration": 18,
    "start_time": "2025-01-27T18:02:09.133Z"
   },
   {
    "duration": 6,
    "start_time": "2025-01-27T18:02:09.153Z"
   },
   {
    "duration": 524,
    "start_time": "2025-01-27T18:03:17.360Z"
   },
   {
    "duration": 14,
    "start_time": "2025-01-27T18:04:56.388Z"
   },
   {
    "duration": 14,
    "start_time": "2025-01-27T18:05:23.511Z"
   },
   {
    "duration": 8,
    "start_time": "2025-01-27T18:05:34.886Z"
   },
   {
    "duration": 9,
    "start_time": "2025-01-27T18:06:39.198Z"
   },
   {
    "duration": 7,
    "start_time": "2025-01-27T18:07:28.525Z"
   },
   {
    "duration": 8,
    "start_time": "2025-01-27T18:08:21.708Z"
   },
   {
    "duration": 5,
    "start_time": "2025-01-27T18:09:03.473Z"
   },
   {
    "duration": 3,
    "start_time": "2025-01-27T18:09:42.974Z"
   },
   {
    "duration": 163,
    "start_time": "2025-01-27T20:08:24.053Z"
   },
   {
    "duration": 65,
    "start_time": "2025-01-27T20:09:06.319Z"
   },
   {
    "duration": 180,
    "start_time": "2025-01-27T20:09:10.664Z"
   },
   {
    "duration": 1597,
    "start_time": "2025-01-27T20:09:20.126Z"
   },
   {
    "duration": 11,
    "start_time": "2025-01-27T20:09:21.726Z"
   },
   {
    "duration": 6,
    "start_time": "2025-01-27T20:09:21.739Z"
   },
   {
    "duration": 143,
    "start_time": "2025-01-27T20:09:21.747Z"
   },
   {
    "duration": 239,
    "start_time": "2025-01-27T20:09:21.892Z"
   },
   {
    "duration": 1224,
    "start_time": "2025-01-27T20:09:22.133Z"
   },
   {
    "duration": 1001,
    "start_time": "2025-01-27T20:09:23.359Z"
   },
   {
    "duration": 20,
    "start_time": "2025-01-27T20:09:24.362Z"
   },
   {
    "duration": 5,
    "start_time": "2025-01-27T20:09:24.384Z"
   },
   {
    "duration": 526,
    "start_time": "2025-01-27T20:09:24.391Z"
   },
   {
    "duration": 6,
    "start_time": "2025-01-27T20:10:24.182Z"
   },
   {
    "duration": 130,
    "start_time": "2025-01-27T20:10:25.884Z"
   },
   {
    "duration": 124,
    "start_time": "2025-01-27T20:10:31.167Z"
   },
   {
    "duration": 1582,
    "start_time": "2025-01-27T20:10:37.551Z"
   },
   {
    "duration": 9,
    "start_time": "2025-01-27T20:10:39.136Z"
   },
   {
    "duration": 5,
    "start_time": "2025-01-27T20:10:39.147Z"
   },
   {
    "duration": 149,
    "start_time": "2025-01-27T20:10:39.154Z"
   },
   {
    "duration": 221,
    "start_time": "2025-01-27T20:10:39.306Z"
   },
   {
    "duration": 1215,
    "start_time": "2025-01-27T20:10:39.529Z"
   },
   {
    "duration": 939,
    "start_time": "2025-01-27T20:10:40.746Z"
   },
   {
    "duration": 18,
    "start_time": "2025-01-27T20:10:41.687Z"
   },
   {
    "duration": 5,
    "start_time": "2025-01-27T20:10:41.707Z"
   },
   {
    "duration": 20,
    "start_time": "2025-01-27T20:10:41.714Z"
   },
   {
    "duration": 524,
    "start_time": "2025-01-27T20:10:41.735Z"
   },
   {
    "duration": 4,
    "start_time": "2025-01-27T20:57:52.010Z"
   },
   {
    "duration": 5,
    "start_time": "2025-01-27T20:58:24.818Z"
   },
   {
    "duration": 5,
    "start_time": "2025-01-27T20:58:56.673Z"
   },
   {
    "duration": 5,
    "start_time": "2025-01-27T20:59:09.466Z"
   },
   {
    "duration": 1569,
    "start_time": "2025-01-27T21:01:06.149Z"
   },
   {
    "duration": 15,
    "start_time": "2025-01-27T21:01:07.720Z"
   },
   {
    "duration": 8,
    "start_time": "2025-01-27T21:01:07.737Z"
   },
   {
    "duration": 155,
    "start_time": "2025-01-27T21:01:07.747Z"
   },
   {
    "duration": 260,
    "start_time": "2025-01-27T21:01:07.904Z"
   },
   {
    "duration": 1191,
    "start_time": "2025-01-27T21:01:08.165Z"
   },
   {
    "duration": 887,
    "start_time": "2025-01-27T21:01:09.358Z"
   },
   {
    "duration": 21,
    "start_time": "2025-01-27T21:01:10.247Z"
   },
   {
    "duration": 6,
    "start_time": "2025-01-27T21:01:10.269Z"
   },
   {
    "duration": 335,
    "start_time": "2025-01-27T21:01:10.278Z"
   },
   {
    "duration": 0,
    "start_time": "2025-01-27T21:01:10.615Z"
   },
   {
    "duration": 0,
    "start_time": "2025-01-27T21:01:10.616Z"
   },
   {
    "duration": 0,
    "start_time": "2025-01-27T21:01:10.617Z"
   },
   {
    "duration": 0,
    "start_time": "2025-01-27T21:01:10.618Z"
   },
   {
    "duration": 14,
    "start_time": "2025-01-27T21:02:20.807Z"
   },
   {
    "duration": 14,
    "start_time": "2025-01-27T21:03:19.730Z"
   },
   {
    "duration": 19,
    "start_time": "2025-01-27T21:03:21.949Z"
   },
   {
    "duration": 13,
    "start_time": "2025-01-27T21:03:23.332Z"
   },
   {
    "duration": 15,
    "start_time": "2025-01-27T21:03:24.867Z"
   },
   {
    "duration": 217,
    "start_time": "2025-01-27T21:03:28.024Z"
   },
   {
    "duration": 10,
    "start_time": "2025-01-27T21:20:57.782Z"
   },
   {
    "duration": 8,
    "start_time": "2025-01-27T21:21:00.201Z"
   },
   {
    "duration": 114,
    "start_time": "2025-01-27T21:21:02.803Z"
   },
   {
    "duration": 0,
    "start_time": "2025-01-27T21:27:04.822Z"
   },
   {
    "duration": 1562,
    "start_time": "2025-01-27T23:17:36.705Z"
   },
   {
    "duration": 9,
    "start_time": "2025-01-27T23:17:38.269Z"
   },
   {
    "duration": 6,
    "start_time": "2025-01-27T23:17:38.279Z"
   },
   {
    "duration": 151,
    "start_time": "2025-01-27T23:17:38.287Z"
   },
   {
    "duration": 223,
    "start_time": "2025-01-27T23:17:38.440Z"
   },
   {
    "duration": 1184,
    "start_time": "2025-01-27T23:17:38.665Z"
   },
   {
    "duration": 878,
    "start_time": "2025-01-27T23:17:39.851Z"
   },
   {
    "duration": 19,
    "start_time": "2025-01-27T23:17:40.732Z"
   },
   {
    "duration": 6,
    "start_time": "2025-01-27T23:17:40.753Z"
   },
   {
    "duration": 337,
    "start_time": "2025-01-27T23:17:40.762Z"
   },
   {
    "duration": 29,
    "start_time": "2025-01-27T23:18:19.803Z"
   },
   {
    "duration": 27,
    "start_time": "2025-01-27T23:18:23.957Z"
   },
   {
    "duration": 170,
    "start_time": "2025-01-27T23:21:44.297Z"
   },
   {
    "duration": 1612,
    "start_time": "2025-01-27T23:21:44.582Z"
   },
   {
    "duration": 9,
    "start_time": "2025-01-27T23:21:46.197Z"
   },
   {
    "duration": 6,
    "start_time": "2025-01-27T23:21:46.207Z"
   },
   {
    "duration": 149,
    "start_time": "2025-01-27T23:21:46.214Z"
   },
   {
    "duration": 226,
    "start_time": "2025-01-27T23:21:46.366Z"
   },
   {
    "duration": 1169,
    "start_time": "2025-01-27T23:21:46.594Z"
   },
   {
    "duration": 985,
    "start_time": "2025-01-27T23:21:47.765Z"
   },
   {
    "duration": 19,
    "start_time": "2025-01-27T23:21:48.752Z"
   },
   {
    "duration": 6,
    "start_time": "2025-01-27T23:21:48.773Z"
   },
   {
    "duration": 1590,
    "start_time": "2025-01-27T23:23:38.665Z"
   },
   {
    "duration": 9,
    "start_time": "2025-01-27T23:23:40.258Z"
   },
   {
    "duration": 6,
    "start_time": "2025-01-27T23:23:40.268Z"
   },
   {
    "duration": 161,
    "start_time": "2025-01-27T23:23:40.276Z"
   },
   {
    "duration": 216,
    "start_time": "2025-01-27T23:23:40.439Z"
   },
   {
    "duration": 1188,
    "start_time": "2025-01-27T23:23:40.657Z"
   },
   {
    "duration": 884,
    "start_time": "2025-01-27T23:23:41.847Z"
   },
   {
    "duration": 19,
    "start_time": "2025-01-27T23:23:42.733Z"
   },
   {
    "duration": 5,
    "start_time": "2025-01-27T23:23:42.754Z"
   },
   {
    "duration": 1645,
    "start_time": "2025-01-27T23:27:57.411Z"
   },
   {
    "duration": 14,
    "start_time": "2025-01-27T23:27:59.058Z"
   },
   {
    "duration": 7,
    "start_time": "2025-01-27T23:27:59.074Z"
   },
   {
    "duration": 153,
    "start_time": "2025-01-27T23:27:59.084Z"
   },
   {
    "duration": 232,
    "start_time": "2025-01-27T23:27:59.239Z"
   },
   {
    "duration": 1184,
    "start_time": "2025-01-27T23:27:59.474Z"
   },
   {
    "duration": 882,
    "start_time": "2025-01-27T23:28:00.660Z"
   },
   {
    "duration": 22,
    "start_time": "2025-01-27T23:28:01.544Z"
   },
   {
    "duration": 6,
    "start_time": "2025-01-27T23:28:01.567Z"
   },
   {
    "duration": 1586,
    "start_time": "2025-01-27T23:29:12.408Z"
   },
   {
    "duration": 10,
    "start_time": "2025-01-27T23:29:13.997Z"
   },
   {
    "duration": 6,
    "start_time": "2025-01-27T23:29:14.009Z"
   },
   {
    "duration": 136,
    "start_time": "2025-01-27T23:29:14.032Z"
   },
   {
    "duration": 226,
    "start_time": "2025-01-27T23:29:14.170Z"
   },
   {
    "duration": 1253,
    "start_time": "2025-01-27T23:29:14.398Z"
   },
   {
    "duration": 869,
    "start_time": "2025-01-27T23:29:15.652Z"
   },
   {
    "duration": 19,
    "start_time": "2025-01-27T23:29:16.531Z"
   },
   {
    "duration": 6,
    "start_time": "2025-01-27T23:29:16.551Z"
   }
  ],
  "kernelspec": {
   "display_name": "Python 3 (ipykernel)",
   "language": "python",
   "name": "python3"
  },
  "language_info": {
   "codemirror_mode": {
    "name": "ipython",
    "version": 3
   },
   "file_extension": ".py",
   "mimetype": "text/x-python",
   "name": "python",
   "nbconvert_exporter": "python",
   "pygments_lexer": "ipython3",
   "version": "3.9.19"
  },
  "toc": {
   "base_numbering": 1,
   "nav_menu": {},
   "number_sections": true,
   "sideBar": true,
   "skip_h1_title": true,
   "title_cell": "Table of Contents",
   "title_sidebar": "Contents",
   "toc_cell": false,
   "toc_position": {},
   "toc_section_display": true,
   "toc_window_display": false
  }
 },
 "nbformat": 4,
 "nbformat_minor": 2
}
