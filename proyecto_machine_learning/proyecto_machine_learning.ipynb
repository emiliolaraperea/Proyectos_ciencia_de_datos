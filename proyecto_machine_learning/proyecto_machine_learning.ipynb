{
 "cells": [
  {
   "cell_type": "markdown",
   "metadata": {},
   "source": [
    "\n",
    "**Comentario del Revisor**\n",
    "\n",
    "Hola!\n",
    "\n",
    "Soy Juan Manuel Romero, pero siéntete libre de llamarme Juanma. Soy code reviewer en Tripleten y hoy estaré revisando tu entrega.\n",
    "\n",
    "Para simular la dinámica de un ambiente de trabajo, si veo algún error, en primer instancia solo los señalaré, dándote la oportunidad de encontrarlos y corregirlos por tu cuenta. En un trabajo real, el líder de tu equipo hará una dinámica similar. En caso de que no puedas resolver la tarea, te daré una información más precisa en la próxima revisión. \n",
    "\n",
    "Solo un aviso rápido: cuando estés revisando el proyecto, por favor deja mis comentarios originales tal como están. De esta manera, podemos seguir fácilmente el progreso y asegurarnos de que no se nos pase nada por alto. Y, si realizas algún cambio basado en mis comentarios, sería genial si pudieras resaltar esas actualizaciones para que se destaquen.\n",
    "\n",
    "Puedes encontrar mis comentarios en cajas verdes, amarillas o rojas como estas:\n",
    "\n",
    "<div class=\"alert alert-block alert-success\"> \n",
    "<b>Comentario del Revisor</b> <a class=\"tocSkip\"></a>\n",
    "\n",
    "Éxito. Todo se ha hecho correctamente.\n",
    "\n",
    "</div>\n",
    "\n",
    "\n",
    "<div class=\"alert alert-block alert-warning\"> \n",
    "<b>Comentario del Revisor</b> <a class=\"tocSkip\"></a>\n",
    "\n",
    "Observaciones. Algunas recomendaciones.\n",
    "\n",
    "</div> \n",
    "\n",
    "\n",
    "<div class=\"alert alert-block alert-danger\">\n",
    "<b>Comentario del Revisor</b> <a class=\"tocSkip\"></a>\n",
    "\n",
    "Requiere corrección. El bloque requiere algunas correcciones. El trabajo no puede ser aceptado con los comentarios en rojo.\n",
    "\n",
    "</div>\n",
    "\n",
    "Puedes responderme usando esto:\n",
    "\n",
    "<div class=\"alert alert-block alert-info\"> <b>Respuesta del estudiante.</b> <a class=\"tocSkip\"></a> </div>"
   ]
  },
  {
   "cell_type": "markdown",
   "metadata": {},
   "source": [
    "Proyecto Machine Learning"
   ]
  },
  {
   "cell_type": "markdown",
   "metadata": {},
   "source": [
    "1. Carga y examinación del archivo de datos"
   ]
  },
  {
   "cell_type": "code",
   "execution_count": 1,
   "metadata": {},
   "outputs": [],
   "source": [
    "import pandas as pd\n",
    "\n",
    "# Ruta del archivo\n",
    "#file_path = '/home/jovyan/work/users_behavior.csv'\n",
    "file_path = \"/datasets/users_behavior.csv\"\n",
    "\n",
    "# Cargar el archivo\n",
    "data = pd.read_csv(file_path)"
   ]
  },
  {
   "cell_type": "markdown",
   "metadata": {},
   "source": [
    "Carga de librerías"
   ]
  },
  {
   "cell_type": "code",
   "execution_count": 2,
   "metadata": {},
   "outputs": [],
   "source": [
    "import numpy as np\n",
    "from sklearn.model_selection import train_test_split\n",
    "from sklearn.ensemble import RandomForestClassifier\n",
    "from sklearn.metrics import accuracy_score, classification_report\n",
    "import matplotlib.pyplot as plt\n",
    "import seaborn as sns"
   ]
  },
  {
   "cell_type": "markdown",
   "metadata": {},
   "source": [
    "Exploración del dataset"
   ]
  },
  {
   "cell_type": "code",
   "execution_count": 3,
   "metadata": {},
   "outputs": [
    {
     "name": "stdout",
     "output_type": "stream",
     "text": [
      "   calls  minutes  messages   mb_used  is_ultra\n",
      "0   40.0   311.90      83.0  19915.42         0\n",
      "1   85.0   516.75      56.0  22696.96         0\n",
      "2   77.0   467.66      86.0  21060.45         0\n",
      "3  106.0   745.53      81.0   8437.39         1\n",
      "4   66.0   418.74       1.0  14502.75         0\n",
      "<class 'pandas.core.frame.DataFrame'>\n",
      "RangeIndex: 3214 entries, 0 to 3213\n",
      "Data columns (total 5 columns):\n",
      " #   Column    Non-Null Count  Dtype  \n",
      "---  ------    --------------  -----  \n",
      " 0   calls     3214 non-null   float64\n",
      " 1   minutes   3214 non-null   float64\n",
      " 2   messages  3214 non-null   float64\n",
      " 3   mb_used   3214 non-null   float64\n",
      " 4   is_ultra  3214 non-null   int64  \n",
      "dtypes: float64(4), int64(1)\n",
      "memory usage: 125.7 KB\n",
      "None\n",
      "             calls      minutes     messages       mb_used     is_ultra\n",
      "count  3214.000000  3214.000000  3214.000000   3214.000000  3214.000000\n",
      "mean     63.038892   438.208787    38.281269  17207.673836     0.306472\n",
      "std      33.236368   234.569872    36.148326   7570.968246     0.461100\n",
      "min       0.000000     0.000000     0.000000      0.000000     0.000000\n",
      "25%      40.000000   274.575000     9.000000  12491.902500     0.000000\n",
      "50%      62.000000   430.600000    30.000000  16943.235000     0.000000\n",
      "75%      82.000000   571.927500    57.000000  21424.700000     1.000000\n",
      "max     244.000000  1632.060000   224.000000  49745.730000     1.000000\n"
     ]
    }
   ],
   "source": [
    "print(data.head())\n",
    "print(data.info())\n",
    "print(data.describe())"
   ]
  },
  {
   "cell_type": "markdown",
   "metadata": {},
   "source": [
    "<div class=\"alert alert-block alert-success\"> \n",
    "<b>Comentario del Revisor #1</b> <a class=\"tocSkip\"></a>\n",
    "\n",
    "Buen trabajo! Has utilizado métodos como _info()_, _head()_ o _describe()_ para analizar los datos. Estos métodos te permiten entender la estructura de los datos, los tipos de variables, la presencia de valores faltantes y obtener una descripción estadística general.\n",
    "\n",
    "</div>"
   ]
  },
  {
   "cell_type": "markdown",
   "metadata": {},
   "source": [
    "2. Segmentación de los datos fuente en un conjunto de entrenamiento, uno de validación y uno de prueba."
   ]
  },
  {
   "cell_type": "markdown",
   "metadata": {},
   "source": [
    "Conjunto de entrenamiento: 60%\n",
    "Conjunto de validación: 20%\n",
    "Conjunto de prueba: 20%"
   ]
  },
  {
   "cell_type": "code",
   "execution_count": 4,
   "metadata": {},
   "outputs": [
    {
     "name": "stdout",
     "output_type": "stream",
     "text": [
      "Tamaños de los conjuntos:\n",
      "Entrenamiento: 1928 muestras\n",
      "Validación: 643 muestras\n",
      "Prueba: 643 muestras\n"
     ]
    }
   ],
   "source": [
    "from sklearn.model_selection import train_test_split\n",
    "\n",
    "# Separar las características (X) y el objetivo (y)\n",
    "X = data.drop(columns=['is_ultra'])\n",
    "y = data['is_ultra']\n",
    "\n",
    "# Dividir el dataset en entrenamiento + validación (80%) y prueba (20%)\n",
    "X_train_val, X_test, y_train_val, y_test = train_test_split(\n",
    "    X, y, test_size=0.2, random_state=42\n",
    ")\n",
    "\n",
    "# Dividir el conjunto de entrenamiento + validación en entrenamiento (60%) y validación (20%)\n",
    "X_train, X_val, y_train, y_val = train_test_split(\n",
    "    X_train_val, y_train_val, test_size=0.25, random_state=42  # 0.25 x 0.8 = 0.2 (20%)\n",
    ")\n",
    "\n",
    "# Confirmar tamaños de los conjuntos\n",
    "print(\"Tamaños de los conjuntos:\")\n",
    "print(f\"Entrenamiento: {X_train.shape[0]} muestras\")\n",
    "print(f\"Validación: {X_val.shape[0]} muestras\")\n",
    "print(f\"Prueba: {X_test.shape[0]} muestras\")"
   ]
  },
  {
   "cell_type": "markdown",
   "metadata": {},
   "source": [
    "<div class=\"alert alert-block alert-success\"> \n",
    "<b>Comentario del Revisor #1</b> <a class=\"tocSkip\"></a>\n",
    "\n",
    "Excelente! Has dividido correctamente los datos en tres conjuntos: _train_, _validation_ y _test_. Dividir los datos de esta forma permite entrenar el modelo en un conjunto, validar su desempeño en otro y finalmente evaluarlo en un conjunto independiente para obtener una medida precisa de su rendimiento. \n",
    "    \n",
    "Además, has utilizado correctamente _train_test_split_ dos veces para dividir los datos en tres conjuntos (entrenamiento, validación y prueba). Este método es el más común para dividir los datos de manera aleatoria, asegurando que cada conjunto tenga una representación justa.\n",
    "\n",
    "</div>"
   ]
  },
  {
   "cell_type": "markdown",
   "metadata": {},
   "source": [
    "3. Investigación de la calidad de diferentes modelos cambiando los hiperparámetros. Descripción breve de los hallazgos del estudio."
   ]
  },
  {
   "cell_type": "markdown",
   "metadata": {},
   "source": [
    "<div class=\"alert alert-block alert-success\"> \n",
    "<b>Comentario del Revisor #1</b> <a class=\"tocSkip\"></a>\n",
    "\n",
    "Muy bien hecho! Has ajustado correctamente los hiperparámetros, lo que es una excelente práctica. Ajustar los hiperparámetros permite optimizar el modelo para obtener el mejor rendimiento posible.\n",
    "\n",
    "</div>"
   ]
  },
  {
   "cell_type": "markdown",
   "metadata": {},
   "source": [
    "Regresión logística:"
   ]
  },
  {
   "cell_type": "code",
   "execution_count": 5,
   "metadata": {},
   "outputs": [
    {
     "name": "stdout",
     "output_type": "stream",
     "text": [
      "Fitting 5 folds for each of 8 candidates, totalling 40 fits\n",
      "Mejores hiperparámetros encontrados: {'C': 1, 'penalty': 'l1', 'solver': 'liblinear'}\n",
      "Exactitud en el conjunto de validación: 0.7434\n"
     ]
    }
   ],
   "source": [
    "from sklearn.linear_model import LogisticRegression\n",
    "from sklearn.metrics import accuracy_score\n",
    "from sklearn.model_selection import GridSearchCV\n",
    "\n",
    "# Inicialización del modelo de regresión logística\n",
    "logreg = LogisticRegression(random_state=42)\n",
    "\n",
    "# Hiperparámetros para ajustar con GridSearchCV\n",
    "param_grid = {\n",
    "    'penalty': ['l1', 'l2'],  # Regularización L1 y L2\n",
    "    'C': [0.01, 0.1, 1, 10],  # Inverso de la regularización\n",
    "    'solver': ['liblinear'],  # Solver adecuado para L1\n",
    "}\n",
    "\n",
    "# Ajuste de hiperparámetros con GridSearchCV\n",
    "grid_search = GridSearchCV(estimator=logreg, param_grid=param_grid, cv=5, n_jobs=-1, verbose=1)\n",
    "grid_search.fit(X_train, y_train)\n",
    "\n",
    "# Mejor conjunto de hiperparámetros\n",
    "print(\"Mejores hiperparámetros encontrados:\", grid_search.best_params_)\n",
    "\n",
    "# Evaluación el modelo en el conjunto de validación\n",
    "y_pred_val = grid_search.predict(X_val)\n",
    "accuracy_val = accuracy_score(y_val, y_pred_val)\n",
    "print(f\"Exactitud en el conjunto de validación: {accuracy_val:.4f}\")"
   ]
  },
  {
   "cell_type": "markdown",
   "metadata": {},
   "source": [
    "Árbol de decisión:"
   ]
  },
  {
   "cell_type": "code",
   "execution_count": 6,
   "metadata": {},
   "outputs": [
    {
     "name": "stdout",
     "output_type": "stream",
     "text": [
      "Fitting 5 folds for each of 24 candidates, totalling 120 fits\n",
      "Mejores hiperparámetros Árbol de Decisión: {'criterion': 'entropy', 'max_depth': 10, 'min_samples_split': 5}\n",
      "Exactitud en el conjunto de validación (Árbol de Decisión): 0.7574\n"
     ]
    }
   ],
   "source": [
    "from sklearn.tree import DecisionTreeClassifier\n",
    "from sklearn.model_selection import GridSearchCV  # Importación necesaria\n",
    "from sklearn.metrics import accuracy_score\n",
    "\n",
    "# Inicialización del modelo de Árbol de Decisión\n",
    "dt = DecisionTreeClassifier(random_state=42)\n",
    "\n",
    "# Hiperparámetros para ajustar con GridSearchCV\n",
    "param_grid_dt = {\n",
    "    'criterion': ['gini', 'entropy'],  # Función de evaluación\n",
    "    'max_depth': [None, 10, 20, 30],  # Profundidad máxima\n",
    "    'min_samples_split': [2, 5, 10],  # Mínimo de muestras para dividir un nodo\n",
    "}\n",
    "\n",
    "# Ajuste de hiperparámetros con GridSearchCV\n",
    "grid_search_dt = GridSearchCV(estimator=dt, param_grid=param_grid_dt, cv=5, n_jobs=-1, verbose=1)\n",
    "grid_search_dt.fit(X_train, y_train)\n",
    "\n",
    "# Mejor conjunto de hiperparámetros\n",
    "print(\"Mejores hiperparámetros Árbol de Decisión:\", grid_search_dt.best_params_)\n",
    "\n",
    "# Evaluación en el conjunto de validación\n",
    "y_pred_val_dt = grid_search_dt.predict(X_val)\n",
    "accuracy_val_dt = accuracy_score(y_val, y_pred_val_dt)\n",
    "print(f\"Exactitud en el conjunto de validación (Árbol de Decisión): {accuracy_val_dt:.4f}\")"
   ]
  },
  {
   "cell_type": "markdown",
   "metadata": {},
   "source": [
    "Random forest:"
   ]
  },
  {
   "cell_type": "code",
   "execution_count": 9,
   "metadata": {},
   "outputs": [
    {
     "name": "stdout",
     "output_type": "stream",
     "text": [
      "Fitting 5 folds for each of 27 candidates, totalling 135 fits\n",
      "Mejores hiperparámetros Random Forest: {'max_depth': 10, 'min_samples_split': 2, 'n_estimators': 200}\n",
      "Exactitud en el conjunto de validación (Random Forest): 0.7932\n"
     ]
    }
   ],
   "source": [
    "from sklearn.ensemble import RandomForestClassifier\n",
    "\n",
    "# Inicialización del modelo de Random Forest\n",
    "rf = RandomForestClassifier(random_state=42)\n",
    "\n",
    "# Hiperparámetros para ajustar con GridSearchCV\n",
    "param_grid_rf = {\n",
    "    'n_estimators': [50, 100, 200],  # Número de árboles\n",
    "    'max_depth': [None, 10, 20],  # Profundidad máxima\n",
    "    'min_samples_split': [2, 5, 10],  # Mínimo de muestras para dividir un nodo\n",
    "}\n",
    "\n",
    "# Ajuste de hiperparámetros con GridSearchCV\n",
    "grid_search_rf = GridSearchCV(estimator=rf, param_grid=param_grid_rf, cv=5, n_jobs=-1, verbose=1)\n",
    "grid_search_rf.fit(X_train, y_train)\n",
    "\n",
    "# Mejor conjunto de hiperparámetros\n",
    "print(\"Mejores hiperparámetros Random Forest:\", grid_search_rf.best_params_)\n",
    "\n",
    "# Evaluación en el conjunto de validación\n",
    "y_pred_val_rf = grid_search_rf.predict(X_val)\n",
    "accuracy_val_rf = accuracy_score(y_val, y_pred_val_rf)\n",
    "print(f\"Exactitud en el conjunto de validación (Random Forest): {accuracy_val_rf:.4f}\")"
   ]
  },
  {
   "cell_type": "markdown",
   "metadata": {},
   "source": [
    "Comparación de resultados:"
   ]
  },
  {
   "cell_type": "code",
   "execution_count": 11,
   "metadata": {},
   "outputs": [
    {
     "name": "stdout",
     "output_type": "stream",
     "text": [
      "                Modelo  Exactitud Validación\n",
      "0  Regresión Logística              0.743390\n",
      "1    Árbol de Decisión              0.757387\n",
      "2        Random Forest              0.793157\n"
     ]
    }
   ],
   "source": [
    "results = pd.DataFrame({\n",
    "    'Modelo': ['Regresión Logística', 'Árbol de Decisión', 'Random Forest'],\n",
    "    'Exactitud Validación': [accuracy_val, accuracy_val_dt, accuracy_val_rf]\n",
    "})\n",
    "\n",
    "print(results)"
   ]
  },
  {
   "cell_type": "markdown",
   "metadata": {},
   "source": [
    "<div class=\"alert alert-block alert-success\"> \n",
    "<b>Comentario del Revisor #1</b> <a class=\"tocSkip\"></a>\n",
    "\n",
    "Muy bien! Has entrenado el modelo únicamente con el conjunto de entrenamiento, lo que es exactamente lo que se debe hacer. Este conjunto contiene los datos con los que el modelo aprende los patrones, y no debe utilizar otros conjuntos durante el entrenamiento.\n",
    "\n",
    "Luego, has validado correctamente el modelo utilizando solo el conjunto de validación. Esta es una práctica esencial para ajustar los hiperparámetros y comparar diferentes modelos sin introducir sesgos\n",
    "\n",
    "</div>"
   ]
  },
  {
   "cell_type": "markdown",
   "metadata": {},
   "source": [
    "Análisis de los Resultados:\n",
    "\n",
    "Regresión Logística (0.7434):\n",
    "Es un modelo base sencillo que proporciona una referencia inicial.\n",
    "Aunque es menos preciso que los otros modelos, es útil para interpretar la relación entre variables y la variable objetivo.\n",
    "\n",
    "Árbol de Decisión (0.7574):\n",
    "Mejoró ligeramente la exactitud en comparación con la regresión logística.\n",
    "Este modelo es fácil de interpretar y explicar, pero puede ser propenso al sobreajuste en datos complejos.\n",
    "\n",
    "Random Forest (0.7932):\n",
    "Fue el modelo más preciso en validación.\n",
    "Combina múltiples árboles de decisión para reducir el riesgo de sobreajuste y mejorar la generalización.\n",
    "Su rendimiento sugiere que las características tienen relaciones complejas que el bosque aleatorio puede capturar."
   ]
  },
  {
   "cell_type": "markdown",
   "metadata": {},
   "source": [
    "Hiperparámetros utilizados:\n",
    "\n",
    "Regresión Logística:\n",
    "penalty: Tipo de regularización (l1 o l2).\n",
    "C: Inverso de la fuerza de regularización.\n",
    "solver: Método de optimización (liblinear).\n",
    "\n",
    "Árbol de Decisión:\n",
    "max_depth: Profundidad máxima del árbol.\n",
    "min_samples_split: Mínimo de muestras necesarias para dividir un nodo.\n",
    "min_samples_leaf: Mínimo de muestras necesarias en una hoja.\n",
    "\n",
    "Random Forest:\n",
    "n_estimators: Número de árboles en el bosque.\n",
    "max_depth: Profundidad máxima de cada árbol.\n",
    "min_samples_split: Mínimo de muestras necesarias para dividir un nodo."
   ]
  },
  {
   "cell_type": "markdown",
   "metadata": {},
   "source": [
    "<div class=\"alert alert-block alert-success\"> \n",
    "<b>Comentario del Revisor #2</b> <a class=\"tocSkip\"></a>\n",
    "\n",
    "Excelentes cambios Emilio! Ahora si ha quedado todo super bien documentado\n",
    "\n",
    "</div>"
   ]
  },
  {
   "cell_type": "markdown",
   "metadata": {},
   "source": [
    "4. Comprobación de la calidad del modelo usando el conjunto de prueba."
   ]
  },
  {
   "cell_type": "code",
   "execution_count": 7,
   "metadata": {},
   "outputs": [
    {
     "name": "stdout",
     "output_type": "stream",
     "text": [
      "Exactitud en el conjunto de prueba: 0.7605\n",
      "Matriz de confusión:\n",
      "[[439  16]\n",
      " [138  50]]\n",
      "Reporte de clasificación:\n",
      "              precision    recall  f1-score   support\n",
      "\n",
      "           0       0.76      0.96      0.85       455\n",
      "           1       0.76      0.27      0.39       188\n",
      "\n",
      "    accuracy                           0.76       643\n",
      "   macro avg       0.76      0.62      0.62       643\n",
      "weighted avg       0.76      0.76      0.72       643\n",
      "\n"
     ]
    }
   ],
   "source": [
    "from sklearn.metrics import accuracy_score, confusion_matrix, classification_report\n",
    "\n",
    "# Entrenamiento del modelo con los mejores hiperparámetros encontrados\n",
    "best_logreg = grid_search.best_estimator_\n",
    "\n",
    "# Realización de predicciones en el conjunto de prueba\n",
    "y_pred_test = best_logreg.predict(X_test)\n",
    "\n",
    "# Cálculo de la exactitud en el conjunto de prueba\n",
    "accuracy_test = accuracy_score(y_test, y_pred_test)\n",
    "print(f\"Exactitud en el conjunto de prueba: {accuracy_test:.4f}\")\n",
    "\n",
    "# Matriz de confusión\n",
    "conf_matrix = confusion_matrix(y_test, y_pred_test)\n",
    "print(\"Matriz de confusión:\")\n",
    "print(conf_matrix)\n",
    "\n",
    "# Reporte de clasificación con precisión, recall y F1-score\n",
    "class_report = classification_report(y_test, y_pred_test)\n",
    "print(\"Reporte de clasificación:\")\n",
    "print(class_report)"
   ]
  },
  {
   "cell_type": "markdown",
   "metadata": {},
   "source": [
    "Exactitud en el conjunto de prueba:\n",
    "\n",
    "Exactitud: 0.7605: El modelo ha alcanzado una exactitud de 76.05% en el conjunto de prueba, lo que es superior al umbral de 0.75 que se estableció al inicio del proyecto. Esto sugiere que el modelo tiene un buen desempeño general.\n",
    "\n",
    "Matriz de confusión:\n",
    "lua\n",
    "\n",
    "[[439  16]\n",
    " [138  50]]\n",
    " \n",
    "439 Verdaderos Negativos (TN): Casos en los que el modelo predijo correctamente la clase \"0\" (Smart).\n",
    "\n",
    "50 Verdaderos Positivos (VP): Casos en los que el modelo predijo correctamente la clase \"1\" (Ultra).\n",
    "\n",
    "16 Falsos Positivos (FP): Casos en los que el modelo predijo erróneamente la clase \"1\" cuando en realidad la clase correcta era \"0\".\n",
    "\n",
    "138 Falsos Negativos (FN): Casos en los que el modelo predijo erróneamente la clase \"0\" cuando en realidad la clase correcta era \"1\".\n",
    "\n",
    "Reporte de clasificación:\n",
    "\n",
    "Clase 0 (Smart):\n",
    "\n",
    "Precisión: 0.76: El modelo tiene un 76% de precisión al predecir la clase 0.\n",
    "\n",
    "Recall: 0.96: El modelo logra identificar correctamente el 96% de los verdaderos casos de la clase 0.\n",
    "\n",
    "F1-Score: 0.85: El modelo tiene un buen balance entre precisión y recall para la clase 0.\n",
    "\n",
    "Clase 1 (Ultra):\n",
    "\n",
    "Precisión: 0.76: El modelo tiene un 76% de precisión al predecir la clase 1.\n",
    "\n",
    "Recall: 0.27: El modelo sólo identifica correctamente el 27% de los verdaderos casos de la clase 1.\n",
    "\n",
    "F1-Score: 0.39: El modelo presenta un bajo desempeño en la clase 1, lo que indica que necesita mejorar en la identificación de los usuarios que deberían estar en el plan Ultra.\n",
    "\n",
    "Promedio macro y ponderado:\n",
    "\n",
    "Macro promedio: La precisión es del 76%, pero el recall y F1-score son menores (62% en promedio). Esto indica que el modelo tiene un buen desempeño en términos generales, pero está sesgado hacia la clase 0 (Smart).\n",
    "\n",
    "Promedio ponderado: Al tener más muestras de la clase 0, las métricas ponderadas reflejan un mejor desempeño general, pero el modelo tiene dificultades para identificar correctamente la clase 1 (Ultra).\n",
    "\n",
    "Conclusión:\n",
    "\n",
    "El modelo ha superado el umbral de exactitud de 0.75, con una exactitud global de 0.76. Sin embargo, el rendimiento para la clase 1 (Ultra) es bajo, especialmente en términos de recall (solo 27%). El modelo está sesgado hacia la clase 0, lo que sugiere que podría mejorarse utilizando técnicas como balanceo de clases o ajuste de pesos en el modelo para mejorar la identificación de los usuarios que deben cambiar al plan Ultra."
   ]
  },
  {
   "cell_type": "markdown",
   "metadata": {},
   "source": [
    "<div class=\"alert alert-block alert-success\"> \n",
    "<b>Comentario del Revisor #1</b> <a class=\"tocSkip\"></a>\n",
    "\n",
    "Has documentado los resultados de manera clara, lo que es crucial para comunicar los hallazgos y justificar la elección del mejor modelo. Explicar el razonamiento detrás de tus decisiones es clave para asegurar que los resultados sean interpretados correctamente.\n",
    "\n",
    "</div>"
   ]
  },
  {
   "cell_type": "markdown",
   "metadata": {},
   "source": [
    "5. Prueba de cordura del modelo (sanity check) "
   ]
  },
  {
   "cell_type": "markdown",
   "metadata": {},
   "source": [
    "Comprobación del modelo base"
   ]
  },
  {
   "cell_type": "code",
   "execution_count": 8,
   "metadata": {},
   "outputs": [
    {
     "name": "stdout",
     "output_type": "stream",
     "text": [
      "Exactitud del modelo base: 0.7076\n"
     ]
    }
   ],
   "source": [
    "from sklearn.dummy import DummyClassifier\n",
    "from sklearn.metrics import accuracy_score\n",
    "\n",
    "# Modelo base: clasificador que predice siempre la clase mayoritaria\n",
    "dummy_clf = DummyClassifier(strategy='most_frequent')\n",
    "dummy_clf.fit(X_train, y_train)\n",
    "\n",
    "# Realización de predicciones en el conjunto de prueba\n",
    "y_pred_dummy = dummy_clf.predict(X_test)\n",
    "\n",
    "# Exactitud del modelo base\n",
    "accuracy_dummy = accuracy_score(y_test, y_pred_dummy)\n",
    "print(f\"Exactitud del modelo base: {accuracy_dummy:.4f}\")"
   ]
  },
  {
   "cell_type": "markdown",
   "metadata": {},
   "source": [
    "La exactitud del modelo base es 0.7076, lo que significa que el modelo que predice siempre la clase mayoritaria (en este caso, \"Smart\" o clase 0) tiene una exactitud del 70.76%. Este valor indica que el modelo base tiene un desempeño relativamente decente debido a que la clase mayoritaria (\"Smart\") representa una porción significativa del conjunto de datos."
   ]
  },
  {
   "cell_type": "markdown",
   "metadata": {},
   "source": [
    "\n",
    "<div class=\"alert alert-block alert-success\"> \n",
    "<b>Comentario del Revisor #2</b> <a class=\"tocSkip\"></a>\n",
    "\n",
    "Felicidades Emilio! Tu trabajo es excelente \n",
    "\n",
    "Has completado todos los items necesarios para aprobar la entrega.\n",
    "\n",
    "</div>"
   ]
  }
 ],
 "metadata": {
  "ExecuteTimeLog": [
   {
    "duration": 798,
    "start_time": "2024-11-21T21:52:57.028Z"
   },
   {
    "duration": 0,
    "start_time": "2024-11-21T21:54:34.859Z"
   },
   {
    "duration": 62,
    "start_time": "2024-11-21T21:54:45.676Z"
   },
   {
    "duration": 62,
    "start_time": "2024-11-21T21:55:44.679Z"
   },
   {
    "duration": 64,
    "start_time": "2024-11-21T21:58:05.777Z"
   },
   {
    "duration": 5,
    "start_time": "2024-11-21T22:09:59.694Z"
   },
   {
    "duration": 64,
    "start_time": "2024-11-21T22:11:19.788Z"
   },
   {
    "duration": 4,
    "start_time": "2024-11-21T22:11:30.041Z"
   },
   {
    "duration": 6,
    "start_time": "2024-11-21T22:12:31.900Z"
   },
   {
    "duration": 4,
    "start_time": "2024-11-21T22:13:41.925Z"
   },
   {
    "duration": 12,
    "start_time": "2024-11-21T22:13:57.378Z"
   },
   {
    "duration": 3,
    "start_time": "2024-11-21T22:15:13.437Z"
   },
   {
    "duration": 5,
    "start_time": "2024-11-21T22:15:27.691Z"
   },
   {
    "duration": 8,
    "start_time": "2024-11-21T22:15:39.287Z"
   },
   {
    "duration": 25,
    "start_time": "2024-11-21T22:15:41.360Z"
   },
   {
    "duration": 21,
    "start_time": "2024-11-21T22:15:46.200Z"
   },
   {
    "duration": 21,
    "start_time": "2024-11-21T22:15:50.503Z"
   },
   {
    "duration": 8,
    "start_time": "2024-11-21T22:27:36.708Z"
   },
   {
    "duration": 331,
    "start_time": "2024-11-21T22:29:39.054Z"
   },
   {
    "duration": 5,
    "start_time": "2024-11-21T22:37:51.406Z"
   },
   {
    "duration": 12,
    "start_time": "2024-11-21T22:38:22.493Z"
   },
   {
    "duration": 328,
    "start_time": "2024-11-21T22:38:37.695Z"
   },
   {
    "duration": 7,
    "start_time": "2024-11-21T22:40:14.717Z"
   },
   {
    "duration": 5,
    "start_time": "2024-11-21T22:42:44.901Z"
   },
   {
    "duration": 849,
    "start_time": "2024-11-22T12:25:39.224Z"
   },
   {
    "duration": 0,
    "start_time": "2024-11-22T12:25:40.075Z"
   },
   {
    "duration": 0,
    "start_time": "2024-11-22T12:25:40.076Z"
   },
   {
    "duration": 0,
    "start_time": "2024-11-22T12:25:40.077Z"
   },
   {
    "duration": 0,
    "start_time": "2024-11-22T12:25:40.078Z"
   },
   {
    "duration": 0,
    "start_time": "2024-11-22T12:25:40.079Z"
   },
   {
    "duration": 1,
    "start_time": "2024-11-22T12:25:40.080Z"
   },
   {
    "duration": 58,
    "start_time": "2024-11-22T12:26:15.029Z"
   },
   {
    "duration": 60,
    "start_time": "2024-11-22T12:26:24.113Z"
   },
   {
    "duration": 11,
    "start_time": "2024-11-22T12:27:08.798Z"
   },
   {
    "duration": 8,
    "start_time": "2024-11-22T12:27:11.073Z"
   },
   {
    "duration": 652,
    "start_time": "2024-11-22T12:27:11.083Z"
   },
   {
    "duration": 23,
    "start_time": "2024-11-22T12:27:11.737Z"
   },
   {
    "duration": 9,
    "start_time": "2024-11-22T12:27:11.761Z"
   },
   {
    "duration": 326,
    "start_time": "2024-11-22T12:27:11.772Z"
   },
   {
    "duration": 16,
    "start_time": "2024-11-22T12:27:12.099Z"
   },
   {
    "duration": 4,
    "start_time": "2024-11-22T12:27:12.117Z"
   },
   {
    "duration": 9,
    "start_time": "2024-11-22T18:59:49.440Z"
   },
   {
    "duration": 920,
    "start_time": "2024-11-22T19:00:55.970Z"
   },
   {
    "duration": 18,
    "start_time": "2024-11-22T19:02:10.070Z"
   },
   {
    "duration": 310,
    "start_time": "2024-11-22T19:02:48.027Z"
   },
   {
    "duration": 2545,
    "start_time": "2024-11-22T19:02:48.339Z"
   },
   {
    "duration": 22,
    "start_time": "2024-11-22T19:02:50.886Z"
   },
   {
    "duration": 6,
    "start_time": "2024-11-22T19:02:50.910Z"
   },
   {
    "duration": 342,
    "start_time": "2024-11-22T19:02:50.931Z"
   },
   {
    "duration": 1037,
    "start_time": "2024-11-22T19:02:51.275Z"
   },
   {
    "duration": 19,
    "start_time": "2024-11-22T19:02:52.314Z"
   },
   {
    "duration": 5,
    "start_time": "2024-11-22T19:02:52.335Z"
   },
   {
    "duration": 37204,
    "start_time": "2024-11-22T19:03:48.412Z"
   },
   {
    "duration": 5,
    "start_time": "2024-11-22T19:04:25.630Z"
   },
   {
    "duration": 3,
    "start_time": "2024-11-22T19:07:15.957Z"
   }
  ],
  "kernelspec": {
   "display_name": "Python 3 (ipykernel)",
   "language": "python",
   "name": "python3"
  },
  "language_info": {
   "codemirror_mode": {
    "name": "ipython",
    "version": 3
   },
   "file_extension": ".py",
   "mimetype": "text/x-python",
   "name": "python",
   "nbconvert_exporter": "python",
   "pygments_lexer": "ipython3",
   "version": "3.9.19"
  },
  "toc": {
   "base_numbering": 1,
   "nav_menu": {},
   "number_sections": true,
   "sideBar": true,
   "skip_h1_title": true,
   "title_cell": "Table of Contents",
   "title_sidebar": "Contents",
   "toc_cell": false,
   "toc_position": {},
   "toc_section_display": true,
   "toc_window_display": false
  }
 },
 "nbformat": 4,
 "nbformat_minor": 2
}
